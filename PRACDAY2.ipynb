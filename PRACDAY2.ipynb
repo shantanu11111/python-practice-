{
 "cells": [
  {
   "cell_type": "markdown",
   "metadata": {
    "application/vnd.databricks.v1+cell": {
     "cellMetadata": {},
     "inputWidgets": {},
     "nuid": "125bbe3c-3f6b-4349-a5d7-c2de7918b41f",
     "showTitle": false,
     "tableResultSettingsMap": {},
     "title": ""
    }
   },
   "source": [
    "###  Check Palindrome Number\n"
   ]
  },
  {
   "cell_type": "code",
   "execution_count": 0,
   "metadata": {
    "application/vnd.databricks.v1+cell": {
     "cellMetadata": {
      "byteLimit": 2048000,
      "rowLimit": 10000
     },
     "inputWidgets": {},
     "nuid": "c44fcbf7-dc2e-43d0-b54f-36bb69d5b223",
     "showTitle": false,
     "tableResultSettingsMap": {},
     "title": ""
    }
   },
   "outputs": [],
   "source": [
    "n=int(input(\"enter number \")) \n",
    "orig=n\n",
    "revn=0\n",
    "while n>0:\n",
    "    rem=n%10\n",
    "    revn=revn*10+rem\n",
    "    n=n//10\n",
    "print(\"reverse number is \",revn)   \n",
    "if orig==revn:\n",
    "    print(\"palindrome\")\n",
    "else:\n",
    "    print(\"not palindrome\")"
   ]
  },
  {
   "cell_type": "markdown",
   "metadata": {
    "application/vnd.databricks.v1+cell": {
     "cellMetadata": {},
     "inputWidgets": {},
     "nuid": "a2f96937-3b40-45fc-aac9-6c62be87cf5d",
     "showTitle": false,
     "tableResultSettingsMap": {},
     "title": ""
    }
   },
   "source": [
    "### 17: Generate Fibonacci series up to 15 terms\n",
    "a series of numbers in which the next number is found by adding up the two numbers before it. The first two numbers are 0 and 1.\n",
    "\n",
    "For example, 0, 1, 1, 2, 3, 5, 8, 13, 21. The next number in this series is 13 + 21 = 34."
   ]
  },
  {
   "cell_type": "code",
   "execution_count": 0,
   "metadata": {
    "application/vnd.databricks.v1+cell": {
     "cellMetadata": {
      "byteLimit": 2048000,
      "rowLimit": 10000
     },
     "inputWidgets": {},
     "nuid": "69c80f7c-fbc1-41d0-91e6-dae0f439d2cc",
     "showTitle": false,
     "tableResultSettingsMap": {},
     "title": ""
    }
   },
   "outputs": [],
   "source": [
    "\n",
    "num1=0\n",
    "num2=1\n",
    "for i in range(15):\n",
    "    res=num2+num1\n",
    "    print(num1,end=\" \" )\n",
    "    num1=num2\n",
    "    num2=res\n"
   ]
  },
  {
   "cell_type": "markdown",
   "metadata": {
    "application/vnd.databricks.v1+cell": {
     "cellMetadata": {},
     "inputWidgets": {},
     "nuid": "85ebd2c5-1c2e-4093-9626-7b957b5449ef",
     "showTitle": false,
     "tableResultSettingsMap": {},
     "title": ""
    }
   },
   "source": [
    "### 18: Check if a given year is a leap year\n",
    " Rules for leap years: a year is a leap year if it’s divisible by 4, unless it’s also divisible by 100 but not by 400."
   ]
  },
  {
   "cell_type": "code",
   "execution_count": 0,
   "metadata": {
    "application/vnd.databricks.v1+cell": {
     "cellMetadata": {
      "byteLimit": 2048000,
      "rowLimit": 10000
     },
     "inputWidgets": {},
     "nuid": "81b8d117-e6d2-4c12-b692-7327101d22f4",
     "showTitle": false,
     "tableResultSettingsMap": {},
     "title": ""
    }
   },
   "outputs": [],
   "source": [
    "n = int(input(\"Enter the year: \"))\n",
    "\n",
    "if n % 4 == 0:\n",
    "    if n % 100 == 0:\n",
    "        if n % 400 == 0:\n",
    "            print(\"Leap year\")\n",
    "        else:\n",
    "            print(\"Not leap year\")\n",
    "    else:\n",
    "        print(\"Leap year\")\n",
    "else:\n",
    "    print(\"Not leap year\")"
   ]
  },
  {
   "cell_type": "markdown",
   "metadata": {
    "application/vnd.databricks.v1+cell": {
     "cellMetadata": {},
     "inputWidgets": {},
     "nuid": "b9fe3483-bc25-400a-9b2c-69560bfbbd28",
     "showTitle": false,
     "tableResultSettingsMap": {},
     "title": ""
    }
   },
   "source": [
    "### 19: Print Alternate Prime Numbers till 20\n",
    "A Prime Number is a number that can only be divided by itself and 1 without remainders (e.g., 2, 3, 5, 7, 11)"
   ]
  },
  {
   "cell_type": "code",
   "execution_count": 0,
   "metadata": {
    "application/vnd.databricks.v1+cell": {
     "cellMetadata": {
      "byteLimit": 2048000,
      "rowLimit": 10000
     },
     "inputWidgets": {},
     "nuid": "3724e460-2e6e-4717-950e-6063af1e21bc",
     "showTitle": false,
     "tableResultSettingsMap": {},
     "title": ""
    }
   },
   "outputs": [],
   "source": [
    "def is_prime(num):\n",
    "    if num <= 1:\n",
    "        return False  \n",
    "    for i in range(2, int(num**0.5) + 1):\n",
    "        if num % i == 0:\n",
    "            return False  \n",
    "    return True \n",
    "\n",
    "print(\"Prime numbers from 1 to 100 are:\")\n",
    "for number in range(1, 101):\n",
    "    if is_prime(number):\n",
    "        print(number, end=\" \")"
   ]
  },
  {
   "cell_type": "code",
   "execution_count": 0,
   "metadata": {
    "application/vnd.databricks.v1+cell": {
     "cellMetadata": {
      "byteLimit": 2048000,
      "rowLimit": 10000
     },
     "inputWidgets": {},
     "nuid": "419c271f-357e-46c8-bd87-dbc931ad93c3",
     "showTitle": false,
     "tableResultSettingsMap": {},
     "title": ""
    }
   },
   "outputs": [],
   "source": [
    "def prime(num):\n",
    "    if num<=1:\n",
    "        return False\n",
    "    for  i in range(2,int(num**.5)+1):\n",
    "        if num%i==0:\n",
    "            return False\n",
    "    return True\n",
    "print(\"enter the range till you want \")\n",
    "a=int(input())\n",
    "for i in range(1,a+1):\n",
    "    if prime(i):\n",
    "        print(i,end=\" \")"
   ]
  },
  {
   "cell_type": "markdown",
   "metadata": {
    "application/vnd.databricks.v1+cell": {
     "cellMetadata": {},
     "inputWidgets": {},
     "nuid": "e66ae7e6-3cdb-48ad-87ca-e6fe5efdbfa1",
     "showTitle": false,
     "tableResultSettingsMap": {},
     "title": ""
    }
   },
   "source": [
    "### 20: Print Reverse Number Pattern\n",
    "1 1 1 1 1 \n",
    "\n",
    "2 2 2 2 \n",
    "\n",
    "3 3 3 \n",
    "\n",
    "4 4 \n",
    "\n",
    "5 "
   ]
  },
  {
   "cell_type": "code",
   "execution_count": 0,
   "metadata": {
    "application/vnd.databricks.v1+cell": {
     "cellMetadata": {
      "byteLimit": 2048000,
      "rowLimit": 10000
     },
     "inputWidgets": {},
     "nuid": "9f230e52-b812-46d1-9b95-ebf24bee4d15",
     "showTitle": false,
     "tableResultSettingsMap": {},
     "title": ""
    }
   },
   "outputs": [],
   "source": [
    "i=0\n",
    "j=6\n",
    "for i in range(1,6):\n",
    "  for j in range(1,j):\n",
    "    print(i,end=' ')\n",
    "  print('\\n')\n",
    "i=i+1\n"
   ]
  },
  {
   "cell_type": "markdown",
   "metadata": {
    "application/vnd.databricks.v1+cell": {
     "cellMetadata": {},
     "inputWidgets": {},
     "nuid": "b30c2dd4-edde-46d3-8167-6e088fed2d28",
     "showTitle": false,
     "tableResultSettingsMap": {},
     "title": ""
    }
   },
   "source": [
    "###  Check if a user-entered string contains any digits using a for loop\n",
    "Enter a string: Pynative123Python\n",
    "The string contains at least one digit.\n",
    "\n",
    "Enter a string: PYnative\n",
    "The string does not contain any digits."
   ]
  },
  {
   "cell_type": "code",
   "execution_count": 0,
   "metadata": {
    "application/vnd.databricks.v1+cell": {
     "cellMetadata": {
      "byteLimit": 2048000,
      "rowLimit": 10000
     },
     "inputWidgets": {},
     "nuid": "789905a8-3466-460b-bfb9-1fbcd48143b4",
     "showTitle": false,
     "tableResultSettingsMap": {},
     "title": ""
    }
   },
   "outputs": [],
   "source": [
    "st=input(\"enter the string \")\n",
    "l=len(st)\n",
    "count=0\n",
    "for i in range(l):\n",
    "    if st[i] in ['1','2','3','4','5','6','7','8','9','0']:\n",
    "        count+=1\n",
    "if count>1:\n",
    "    print(\"The string contains at least one digit.\")\n",
    "else:\n",
    "    print(\"The string does not contain any digits.\")\n"
   ]
  },
  {
   "cell_type": "code",
   "execution_count": 0,
   "metadata": {
    "application/vnd.databricks.v1+cell": {
     "cellMetadata": {
      "byteLimit": 2048000,
      "rowLimit": 10000
     },
     "inputWidgets": {},
     "nuid": "dc7f1359-826a-42c6-91f9-4f7db004bc6e",
     "showTitle": false,
     "tableResultSettingsMap": {},
     "title": ""
    }
   },
   "outputs": [],
   "source": [
    "st=input(\"enter the string \")\n",
    "for char in st:\n",
    "    if '0' <= char <= '9':\n",
    "        print(\"The string contains at least one digit.\")\n",
    "        break\n",
    "else:\n",
    "    print(\"The string does not contain any digits.\")\n"
   ]
  },
  {
   "cell_type": "markdown",
   "metadata": {
    "application/vnd.databricks.v1+cell": {
     "cellMetadata": {},
     "inputWidgets": {},
     "nuid": "2c5d27c1-66ae-4d5e-bbf8-f480805a09b0",
     "showTitle": false,
     "tableResultSettingsMap": {},
     "title": ""
    }
   },
   "source": [
    "### 22: Capitalize the first letter of each word in a string"
   ]
  },
  {
   "cell_type": "code",
   "execution_count": 0,
   "metadata": {
    "application/vnd.databricks.v1+cell": {
     "cellMetadata": {
      "byteLimit": 2048000,
      "rowLimit": 10000
     },
     "inputWidgets": {},
     "nuid": "2c798bd7-baa7-4cf8-83b6-f7ee43da01a9",
     "showTitle": false,
     "tableResultSettingsMap": {},
     "title": ""
    }
   },
   "outputs": [],
   "source": [
    "st=input(\"enter the string \")\n",
    "b=st.split()\n",
    "print(b)\n",
    "for i in range(len(b)):\n",
    "    b[i]=b[i].capitalize()\n",
    "print(b)\n",
    "st=\" \".join(b)\n",
    "print(st)\n",
    "print(st.capitalize())\n"
   ]
  },
  {
   "cell_type": "markdown",
   "metadata": {
    "application/vnd.databricks.v1+cell": {
     "cellMetadata": {},
     "inputWidgets": {},
     "nuid": "87b13ae2-e0a1-427c-aee6-e4468ed27c5c",
     "showTitle": false,
     "tableResultSettingsMap": {},
     "title": ""
    }
   },
   "source": [
    "### 23: Create a simple countdown timer using a while loop\n",
    "Write a code to create a simple countdown timer of 5 seconds using a while loop.\n",
    "\n",
    "Once the timer finishes (when the remaining time reaches zero), print a “Time’s up!” messag"
   ]
  },
  {
   "cell_type": "code",
   "execution_count": 0,
   "metadata": {
    "application/vnd.databricks.v1+cell": {
     "cellMetadata": {
      "byteLimit": 2048000,
      "rowLimit": 10000
     },
     "inputWidgets": {},
     "nuid": "9c0242fc-0b9d-48e6-84ef-6d3c6751fa0e",
     "showTitle": false,
     "tableResultSettingsMap": {},
     "title": ""
    }
   },
   "outputs": [],
   "source": [
    "N = int(input(\"Enter the number: \"))\n",
    "i = 1\n",
    "while i <= N:\n",
    "    print(N)\n",
    "    N=N-1\n",
    "print('Time’s up!')"
   ]
  },
  {
   "cell_type": "code",
   "execution_count": 0,
   "metadata": {
    "application/vnd.databricks.v1+cell": {
     "cellMetadata": {
      "byteLimit": 2048000,
      "rowLimit": 10000
     },
     "inputWidgets": {},
     "nuid": "89917473-5643-4a2d-b82c-3c45886e5a22",
     "showTitle": false,
     "tableResultSettingsMap": {},
     "title": ""
    }
   },
   "outputs": [],
   "source": [
    "import time\n",
    "\n",
    "def countdown_timer(seconds):\n",
    "  \n",
    "  while seconds > 0:\n",
    "    print(f\"Time remaining: {seconds} seconds\")\n",
    "    time.sleep(1)  # Pause for 1 second\n",
    "    seconds -= 1\n",
    "\n",
    "  print(\"Time's up!\")\n",
    "\n",
    "# Get the countdown duration from the user\n",
    "duration = 5\n",
    "countdown_timer(duration)"
   ]
  },
  {
   "cell_type": "code",
   "execution_count": 0,
   "metadata": {
    "application/vnd.databricks.v1+cell": {
     "cellMetadata": {
      "byteLimit": 2048000,
      "rowLimit": 10000
     },
     "inputWidgets": {},
     "nuid": "f8bafe26-fe49-4edc-88f0-4c94f3a1208b",
     "showTitle": false,
     "tableResultSettingsMap": {},
     "title": ""
    }
   },
   "outputs": [],
   "source": [
    "import time\n",
    "sec=int(input(\"enter the time in seconds\"))\n",
    "while sec>0:\n",
    "  print(sec)\n",
    "  sec-=1\n",
    "  time.sleep(1)\n",
    "print(\"time's up\")"
   ]
  },
  {
   "cell_type": "markdown",
   "metadata": {
    "application/vnd.databricks.v1+cell": {
     "cellMetadata": {},
     "inputWidgets": {},
     "nuid": "460ce632-8a85-46b1-9d15-629c989dc210",
     "showTitle": false,
     "tableResultSettingsMap": {},
     "title": ""
    }
   },
   "source": [
    "# section 2\n",
    "### 1: Accept Numbers From User\n",
    "Write a program to accept two integer numbers from the user and calculate their product.\n",
    "\n"
   ]
  },
  {
   "cell_type": "code",
   "execution_count": 0,
   "metadata": {
    "application/vnd.databricks.v1+cell": {
     "cellMetadata": {
      "byteLimit": 2048000,
      "rowLimit": 10000
     },
     "inputWidgets": {},
     "nuid": "5cefbcf1-3524-4ef0-a5fa-4900f332e8b5",
     "showTitle": false,
     "tableResultSettingsMap": {},
     "title": ""
    }
   },
   "outputs": [],
   "source": [
    "\n",
    "N1=int(input(\"enter number 1\"))\n",
    "N2=int(input(\"enter number 2\"))\n",
    "m=N1*N2\n",
    "print(m)\n"
   ]
  },
  {
   "cell_type": "markdown",
   "metadata": {
    "application/vnd.databricks.v1+cell": {
     "cellMetadata": {},
     "inputWidgets": {},
     "nuid": "904ad98a-2cdd-49cc-8c9b-026b8c0311f4",
     "showTitle": false,
     "tableResultSettingsMap": {},
     "title": ""
    }
   },
   "source": [
    "### 2: Format Output String\n",
    "Write a program to display four string “My, “Name“, “Is“, “James” as “My**Name**Is**James“.Display the ** separator between each string."
   ]
  },
  {
   "cell_type": "code",
   "execution_count": 0,
   "metadata": {
    "application/vnd.databricks.v1+cell": {
     "cellMetadata": {
      "byteLimit": 2048000,
      "rowLimit": 10000
     },
     "inputWidgets": {},
     "nuid": "571a4b06-4c0f-4c62-a50b-cf7f16b0a46a",
     "showTitle": false,
     "tableResultSettingsMap": {},
     "title": ""
    }
   },
   "outputs": [],
   "source": [
    "str1 = 'My'\n",
    "str2 = 'Name'\n",
    "str3 = 'Is'\n",
    "str4 = 'James'\n",
    "print(str1 + '**' + str2 + '**' + str3 + '**' + str4)\n",
    "print(str1, str2, str3, str4, sep='|')"
   ]
  },
  {
   "cell_type": "markdown",
   "metadata": {
    "application/vnd.databricks.v1+cell": {
     "cellMetadata": {},
     "inputWidgets": {},
     "nuid": "b6aabc72-aa27-4927-98ba-1d7217ef68fc",
     "showTitle": false,
     "tableResultSettingsMap": {},
     "title": ""
    }
   },
   "source": [
    "3: Display Decimal Number to Octal using print() function"
   ]
  },
  {
   "cell_type": "code",
   "execution_count": 0,
   "metadata": {
    "application/vnd.databricks.v1+cell": {
     "cellMetadata": {
      "byteLimit": 2048000,
      "rowLimit": 10000
     },
     "inputWidgets": {},
     "nuid": "98b8ab79-4d54-43a1-9e5e-99fec555df8e",
     "showTitle": false,
     "tableResultSettingsMap": {},
     "title": ""
    }
   },
   "outputs": [],
   "source": [
    "num=int(input(\"enter the number\"))\n",
    "print(oct(num))\n",
    "print('%o' % num)\n",
    "\n",
    "print(hex(num))\n",
    "print(bin(num))"
   ]
  },
  {
   "cell_type": "markdown",
   "metadata": {
    "application/vnd.databricks.v1+cell": {
     "cellMetadata": {},
     "inputWidgets": {},
     "nuid": "1f19aa0c-1ef7-4859-ba34-34bab50d992f",
     "showTitle": false,
     "tableResultSettingsMap": {},
     "title": ""
    }
   },
   "source": [
    "### 4: Display Float Number with 2 Decimal Places\n",
    "\n",
    "4.444444449999\n",
    "4.44\n"
   ]
  },
  {
   "cell_type": "code",
   "execution_count": 0,
   "metadata": {
    "application/vnd.databricks.v1+cell": {
     "cellMetadata": {
      "byteLimit": 2048000,
      "rowLimit": 10000
     },
     "inputWidgets": {},
     "nuid": "c02ba44e-3a34-4a7f-8758-0dbd7d52f45a",
     "showTitle": false,
     "tableResultSettingsMap": {},
     "title": ""
    }
   },
   "outputs": [],
   "source": [
    "N=float(input(\"enter the number\"))\n",
    "print(round(N,2))\n",
    "print('%.2f' %N)\n"
   ]
  },
  {
   "cell_type": "markdown",
   "metadata": {
    "application/vnd.databricks.v1+cell": {
     "cellMetadata": {},
     "inputWidgets": {},
     "nuid": "06122eed-654f-478a-9c21-ae49a791526d",
     "showTitle": false,
     "tableResultSettingsMap": {},
     "title": ""
    }
   },
   "source": [
    "### 5: Accept a list of 5 float numbers as an input from the user\n",
    "[78.6, 78.6, 85.3, 1.2, 3.5]\n",
    "\n"
   ]
  },
  {
   "cell_type": "code",
   "execution_count": 0,
   "metadata": {
    "application/vnd.databricks.v1+cell": {
     "cellMetadata": {
      "byteLimit": 2048000,
      "rowLimit": 10000
     },
     "inputWidgets": {},
     "nuid": "240995b0-5169-46d2-a5c8-6a7e9fa0062a",
     "showTitle": false,
     "tableResultSettingsMap": {},
     "title": ""
    }
   },
   "outputs": [],
   "source": [
    "b=list(map(float,input(\"enter the numbers\").split()))\n",
    "num=[]\n",
    "for i in range(5):\n",
    "  intem=input(\"enter the dtring \")\n",
    "  item=float(intem)\n",
    "  num.append(intem)\n",
    "print(num)\n",
    "print(b)\n"
   ]
  },
  {
   "cell_type": "markdown",
   "metadata": {
    "application/vnd.databricks.v1+cell": {
     "cellMetadata": {},
     "inputWidgets": {},
     "nuid": "06a0f225-4f9e-411a-bd4f-f56bbe56f1e1",
     "showTitle": false,
     "tableResultSettingsMap": {},
     "title": ""
    }
   },
   "source": [
    "###  Write all content of a file into a new file by skipping line number 5"
   ]
  },
  {
   "cell_type": "code",
   "execution_count": 0,
   "metadata": {
    "application/vnd.databricks.v1+cell": {
     "cellMetadata": {
      "byteLimit": 2048000,
      "rowLimit": 10000
     },
     "inputWidgets": {},
     "nuid": "10ef0d89-d8eb-44cf-a911-1c600069cec7",
     "showTitle": false,
     "tableResultSettingsMap": {},
     "title": ""
    }
   },
   "outputs": [],
   "source": [
    "#count=0\n",
    "with open(\"sam.txt\", \"r\") as src ,open ('xyz.txt','w') as des:\n",
    "  for line in src:\n",
    "    #if count==4:\n",
    "    #continue\n",
    "    des.write(line) \n",
    "    #count+=1"
   ]
  },
  {
   "cell_type": "code",
   "execution_count": 0,
   "metadata": {
    "application/vnd.databricks.v1+cell": {
     "cellMetadata": {
      "byteLimit": 2048000,
      "rowLimit": 10000
     },
     "inputWidgets": {},
     "nuid": "a76f9788-9041-420e-baf6-d398ee3a2a20",
     "showTitle": false,
     "tableResultSettingsMap": {},
     "title": ""
    }
   },
   "outputs": [],
   "source": [
    "with open(\"sam.txt\", \"r\") as fp:\n",
    "    lines = fp.readlines()\n",
    "\n",
    "with open(\"/Workspace/Users/shantanu081999@gmail.com/python-practice-/xyz.txt\", \"w\") as fp:\n",
    "    count = 0\n",
    "    for line in lines:\n",
    "        if count == 4:\n",
    "            count += 1\n",
    "            continue\n",
    "        else:\n",
    "            fp.write(line)\n",
    "        count += 1"
   ]
  },
  {
   "cell_type": "markdown",
   "metadata": {
    "application/vnd.databricks.v1+cell": {
     "cellMetadata": {},
     "inputWidgets": {},
     "nuid": "3c33133b-a740-4476-98e7-0fcb54886579",
     "showTitle": false,
     "tableResultSettingsMap": {},
     "title": ""
    }
   },
   "source": [
    "###  Accept any three string from one input() call\n",
    "Write a program to take three names as input from the user in a single call to the input() function."
   ]
  },
  {
   "cell_type": "code",
   "execution_count": 0,
   "metadata": {
    "application/vnd.databricks.v1+cell": {
     "cellMetadata": {
      "byteLimit": 2048000,
      "rowLimit": 10000
     },
     "inputWidgets": {},
     "nuid": "31c1edc5-39e0-428e-99c5-0b9b659acccc",
     "showTitle": false,
     "tableResultSettingsMap": {},
     "title": ""
    }
   },
   "outputs": [],
   "source": [
    "str1, str2, str3 = input(\"Enter three string\").split()\n",
    "print('Name1:', str1)\n",
    "print('Name2:', str2)\n",
    "print('Name3:', str3)"
   ]
  }
 ],
 "metadata": {
  "application/vnd.databricks.v1+notebook": {
   "computePreferences": null,
   "dashboards": [],
   "environmentMetadata": {
    "base_environment": "",
    "environment_version": "2"
   },
   "inputWidgetPreferences": null,
   "language": "python",
   "notebookMetadata": {
    "pythonIndentUnit": 4
   },
   "notebookName": "PRACDAY2",
   "widgets": {}
  },
  "language_info": {
   "name": "python"
  }
 },
 "nbformat": 4,
 "nbformat_minor": 0
}
