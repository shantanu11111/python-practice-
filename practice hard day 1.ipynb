{
 "cells": [
  {
   "cell_type": "markdown",
   "metadata": {
    "application/vnd.databricks.v1+cell": {
     "cellMetadata": {},
     "inputWidgets": {},
     "nuid": "1534f5a3-ad1f-4cd3-a461-0addf3e7bb06",
     "showTitle": false,
     "tableResultSettingsMap": {},
     "title": ""
    }
   },
   "source": [
    "### **1. Format a Full Table Using Variables\n",
    "You are given these variables:\n",
    "\n",
    "name1 = \"Shantanu\"\n",
    "age1 = 25\n",
    "city1 = \"Delhi\"\n",
    "\n",
    "name2 = \"Riya\"\n",
    "age2 = 22\n",
    "city2 = \"Mumbai\"\n",
    "\n",
    "\n",
    "Name       Age   City\n",
    "Shantanu   25    Delhi\n",
    "Riya       22    Mumbai\n",
    "\n",
    "**"
   ]
  },
  {
   "cell_type": "code",
   "execution_count": 0,
   "metadata": {
    "application/vnd.databricks.v1+cell": {
     "cellMetadata": {
      "byteLimit": 2048000,
      "rowLimit": 10000
     },
     "inputWidgets": {},
     "nuid": "992214b4-622e-4f9c-a566-33cf388bcc8a",
     "showTitle": false,
     "tableResultSettingsMap": {},
     "title": ""
    }
   },
   "outputs": [],
   "source": [
    "name1 = \"Shantanu\"\n",
    "age1 = 25\n",
    "city1 = \"Delhi\"\n",
    "\n",
    "name2 = \"Riya\"\n",
    "age2 = 22\n",
    "city2 = \"Mumbai\"\n",
    "print(f\"{'Name':<10} {'Age':<5} {'City'}\")\n",
    "print(f\"{name1:<10} {age1:<5} {city1}\")\n",
    "print(f\"{name2:<10} {age2:<5} {city2}\")\n",
    "#:<10 means left-align in a field of width 10\n",
    "\n",
    "#:<5 means left-align in a field of width 5\n",
    "\n",
    "#This ensures proper spacing and alignment of the table columns."
   ]
  },
  {
   "cell_type": "markdown",
   "metadata": {
    "application/vnd.databricks.v1+cell": {
     "cellMetadata": {},
     "inputWidgets": {},
     "nuid": "71508c81-6945-497b-b741-33f2b7b34148",
     "showTitle": false,
     "tableResultSettingsMap": {},
     "title": ""
    }
   },
   "source": [
    "### 2. Dynamic Sentence Using Multiple Data Types\n",
    "Create variables:\n",
    "\n",
    "python\n",
    "Copy\n",
    "Edit\n",
    "name = \"Shantanu\"\n",
    "age = \"25\"  # string\n",
    "score = 88.7  # float\n",
    "Now print a sentence:\n",
    "\"Shantanu is 25 years old and scored 88.7 marks.\"\n",
    "But before that:\n",
    "\n",
    "Convert age to integer\n",
    "\n",
    "Round the score to 1 decimal place\n",
    "\n",
    "Use f-string or format() to build the sentence"
   ]
  },
  {
   "cell_type": "code",
   "execution_count": 0,
   "metadata": {
    "application/vnd.databricks.v1+cell": {
     "cellMetadata": {
      "byteLimit": 2048000,
      "rowLimit": 10000
     },
     "inputWidgets": {},
     "nuid": "a09b22bc-4d20-4628-a725-6eb3d0bed326",
     "showTitle": false,
     "tableResultSettingsMap": {},
     "title": ""
    }
   },
   "outputs": [],
   "source": [
    "name = \"Shantanu\"\n",
    "age = \"25\"  # string\n",
    "score = 88.777  # float\n",
    "\n",
    "age=int(age)\n",
    "score=round(score,1)\n",
    "print(f\"{name} is {age} years old and scored {score}\"  )"
   ]
  },
  {
   "cell_type": "markdown",
   "metadata": {
    "application/vnd.databricks.v1+cell": {
     "cellMetadata": {},
     "inputWidgets": {},
     "nuid": "6c437e9b-19d8-4edf-b277-56c2bc9d8899",
     "showTitle": false,
     "tableResultSettingsMap": {},
     "title": ""
    }
   },
   "source": [
    "### 3. Complex Boolean Expression\n",
    "Set:\n",
    "\n",
    "python\n",
    "Copy\n",
    "Edit\n",
    "x = 5\n",
    "y = 10\n",
    "z = 15\n",
    "Write a single line Boolean expression that returns True only if:\n",
    "\n",
    "x is less than y\n",
    "\n",
    "z is greater than y\n",
    "\n",
    "y is not equal to 0\n",
    "\n",
    "(z minus x) is greater than (y divided by x)"
   ]
  },
  {
   "cell_type": "code",
   "execution_count": 0,
   "metadata": {
    "application/vnd.databricks.v1+cell": {
     "cellMetadata": {
      "byteLimit": 2048000,
      "rowLimit": 10000
     },
     "inputWidgets": {},
     "nuid": "4fcc8a27-9f26-4725-a049-f1675f4a7982",
     "showTitle": false,
     "tableResultSettingsMap": {},
     "title": ""
    }
   },
   "outputs": [],
   "source": [
    "x = 5\n",
    "y = 10\n",
    "z = 15\n",
    "result=(x<y) and (z>y) and (y!=0) and ((z-x)>(y/x))\n",
    "print(result)"
   ]
  },
  {
   "cell_type": "markdown",
   "metadata": {
    "application/vnd.databricks.v1+cell": {
     "cellMetadata": {},
     "inputWidgets": {},
     "nuid": "2913b9d0-3ff8-4d21-80e1-1be03d2c62fc",
     "showTitle": false,
     "tableResultSettingsMap": {},
     "title": ""
    }
   },
   "source": [
    "### 4. Build a Secret Message from a String\n",
    "text = \"p#y!t$h@o^n_123\"\n",
    "\n",
    "\n",
    "Use only string slicing and concatenation to extract and print: \"python\"\n",
    "(Do not use replace(), loops, or regex)"
   ]
  },
  {
   "cell_type": "code",
   "execution_count": 0,
   "metadata": {
    "application/vnd.databricks.v1+cell": {
     "cellMetadata": {
      "byteLimit": 2048000,
      "rowLimit": 10000
     },
     "inputWidgets": {},
     "nuid": "ebf9c407-4d0d-4fb2-b8c7-7dfafa33854b",
     "showTitle": false,
     "tableResultSettingsMap": {},
     "title": ""
    }
   },
   "outputs": [],
   "source": [
    "text = \"p#y!t$h@o^n_123\"\n",
    "t=(text[:-3:2])\n",
    "print(t)\n"
   ]
  },
  {
   "cell_type": "markdown",
   "metadata": {
    "application/vnd.databricks.v1+cell": {
     "cellMetadata": {},
     "inputWidgets": {},
     "nuid": "4e37b17f-a150-408a-b1c0-91d42bc76d64",
     "showTitle": false,
     "tableResultSettingsMap": {},
     "title": ""
    }
   },
   "source": [
    "### 5. Global Variable Modification via Arithmetic\n",
    "\n",
    "a = 10\n",
    "b = 5\n",
    "Write a function that modifies a globally by setting it equal to a * b + 15, and then prints the new value of a.\n",
    "\n"
   ]
  },
  {
   "cell_type": "code",
   "execution_count": 0,
   "metadata": {
    "application/vnd.databricks.v1+cell": {
     "cellMetadata": {
      "byteLimit": 2048000,
      "rowLimit": 10000
     },
     "inputWidgets": {},
     "nuid": "b2779d57-3b85-49cf-8055-acc756f8d677",
     "showTitle": false,
     "tableResultSettingsMap": {},
     "title": ""
    }
   },
   "outputs": [],
   "source": [
    "a = 10\n",
    "b=5\n",
    "\n",
    "def myfunc():\n",
    "  global a\n",
    "  a= a*b+15 \n",
    "  print(\"Python is \",a)\n",
    "\n",
    "myfunc()\n",
    "\n",
    "print(\"Python is \" , a)"
   ]
  }
 ],
 "metadata": {
  "application/vnd.databricks.v1+notebook": {
   "computePreferences": null,
   "dashboards": [],
   "environmentMetadata": {
    "base_environment": "",
    "environment_version": "2"
   },
   "inputWidgetPreferences": null,
   "language": "python",
   "notebookMetadata": {
    "pythonIndentUnit": 4
   },
   "notebookName": "practice hard day 1",
   "widgets": {}
  },
  "language_info": {
   "name": "python"
  }
 },
 "nbformat": 4,
 "nbformat_minor": 0
}
