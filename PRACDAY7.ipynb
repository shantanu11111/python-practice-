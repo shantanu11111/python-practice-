{
 "cells": [
  {
   "cell_type": "markdown",
   "metadata": {
    "application/vnd.databricks.v1+cell": {
     "cellMetadata": {},
     "inputWidgets": {},
     "nuid": "2f13d2bb-816e-4b29-bc33-550c75071d12",
     "showTitle": false,
     "tableResultSettingsMap": {},
     "title": ""
    }
   },
   "source": [
    "1: List Creation using two lists\n",
    "Write a code to create a new list using odd-indexed elements from the first list and even-indexed elements from the second\n",
    "\n",
    "Given two lists, l1 and l2, write a program to create a third list l3 by picking an odd-index element from the list l1 and even index elements from the list l2.\n",
    "\n",
    "Given:\n",
    "\n",
    "l1 = [3, 6, 9, 12, 15, 18, 21]\n",
    "l2 = [4, 8, 12, 16, 20, 24, 28]\n",
    "Expected Output:\n",
    "\n",
    "Element at odd-index positions from list one\n",
    "[6, 12, 18]\n",
    "Element at even-index positions from list two\n",
    "[4, 12, 20, 28]\n",
    "\n",
    "Printing Final third list\n",
    "[6, 12, 18, 4, 12, 20, 28]"
   ]
  },
  {
   "cell_type": "code",
   "execution_count": 0,
   "metadata": {
    "application/vnd.databricks.v1+cell": {
     "cellMetadata": {
      "byteLimit": 2048000,
      "rowLimit": 10000
     },
     "inputWidgets": {},
     "nuid": "639f60b5-27c3-48d1-baf4-7331cfd38f60",
     "showTitle": false,
     "tableResultSettingsMap": {},
     "title": ""
    }
   },
   "outputs": [],
   "source": [
    "l1 = [3, 6, 9, 12, 15, 18, 21]\n",
    "l2 = [4, 8, 12, 16, 20, 24, 28]\n",
    "l3=[]\n",
    "l4=[]\n",
    "l5=[]\n",
    "for i in l1[1::2]:\n",
    "  l3.append(i)\n",
    "print('odd elemnt of list are',l3)\n",
    "#l3=l2[1::2] also \n",
    "for i in l2[::2]:\n",
    "  l4.append(i)\n",
    "print('even elemnt of list are',l4)\n",
    "#l4=l2[::2] also \n",
    "l5=l3+l4\n",
    "print('final list is',l5)"
   ]
  },
  {
   "cell_type": "markdown",
   "metadata": {
    "application/vnd.databricks.v1+cell": {
     "cellMetadata": {},
     "inputWidgets": {},
     "nuid": "91892780-adbd-480c-87af-da3e4e1e7247",
     "showTitle": false,
     "tableResultSettingsMap": {},
     "title": ""
    }
   },
   "source": [
    "Write a program to remove the item present at index 4 and add it to the 2nd position and at the end of the list.\n",
    "\n",
    "Given:\n",
    "\n",
    "list1 = [54, 44, 27, 79, 91, 41]\n",
    "Expected Output:\n",
    "\n",
    "List After removing element at index 4  [34, 54, 67, 89, 43, 94]\n",
    "List after Adding element at index 2  [34, 54, 11, 67, 89, 43, 94]\n",
    "List after Adding element at last  [34, 54, 11, 67, 89, 43, 94, 11]"
   ]
  },
  {
   "cell_type": "code",
   "execution_count": 0,
   "metadata": {
    "application/vnd.databricks.v1+cell": {
     "cellMetadata": {
      "byteLimit": 2048000,
      "rowLimit": 10000
     },
     "inputWidgets": {},
     "nuid": "da5e24d7-07d0-4ccd-8950-2d3e3681200e",
     "showTitle": false,
     "tableResultSettingsMap": {},
     "title": ""
    }
   },
   "outputs": [],
   "source": [
    "\n",
    "list2 = [54, 44, 27, 79, 91, 41]\n",
    "\n",
    "list1 = list2.copy()\n",
    "list1.pop(4)\n",
    "print('list after removing 4th element',list1)\n",
    "list1.insert(1,list2[4])\n",
    "print('list after inserting poped item inn 2nd pace ',list1)\n",
    "list1.insert(len(list1),list2[4])\n",
    "print(list1)\n",
    "\n"
   ]
  },
  {
   "cell_type": "markdown",
   "metadata": {
    "application/vnd.databricks.v1+cell": {
     "cellMetadata": {},
     "inputWidgets": {},
     "nuid": "326a31df-ded2-42a5-ab52-a0ae121bd0fc",
     "showTitle": false,
     "tableResultSettingsMap": {},
     "title": ""
    }
   },
   "source": [
    "Slice list into 3 equal chunks and reverse each chunk\n",
    "Given:"
   ]
  },
  {
   "cell_type": "code",
   "execution_count": 0,
   "metadata": {
    "application/vnd.databricks.v1+cell": {
     "cellMetadata": {
      "byteLimit": 2048000,
      "rowLimit": 10000
     },
     "inputWidgets": {},
     "nuid": "0267151c-0a55-4a82-b1a9-4372d3b8d923",
     "showTitle": false,
     "tableResultSettingsMap": {},
     "title": ""
    }
   },
   "outputs": [],
   "source": [
    "\n",
    "my_list =  [11, 45, 8, 23, 14, 12, 78, 45, 89]\n",
    "chunk_size = 3\n",
    "\n",
    "chunks = [my_list[i:i + chunk_size] \n",
    "          for i in range(0, len(my_list), chunk_size)]\n",
    "\n",
    "print(chunks)\n",
    "  "
   ]
  },
  {
   "cell_type": "markdown",
   "metadata": {
    "application/vnd.databricks.v1+cell": {
     "cellMetadata": {},
     "inputWidgets": {},
     "nuid": "e1ae517c-b2a9-4597-8a29-eefe55429765",
     "showTitle": false,
     "tableResultSettingsMap": {},
     "title": ""
    }
   },
   "source": [
    "Write a program to iterate a given list and count the occurrence of each element and create a dictionary to show the count of each element.\n",
    "\n",
    "Given:\n",
    "\n",
    "sample_list = [11, 45, 8, 11, 23, 45, 23, 45, 89]\n",
    "Expected Output:\n",
    "\n",
    "Printing count of each item   {11: 2, 45: 3, 8: 1, 23: 2, 89: 1}"
   ]
  },
  {
   "cell_type": "code",
   "execution_count": 0,
   "metadata": {
    "application/vnd.databricks.v1+cell": {
     "cellMetadata": {
      "byteLimit": 2048000,
      "rowLimit": 10000
     },
     "inputWidgets": {},
     "nuid": "ad902e69-f1ee-4182-8381-b1665a63a0b7",
     "showTitle": false,
     "tableResultSettingsMap": {},
     "title": ""
    }
   },
   "outputs": [],
   "source": [
    "listt = [11, 45, 8, 11, 23, 45, 23, 45, 89]\n",
    "chardic=dict()\n",
    "for i in listt:\n",
    "    c=listt.count(i)\n",
    "    chardic[i]=c\n",
    "print(chardic)"
   ]
  },
  {
   "cell_type": "markdown",
   "metadata": {
    "application/vnd.databricks.v1+cell": {
     "cellMetadata": {},
     "inputWidgets": {},
     "nuid": "baa6d66e-32dd-4e28-b2f0-4330a1cd4477",
     "showTitle": false,
     "tableResultSettingsMap": {},
     "title": ""
    }
   },
   "source": [
    "Paired Elements from Two Lists as a Set\n",
    "Write a code to create a Python set such that it shows the element from both lists in a pair.\n",
    "\n",
    "Given:\n",
    "\n",
    "first_list = [2, 3, 4, 5, 6, 7, 8]\n",
    "second_list = [4, 9, 16, 25, 36, 49, 64]\n",
    "Expected Output:\n",
    "\n",
    "Result is  {(6, 36), (8, 64), (4, 16), (5, 25), (3, 9), (7, 49), (2, 4)}"
   ]
  },
  {
   "cell_type": "code",
   "execution_count": 0,
   "metadata": {
    "application/vnd.databricks.v1+cell": {
     "cellMetadata": {
      "byteLimit": 2048000,
      "rowLimit": 10000
     },
     "inputWidgets": {},
     "nuid": "eecc7369-1cad-46d8-a11d-cd1a3319ccd2",
     "showTitle": false,
     "tableResultSettingsMap": {},
     "title": ""
    }
   },
   "outputs": [],
   "source": [
    "\n",
    "first_list = [2, 3, 4, 5, 6, 7, 8]\n",
    "second_list = [4, 9, 16, 25, 36, 49, 64]\n",
    "c=zip(first_list,second_list)\n",
    "print(set(c))"
   ]
  },
  {
   "cell_type": "markdown",
   "metadata": {
    "application/vnd.databricks.v1+cell": {
     "cellMetadata": {},
     "inputWidgets": {},
     "nuid": "243c5bd3-dccb-4dc3-9432-c2ad00db4ce9",
     "showTitle": false,
     "tableResultSettingsMap": {},
     "title": ""
    }
   },
   "source": [
    "remove duplicates from a list\n",
    "Write a code to remove duplicates from a list and create a tuple and find the minimum and maximum number\n",
    "\n",
    "Given:\n",
    "\n",
    "sample_list = [87, 45, 41, 65, 94, 41, 99, 94]\n",
    "Expected Outcome:\n",
    "\n",
    "\n",
    "unique items [87, 45, 41, 65, 99]\n",
    "tuple (87, 45, 41, 65, 99)\n",
    "min: 41\n",
    "max: 99"
   ]
  },
  {
   "cell_type": "code",
   "execution_count": 0,
   "metadata": {
    "application/vnd.databricks.v1+cell": {
     "cellMetadata": {
      "byteLimit": 2048000,
      "rowLimit": 10000
     },
     "inputWidgets": {},
     "nuid": "e0429603-54e8-4e4b-84f1-1bfee3851222",
     "showTitle": false,
     "tableResultSettingsMap": {},
     "title": ""
    }
   },
   "outputs": [],
   "source": [
    "sample_list = [87, 45, 41, 65, 94, 41, 99, 94]\n",
    "set1=set(sample_list)\n",
    "m=max(set1)\n",
    "n=min(set1)\n",
    "print(m ,n)\n",
    "print(set1)\n",
    "\n"
   ]
  },
  {
   "cell_type": "markdown",
   "metadata": {
    "application/vnd.databricks.v1+cell": {
     "cellMetadata": {},
     "inputWidgets": {},
     "nuid": "2e5611bc-dad1-4c9b-9af8-f9e2991374e5",
     "showTitle": false,
     "tableResultSettingsMap": {},
     "title": ""
    }
   },
   "source": [
    "Extract Unique Dictionary Values to List\n",
    "Write a code to get all values from the dictionary and add them to a list but don’t add duplicates\n",
    "\n",
    "\n",
    "Given:\n",
    "\n",
    "speed = {'jan': 47, 'feb': 52, 'march': 47, 'April': 44, 'May': 52, 'June': 53, 'july': 54, 'Aug': 44, 'Sept': 54}\n",
    "Expected Outcome:\n",
    "\n",
    "[47, 52, 44, 53, 54]"
   ]
  },
  {
   "cell_type": "code",
   "execution_count": 0,
   "metadata": {
    "application/vnd.databricks.v1+cell": {
     "cellMetadata": {
      "byteLimit": 2048000,
      "rowLimit": 10000
     },
     "inputWidgets": {},
     "nuid": "af776b7a-78fa-42b9-b049-b342acf14b1f",
     "showTitle": false,
     "tableResultSettingsMap": {},
     "title": ""
    }
   },
   "outputs": [],
   "source": [
    "speed = {'jan': 47, 'feb': 52, 'march': 47, 'April': 44, 'May': 52, 'June': 53, 'july': 54, 'Aug': 44, 'Sept': 54}\n",
    "l=speed.values()\n",
    "m=set(l)\n",
    "print(m)\n",
    "l=list(m)\n",
    "print(l)"
   ]
  },
  {
   "cell_type": "markdown",
   "metadata": {
    "application/vnd.databricks.v1+cell": {
     "cellMetadata": {},
     "inputWidgets": {},
     "nuid": "6a13c44a-65b2-4d22-a254-32bb20fed7ff",
     "showTitle": false,
     "tableResultSettingsMap": {},
     "title": ""
    }
   },
   "source": [
    "Filter List Against Dictionary Values\n",
    "Write a program to iterate a given list and check if a given element exists as a key’s value in a dictionary. If not, delete it from the list\n",
    "\n",
    "Given:\n",
    "\n",
    "roll_number = [47, 64, 69, 37, 76, 83, 95, 97]\n",
    "sample_dict = {'Jhon':47, 'Emma':69, 'Kelly':76, 'Jason':97}"
   ]
  }
 ],
 "metadata": {
  "application/vnd.databricks.v1+notebook": {
   "computePreferences": null,
   "dashboards": [],
   "environmentMetadata": {
    "base_environment": "",
    "environment_version": "2"
   },
   "inputWidgetPreferences": null,
   "language": "python",
   "notebookMetadata": {
    "pythonIndentUnit": 4
   },
   "notebookName": "PRACDAY7",
   "widgets": {}
  },
  "language_info": {
   "name": "python"
  }
 },
 "nbformat": 4,
 "nbformat_minor": 0
}
