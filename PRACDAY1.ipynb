{
 "cells": [
  {
   "cell_type": "markdown",
   "metadata": {
    "application/vnd.databricks.v1+cell": {
     "cellMetadata": {},
     "inputWidgets": {},
     "nuid": "1624426e-de55-4b12-9030-c8ef7c47d736",
     "showTitle": false,
     "tableResultSettingsMap": {},
     "title": ""
    }
   },
   "source": [
    "### 1: Calculate the multiplication and sum of two numbers"
   ]
  },
  {
   "cell_type": "code",
   "execution_count": 0,
   "metadata": {
    "application/vnd.databricks.v1+cell": {
     "cellMetadata": {
      "byteLimit": 2048000,
      "rowLimit": 10000
     },
     "inputWidgets": {},
     "nuid": "42767734-3588-42b1-b828-06959e148ab6",
     "showTitle": false,
     "tableResultSettingsMap": {},
     "title": ""
    }
   },
   "outputs": [],
   "source": [
    "A=int(input(\"enter number 1\"))\n",
    "B=int(input(\"enter number 2\"))\n",
    "C=A+B\n",
    "D=A*B\n",
    "print(\"SUM OF A\",A,\"AND B IS\",B,C)\n",
    "print(\"PRODUCT OF A\",A,\"AND B IS\",B,D)"
   ]
  },
  {
   "cell_type": "markdown",
   "metadata": {
    "application/vnd.databricks.v1+cell": {
     "cellMetadata": {},
     "inputWidgets": {},
     "nuid": "cfdb52e3-e1b9-428a-a401-c7d42c01660e",
     "showTitle": false,
     "tableResultSettingsMap": {},
     "title": ""
    }
   },
   "source": [
    "### 2: Print the Sum of a Current Number and a Previous number"
   ]
  },
  {
   "cell_type": "code",
   "execution_count": 0,
   "metadata": {
    "application/vnd.databricks.v1+cell": {
     "cellMetadata": {
      "byteLimit": 2048000,
      "rowLimit": 10000
     },
     "inputWidgets": {},
     "nuid": "f738e850-f572-4ca6-9b87-a4cff2c5b9c0",
     "showTitle": false,
     "tableResultSettingsMap": {},
     "title": ""
    }
   },
   "outputs": [],
   "source": [
    "A=int(input(\"enter number 1\"))\n",
    "summ=0\n",
    "for i in range(A):\n",
    "  print(\"current number is \",i,\"and the previous number is\",i-1,\"sum is\",i+i-1)\n",
    "  i=i+1\n",
    "\n"
   ]
  },
  {
   "cell_type": "markdown",
   "metadata": {
    "application/vnd.databricks.v1+cell": {
     "cellMetadata": {},
     "inputWidgets": {},
     "nuid": "f604dae2-d730-4b3d-9aff-b92fc905a726",
     "showTitle": false,
     "tableResultSettingsMap": {},
     "title": ""
    }
   },
   "source": [
    "### 3: Print characters present at an even index number"
   ]
  },
  {
   "cell_type": "code",
   "execution_count": 0,
   "metadata": {
    "application/vnd.databricks.v1+cell": {
     "cellMetadata": {
      "byteLimit": 2048000,
      "rowLimit": 10000
     },
     "inputWidgets": {},
     "nuid": "c8d76247-e3ae-46a6-8445-4128a4bea04e",
     "showTitle": false,
     "tableResultSettingsMap": {},
     "title": ""
    }
   },
   "outputs": [],
   "source": [
    "strr=input(\"enter a string\")\n",
    "print(\"original string is \",strr)\n",
    "print(strr[0::2])\n",
    "print(\"even indeing with lop \")\n",
    "for i in range(len(strr)):\n",
    "  if i%2==0:\n",
    "    print(strr[i])"
   ]
  },
  {
   "cell_type": "markdown",
   "metadata": {
    "application/vnd.databricks.v1+cell": {
     "cellMetadata": {},
     "inputWidgets": {},
     "nuid": "100d3a09-cd4a-4779-ab82-d3aa42b08f1d",
     "showTitle": false,
     "tableResultSettingsMap": {},
     "title": ""
    }
   },
   "source": [
    "### 4: Remove first n characters from a string"
   ]
  },
  {
   "cell_type": "code",
   "execution_count": 0,
   "metadata": {
    "application/vnd.databricks.v1+cell": {
     "cellMetadata": {
      "byteLimit": 2048000,
      "rowLimit": 10000
     },
     "inputWidgets": {},
     "nuid": "bc78cd3d-9acd-4f49-9fc0-d9e27aea85b4",
     "showTitle": false,
     "tableResultSettingsMap": {},
     "title": ""
    }
   },
   "outputs": [],
   "source": [
    "word=input(\"enter a word\")\n",
    "n=int(input(\"enter how many character you wnat to be removed \"))\n",
    "\n",
    "print(word)\n",
    "x=word[n:]  \n",
    "print(x)"
   ]
  },
  {
   "cell_type": "markdown",
   "metadata": {
    "application/vnd.databricks.v1+cell": {
     "cellMetadata": {},
     "inputWidgets": {},
     "nuid": "8a734be7-f1d1-4e0a-b64a-5737ee2cbd14",
     "showTitle": false,
     "tableResultSettingsMap": {},
     "title": ""
    }
   },
   "source": [
    "### 5: Check if the first and last numbers of a list are the same"
   ]
  },
  {
   "cell_type": "code",
   "execution_count": 0,
   "metadata": {
    "application/vnd.databricks.v1+cell": {
     "cellMetadata": {
      "byteLimit": 2048000,
      "rowLimit": 10000
     },
     "inputWidgets": {},
     "nuid": "ce87eaee-ea7a-47f3-b084-f899ff1c0925",
     "showTitle": false,
     "tableResultSettingsMap": {},
     "title": ""
    }
   },
   "outputs": [],
   "source": [
    "ll=list(map(int,input(\"enter a list\").split()))\n",
    "l=[12,23,34,45,22,122]\n",
    "print(l)\n",
    "n=len(l)\n",
    "if(l[0]==l[n-1]):\n",
    "    print(\"true\")\n",
    "else:\n",
    "    print(\"false\")\n",
    "\n",
    "if(ll[0]==ll[-1]):\n",
    "    print(\"true\")\n",
    "else:\n",
    "    print(\"false\")\n",
    "print(type(l))"
   ]
  },
  {
   "cell_type": "markdown",
   "metadata": {
    "application/vnd.databricks.v1+cell": {
     "cellMetadata": {},
     "inputWidgets": {},
     "nuid": "fe56961e-89ac-44f2-b5fb-5e758fa4e936",
     "showTitle": false,
     "tableResultSettingsMap": {},
     "title": ""
    }
   },
   "source": [
    "- ### 6: Display numbers divisible by 5\n",
    "Write a Python code to display numbers from a list divisible by 5\n",
    "\n"
   ]
  },
  {
   "cell_type": "code",
   "execution_count": 0,
   "metadata": {
    "application/vnd.databricks.v1+cell": {
     "cellMetadata": {
      "byteLimit": 2048000,
      "rowLimit": 10000
     },
     "inputWidgets": {},
     "nuid": "928af9fe-6b1c-4729-aa16-46b8ae52fe4b",
     "showTitle": false,
     "tableResultSettingsMap": {},
     "title": ""
    }
   },
   "outputs": [],
   "source": [
    "ll=list(map(int,input(\"enter a list\").split()))\n",
    "n=len(ll)\n",
    "print(ll)\n",
    "print(\"NUMBERS IN LIST WHICH ARE DVISIBLE BY ARE \")\n",
    "for i in range(n):\n",
    "    if(ll[i]%5==0):\n",
    "        print(ll[i])"
   ]
  },
  {
   "cell_type": "markdown",
   "metadata": {
    "application/vnd.databricks.v1+cell": {
     "cellMetadata": {},
     "inputWidgets": {},
     "nuid": "2b887397-0a29-4ec1-9858-7eac249e3f15",
     "showTitle": false,
     "tableResultSettingsMap": {},
     "title": ""
    }
   },
   "source": [
    "### 7: Find the number of occurrences of a substring in a string\n",
    "Write a Python code to find how often the substring “Emma” appears in the given string.\n",
    "\n",
    "## c=st.count(stt)  new learning for counting the occurance \n",
    "\n",
    "\n",
    "text = \"hello world, hello Python!\"\n",
    "\n",
    " Count occurrences of a single character\n",
    "count_o = text.count('o')\n",
    "print(f\"Number of 'o's: {count_o}\")  # Output: Number of 'o's: 3\n",
    "\n",
    "Count occurrences of a substring\n",
    "count_hello = text.count('hello')\n",
    "print(f\"Number of 'hello's: {count_hello}\")  # Output: Number of 'hello's: 2\n",
    "\n",
    "Count occurrences within a specific range\n",
    "count_l_range = text.count('l', 0, 10) # Counts 'l' from index 0 up to (but not including) index 10\n",
    "print(f\"Number of 'l's in first 10 characters: {count_l_range}\") # Output: Number of 'l's in first 10 characters: 2\n"
   ]
  },
  {
   "cell_type": "code",
   "execution_count": 0,
   "metadata": {
    "application/vnd.databricks.v1+cell": {
     "cellMetadata": {
      "byteLimit": 2048000,
      "rowLimit": 10000
     },
     "inputWidgets": {},
     "nuid": "16ae9701-0e37-412b-9431-1a89bfed6dfd",
     "showTitle": false,
     "tableResultSettingsMap": {},
     "title": ""
    }
   },
   "outputs": [],
   "source": [
    "#str_x = \"Emma is good developer. Emma is a writer\"\n",
    "st=input(\"enter a string\")\n",
    "stt=input(\"enter the string to be counted\")\n",
    "c=st.count(stt)\n",
    "print(\"string\",stt,\"occurs\",c,\"times\")"
   ]
  },
  {
   "cell_type": "markdown",
   "metadata": {
    "application/vnd.databricks.v1+cell": {
     "cellMetadata": {},
     "inputWidgets": {},
     "nuid": "9a9d2faa-9742-4a4f-af46-bc62d9159608",
     "showTitle": false,
     "tableResultSettingsMap": {},
     "title": ""
    }
   },
   "source": [
    "### 8: Print the following pattern\n",
    "1 \n",
    "\n",
    "2 2\n",
    "\n",
    "3 3 3 \n",
    "\n",
    "4 4 4 4 \n",
    "\n",
    "5 5 5 5 5"
   ]
  },
  {
   "cell_type": "code",
   "execution_count": 0,
   "metadata": {
    "application/vnd.databricks.v1+cell": {
     "cellMetadata": {
      "byteLimit": 2048000,
      "rowLimit": 10000
     },
     "inputWidgets": {},
     "nuid": "f38165c4-7cf1-46a7-90c4-d12accc7cce8",
     "showTitle": false,
     "tableResultSettingsMap": {},
     "title": ""
    }
   },
   "outputs": [],
   "source": [
    "for i in range(6):\n",
    "  for j in range(i):\n",
    "    print(i,end=\" \")\n",
    "  print(\"\\n\")\n"
   ]
  },
  {
   "cell_type": "markdown",
   "metadata": {
    "application/vnd.databricks.v1+cell": {
     "cellMetadata": {},
     "inputWidgets": {},
     "nuid": "594e7a17-46e2-44ab-ae2f-7a3c98213e6b",
     "showTitle": false,
     "tableResultSettingsMap": {},
     "title": ""
    }
   },
   "source": [
    "### 9: Check Palindrome Number\n",
    "a Python code to check if the given number is a palindrome. A palindrome number reads the same forwards and backward. For example, 545 is a palindrome number"
   ]
  },
  {
   "cell_type": "code",
   "execution_count": 0,
   "metadata": {
    "application/vnd.databricks.v1+cell": {
     "cellMetadata": {
      "byteLimit": 2048000,
      "rowLimit": 10000
     },
     "inputWidgets": {},
     "nuid": "2f169d20-aaec-4a21-993b-e0dfe2260fcc",
     "showTitle": false,
     "tableResultSettingsMap": {},
     "title": ""
    }
   },
   "outputs": [],
   "source": [
    "num=int(input(\"enter the number to check the palendrom\"))\n",
    "number=int(input())\n",
    "# by conversting it to string \n",
    "b=str(num)\n",
    "c=b[::-1]\n",
    "c=int(c)\n",
    "if(num==c):\n",
    "  print(\"palendrom\")\n",
    "else:\n",
    "  print(\"not palendrom\")\n",
    "\n",
    "# by refersving the number \n",
    "reverse_num = 0\n",
    "while number > 0:\n",
    "        reminder = number % 10\n",
    "        reverse_num = (reverse_num * 10) + reminder\n",
    "        number = number // 10\n",
    "if num == reverse_num:\n",
    "    print(\"palendrom other way\")\n",
    "else:\n",
    "    print(\"not palendrom\")"
   ]
  },
  {
   "cell_type": "markdown",
   "metadata": {
    "application/vnd.databricks.v1+cell": {
     "cellMetadata": {},
     "inputWidgets": {},
     "nuid": "cb0adf9e-6c37-4782-b856-4772bc0c43c6",
     "showTitle": false,
     "tableResultSettingsMap": {},
     "title": ""
    }
   },
   "source": [
    "### 10: Merge two lists using the following condition\n",
    "Given two lists of numbers, write Python code to create a new list containing odd numbers from the first list and even numbers from the second list.\n",
    "\n",
    "Given:\n",
    "\n",
    "list1 = [10, 20, 25, 30, 35]\n",
    "list2 = [40, 45, 60, 75, 90]"
   ]
  },
  {
   "cell_type": "code",
   "execution_count": 0,
   "metadata": {
    "application/vnd.databricks.v1+cell": {
     "cellMetadata": {
      "byteLimit": 2048000,
      "rowLimit": 10000
     },
     "inputWidgets": {},
     "nuid": "d8067c55-12c7-4c7f-a7b3-8aef0d308b46",
     "showTitle": false,
     "tableResultSettingsMap": {},
     "title": ""
    }
   },
   "outputs": [],
   "source": [
    "list1 = [10, 20, 25, 30, 35]\n",
    "list2 = [40, 45, 60, 75, 90]\n",
    "list3=[]\n",
    "for i in range(len(list1)):\n",
    "    if list1[i] % 2 != 0:\n",
    "        list3.append(list1[i])\n",
    "        #print(list1[i])\n",
    "for i in range(len(list2)):\n",
    "    if list2[i]%2==0:\n",
    "        list3.append(list1[i])\n",
    "        #print(list2[i])\n",
    "print(list3)"
   ]
  },
  {
   "cell_type": "markdown",
   "metadata": {
    "application/vnd.databricks.v1+cell": {
     "cellMetadata": {},
     "inputWidgets": {},
     "nuid": "7d2f7ce7-8842-4e30-9bd7-7a4ba0e748e4",
     "showTitle": false,
     "tableResultSettingsMap": {},
     "title": ""
    }
   },
   "source": [
    "### 11: Get each digit from a number in the reverse order\n",
    "If the given integer number is 7536, the output shall be “6 3 5 7“, with a space separating the digits."
   ]
  },
  {
   "cell_type": "code",
   "execution_count": 0,
   "metadata": {
    "application/vnd.databricks.v1+cell": {
     "cellMetadata": {
      "byteLimit": 2048000,
      "rowLimit": 10000
     },
     "inputWidgets": {},
     "nuid": "1dfc5de1-e99e-49dc-a496-232b4ce057a8",
     "showTitle": false,
     "tableResultSettingsMap": {},
     "title": ""
    }
   },
   "outputs": [],
   "source": []
  },
  {
   "cell_type": "markdown",
   "metadata": {
    "application/vnd.databricks.v1+cell": {
     "cellMetadata": {},
     "inputWidgets": {},
     "nuid": "300c7fc6-497f-456b-926c-8cddf706b2bf",
     "showTitle": false,
     "tableResultSettingsMap": {},
     "title": ""
    }
   },
   "source": [
    "### 12: Calculate income tax\n",
    "calculate income tax for the given income by adhering to the rules below\n",
    "\n",
    "Taxable Income\tRate (in %)\n",
    "First $10,000\t0\n",
    "Next $10,000\t10\n",
    "The remaining\t20\n",
    "Expected Output:\n",
    "\n",
    "For example, suppose the income is 45000, and the income tax payable is\n",
    "\n",
    "10000*0% + 10000*10%  + 25000*20% = $6000"
   ]
  },
  {
   "cell_type": "code",
   "execution_count": 0,
   "metadata": {
    "application/vnd.databricks.v1+cell": {
     "cellMetadata": {
      "byteLimit": 2048000,
      "rowLimit": 10000
     },
     "inputWidgets": {},
     "nuid": "6be88061-503d-4dd2-adcc-c625669e0b13",
     "showTitle": false,
     "tableResultSettingsMap": {},
     "title": ""
    }
   },
   "outputs": [],
   "source": [
    "salary=int(input(\"enter the salary\"))\n",
    "tax=0\n",
    "if salary<10000:\n",
    "    tax=0\n",
    "    print(\"tax paid \",tax)\n",
    "elif salary<=20000:\n",
    "    salary=salary-10000\n",
    "    tax=salary*10/100\n",
    "    print(\"tax to be paid is\",tax)\n",
    "elif salary>20000:\n",
    "    salary=salary-10000\n",
    "    tax=salary*10/100\n",
    "    tax=tax+(salary-20000)*20/100\n",
    "    print(\"tax to be paid is\",tax)\n"
   ]
  },
  {
   "cell_type": "markdown",
   "metadata": {
    "application/vnd.databricks.v1+cell": {
     "cellMetadata": {},
     "inputWidgets": {},
     "nuid": "04226bc7-b23c-4923-881c-afaf284c95d7",
     "showTitle": false,
     "tableResultSettingsMap": {},
     "title": ""
    }
   },
   "source": [
    "### 13: Print multiplication table from 1 to 10"
   ]
  },
  {
   "cell_type": "code",
   "execution_count": 0,
   "metadata": {
    "application/vnd.databricks.v1+cell": {
     "cellMetadata": {
      "byteLimit": 2048000,
      "rowLimit": 10000
     },
     "inputWidgets": {},
     "nuid": "4d67e600-0ee7-408c-a09c-3def02830831",
     "showTitle": false,
     "tableResultSettingsMap": {},
     "title": ""
    }
   },
   "outputs": [],
   "source": [
    "for i in range (1,11):\n",
    "    for j in range(1,11):\n",
    "        print(i*j,end=\" \")\n",
    "        j=j+1\n",
    "    i=i+1\n",
    "    print(\"\\n\")\n"
   ]
  },
  {
   "cell_type": "markdown",
   "metadata": {
    "application/vnd.databricks.v1+cell": {
     "cellMetadata": {},
     "inputWidgets": {},
     "nuid": "b5f5e5a9-5ed0-4a6a-ba1d-0bf0fabea3e1",
     "showTitle": false,
     "tableResultSettingsMap": {},
     "title": ""
    }
   },
   "source": [
    "Print a downward half-pyramid pattern of stars\n",
    "\n",
    "* * * * *  \n",
    "\n",
    "* * * *  \n",
    "\n",
    "* * *  \n",
    "\n",
    "* *  \n",
    "*"
   ]
  },
  {
   "cell_type": "code",
   "execution_count": 0,
   "metadata": {
    "application/vnd.databricks.v1+cell": {
     "cellMetadata": {
      "byteLimit": 2048000,
      "rowLimit": 10000
     },
     "inputWidgets": {},
     "nuid": "4b8edc19-bd90-474a-a5ea-bd358f4cf1e2",
     "showTitle": false,
     "tableResultSettingsMap": {},
     "title": ""
    }
   },
   "outputs": [],
   "source": [
    "x=6\n",
    "for i in range(6):\n",
    "  for j in range(x):\n",
    "    print(\"*\",end=' ')\n",
    "  x=x-1\n",
    "  print(\"\\n\")\n",
    "i=i+1\n",
    "\n",
    "\n",
    "\n",
    "\n",
    "for i in range(6, 0, -1):\n",
    "    for j in range(0, i - 1):\n",
    "        print(\"*\", end=' ')\n",
    "    print(\" \")"
   ]
  },
  {
   "cell_type": "markdown",
   "metadata": {
    "application/vnd.databricks.v1+cell": {
     "cellMetadata": {},
     "inputWidgets": {},
     "nuid": "d1c75f14-b64d-4192-890d-7bf6d33d6ce4",
     "showTitle": false,
     "tableResultSettingsMap": {},
     "title": ""
    }
   },
   "source": [
    "### 15: Get an int value of base raises to the power of exponent"
   ]
  },
  {
   "cell_type": "code",
   "execution_count": 0,
   "metadata": {
    "application/vnd.databricks.v1+cell": {
     "cellMetadata": {
      "byteLimit": 2048000,
      "rowLimit": 10000
     },
     "inputWidgets": {},
     "nuid": "5296fdf0-a128-4e9c-8f3f-d7ad7de11001",
     "showTitle": false,
     "tableResultSettingsMap": {},
     "title": ""
    }
   },
   "outputs": [],
   "source": [
    "base= int(input(\"enter the base\"))\n",
    "expo=int(input(\"enter the expo\"))\n",
    "z=pow(base,expo)\n",
    "print(\"z\",z)\n",
    "\n",
    "def expo(a,b):\n",
    "    n=1\n",
    "    while n>1:\n",
    "        a=a*b\n",
    "        n=n-1\n",
    "    return a\n",
    "print(expo(base,expo))# both ways are valid \n",
    "expo(base,expo)"
   ]
  }
 ],
 "metadata": {
  "application/vnd.databricks.v1+notebook": {
   "computePreferences": null,
   "dashboards": [],
   "environmentMetadata": {
    "base_environment": "",
    "environment_version": "2"
   },
   "inputWidgetPreferences": null,
   "language": "python",
   "notebookMetadata": {
    "pythonIndentUnit": 4
   },
   "notebookName": "PRACDAY1",
   "widgets": {}
  },
  "language_info": {
   "name": "python"
  }
 },
 "nbformat": 4,
 "nbformat_minor": 0
}
