{
 "cells": [
  {
   "cell_type": "markdown",
   "metadata": {
    "application/vnd.databricks.v1+cell": {
     "cellMetadata": {},
     "inputWidgets": {},
     "nuid": "57995f2c-8e17-497f-8c72-316957e4f094",
     "showTitle": false,
     "tableResultSettingsMap": {},
     "title": ""
    }
   },
   "source": [
    "1: Access characters at even index positions"
   ]
  },
  {
   "cell_type": "code",
   "execution_count": 0,
   "metadata": {
    "application/vnd.databricks.v1+cell": {
     "cellMetadata": {
      "byteLimit": 2048000,
      "rowLimit": 10000
     },
     "inputWidgets": {},
     "nuid": "82e9a087-09f2-475b-a2eb-b1372a90dfe0",
     "showTitle": false,
     "tableResultSettingsMap": {},
     "title": ""
    }
   },
   "outputs": [],
   "source": [
    "n=input(\"enter the string \")\n",
    "print(n[1::2])"
   ]
  },
  {
   "cell_type": "markdown",
   "metadata": {
    "application/vnd.databricks.v1+cell": {
     "cellMetadata": {},
     "inputWidgets": {},
     "nuid": "14b9f8f9-aa70-4b6c-9a41-801efd24cf16",
     "showTitle": false,
     "tableResultSettingsMap": {},
     "title": ""
    }
   },
   "source": [
    "2: Slice a string to remove first n characters"
   ]
  },
  {
   "cell_type": "code",
   "execution_count": 0,
   "metadata": {
    "application/vnd.databricks.v1+cell": {
     "cellMetadata": {
      "byteLimit": 2048000,
      "rowLimit": 10000
     },
     "inputWidgets": {},
     "nuid": "5abda123-d84e-4eb6-9cf1-e34828621ee3",
     "showTitle": false,
     "tableResultSettingsMap": {},
     "title": ""
    }
   },
   "outputs": [],
   "source": [
    "n=input(\"enter the string \")\n",
    "m=int(input('entr the slicing posotion'))\n",
    "print(n[m:])"
   ]
  },
  {
   "cell_type": "markdown",
   "metadata": {
    "application/vnd.databricks.v1+cell": {
     "cellMetadata": {},
     "inputWidgets": {},
     "nuid": "e2455d43-a356-49fd-af30-dde0a33b57c2",
     "showTitle": false,
     "tableResultSettingsMap": {},
     "title": ""
    }
   },
   "source": [
    "3: Remove characters from a string"
   ]
  },
  {
   "cell_type": "code",
   "execution_count": 0,
   "metadata": {
    "application/vnd.databricks.v1+cell": {
     "cellMetadata": {
      "byteLimit": 2048000,
      "rowLimit": 10000
     },
     "inputWidgets": {},
     "nuid": "f9a328f4-161e-4852-a736-f1d867956227",
     "showTitle": false,
     "tableResultSettingsMap": {},
     "title": ""
    }
   },
   "outputs": [],
   "source": [
    "n=input(\"enter the string \")\n",
    "m=input(\"enter character to be removed \")\n",
    "for i in n:\n",
    "  if i!=m:\n",
    "    print(i,end=\"\")"
   ]
  },
  {
   "cell_type": "markdown",
   "metadata": {
    "application/vnd.databricks.v1+cell": {
     "cellMetadata": {},
     "inputWidgets": {},
     "nuid": "8f14d44b-5461-4082-8591-dfb01c32dd2c",
     "showTitle": false,
     "tableResultSettingsMap": {},
     "title": ""
    }
   },
   "source": [
    "4: Reverse each word of a string"
   ]
  },
  {
   "cell_type": "code",
   "execution_count": 0,
   "metadata": {
    "application/vnd.databricks.v1+cell": {
     "cellMetadata": {
      "byteLimit": 2048000,
      "rowLimit": 10000
     },
     "inputWidgets": {},
     "nuid": "69167499-1772-4fff-b78f-ff3e62467bdb",
     "showTitle": false,
     "tableResultSettingsMap": {},
     "title": ""
    }
   },
   "outputs": [],
   "source": [
    "n=input(\"enter the string \")\n",
    "print(n[::-1])"
   ]
  },
  {
   "cell_type": "markdown",
   "metadata": {
    "application/vnd.databricks.v1+cell": {
     "cellMetadata": {},
     "inputWidgets": {},
     "nuid": "0b4ddaa0-649a-499a-8b34-ae9e96b0fdc7",
     "showTitle": false,
     "tableResultSettingsMap": {},
     "title": ""
    }
   },
   "source": [
    "5: Read text file into a variable and replace all newlines with space"
   ]
  },
  {
   "cell_type": "code",
   "execution_count": 0,
   "metadata": {
    "application/vnd.databricks.v1+cell": {
     "cellMetadata": {
      "byteLimit": 2048000,
      "rowLimit": 10000
     },
     "inputWidgets": {},
     "nuid": "6ee3fc80-cb99-4c69-ba66-4a29118eb513",
     "showTitle": false,
     "tableResultSettingsMap": {},
     "title": ""
    }
   },
   "outputs": [],
   "source": [
    "with open(\"xyz.txt\",'r') as file:\n",
    "    filecn=file.read()\n",
    "    print(filecn)\n",
    "    filecnup=filecn.replace('\\n',' ')\n",
    "print(filecnup)"
   ]
  },
  {
   "cell_type": "markdown",
   "metadata": {
    "application/vnd.databricks.v1+cell": {
     "cellMetadata": {},
     "inputWidgets": {},
     "nuid": "711ebd82-a4bc-4f98-847b-1ebee14cc14f",
     "showTitle": false,
     "tableResultSettingsMap": {},
     "title": ""
    }
   },
   "source": [
    "Write a program to create a new string made of an input string’s first, middle, and last character.\n",
    "\n",
    "Given:\n",
    "\n",
    "str1 = \"James\"\n",
    "Expected Output:\n",
    "\n",
    "Jms"
   ]
  },
  {
   "cell_type": "code",
   "execution_count": 0,
   "metadata": {
    "application/vnd.databricks.v1+cell": {
     "cellMetadata": {},
     "inputWidgets": {},
     "nuid": "d3984d96-d644-4cb7-9826-c4aad8f66027",
     "showTitle": false,
     "tableResultSettingsMap": {},
     "title": ""
    }
   },
   "outputs": [],
   "source": [
    "file_path = 'xyz.txt'  # Replace with the actual path to your text file\n",
    "\n",
    "try:\n",
    "    with open(file_path, 'r') as file:\n",
    "        file_content = file.read()\n",
    "        processed_content = file_content.replace('\\n', ' ')\n",
    "    print(processed_content)\n",
    "except FileNotFoundError:\n",
    "    print(f\"Error: The file '{file_path}' was not found.\")\n",
    "except Exception as e:\n",
    "    print(f\"An error occurred: {e}\")"
   ]
  },
  {
   "cell_type": "code",
   "execution_count": 0,
   "metadata": {
    "application/vnd.databricks.v1+cell": {
     "cellMetadata": {
      "byteLimit": 2048000,
      "rowLimit": 10000
     },
     "inputWidgets": {},
     "nuid": "6c1082cc-ed71-43c2-b188-1aedf19e7962",
     "showTitle": false,
     "tableResultSettingsMap": {},
     "title": ""
    }
   },
   "outputs": [],
   "source": [
    "n=input('enter the string')\n",
    "l=len(n)\n",
    "m=l//2\n",
    "print(n[0:l:m])"
   ]
  },
  {
   "cell_type": "markdown",
   "metadata": {
    "application/vnd.databricks.v1+cell": {
     "cellMetadata": {},
     "inputWidgets": {},
     "nuid": "6d010fdd-f812-4046-8394-7b11e7c905b8",
     "showTitle": false,
     "tableResultSettingsMap": {},
     "title": ""
    }
   },
   "source": [
    " Create a string made of the middle three characters\n",
    "Write a program to create a new string made of the middle three characters of an input string.\n",
    "\n",
    "Given:\n",
    "\n",
    "Case 1\n",
    "\n",
    "str1 = \"JhonDipPeta\"\n",
    "Output\n",
    "\n",
    "Dip\n",
    "Case 2\n",
    "\n",
    "str2 = \"JaSonAy\"\n",
    "Output\n",
    "\n",
    "Son"
   ]
  },
  {
   "cell_type": "code",
   "execution_count": 0,
   "metadata": {
    "application/vnd.databricks.v1+cell": {
     "cellMetadata": {
      "byteLimit": 2048000,
      "rowLimit": 10000
     },
     "inputWidgets": {},
     "nuid": "4436bf97-fd9b-4f39-8fc3-cfcca6218119",
     "showTitle": false,
     "tableResultSettingsMap": {},
     "title": ""
    }
   },
   "outputs": [],
   "source": [
    "n=input('enter the string')\n",
    "l=len(n)\n",
    "m=l//2\n",
    "print(n[m-1:m+2:])"
   ]
  },
  {
   "cell_type": "markdown",
   "metadata": {
    "application/vnd.databricks.v1+cell": {
     "cellMetadata": {},
     "inputWidgets": {},
     "nuid": "5ae8d3d0-104f-4e2e-9cbb-4bc8e90a75bd",
     "showTitle": false,
     "tableResultSettingsMap": {},
     "title": ""
    }
   },
   "source": [
    "Given two strings, s1 and s2. Write a program to create a new string s3 by appending s2 in the middle of s1.\n",
    "\n",
    "Given:\n",
    "\n",
    "s1 = \"Ault\"\n",
    "s2 = \"Kelly\"\n",
    "Expected Output:\n",
    "\n",
    "AuKellylt"
   ]
  },
  {
   "cell_type": "code",
   "execution_count": 0,
   "metadata": {
    "application/vnd.databricks.v1+cell": {
     "cellMetadata": {
      "byteLimit": 2048000,
      "rowLimit": 10000
     },
     "inputWidgets": {},
     "nuid": "dc9b8a3d-2e81-4405-ad70-fd203e3d18d1",
     "showTitle": false,
     "tableResultSettingsMap": {},
     "title": ""
    }
   },
   "outputs": [],
   "source": [
    "n=input('enter the string')\n",
    "l=len(n)\n",
    "o=l//2\n",
    "m=input('enter the character')\n",
    "x=n[:o]\n",
    "x=x+m\n",
    "x=x+n[o:]\n",
    "print(x)\n"
   ]
  },
  {
   "cell_type": "markdown",
   "metadata": {
    "application/vnd.databricks.v1+cell": {
     "cellMetadata": {},
     "inputWidgets": {},
     "nuid": "6869e2d0-06e8-47c1-b5d2-0ac40489ad3a",
     "showTitle": false,
     "tableResultSettingsMap": {},
     "title": ""
    }
   },
   "source": [
    "Create a new string made of the first, middle, and last characters of each input string\n",
    "Given two strings, s1 and s2, write a program to return a new string made of s1 and s2’s first, middle, and last characters.\n",
    "\n",
    "Given:\n",
    "\n",
    "s1 = \"America\"\n",
    "s2 = \"Japan\"\n",
    "Expected Output:\n",
    "\n",
    "AJrpan"
   ]
  },
  {
   "cell_type": "code",
   "execution_count": 0,
   "metadata": {
    "application/vnd.databricks.v1+cell": {
     "cellMetadata": {
      "byteLimit": 2048000,
      "rowLimit": 10000
     },
     "inputWidgets": {},
     "nuid": "1d020e3e-5a02-4c25-b86c-8c396c89a996",
     "showTitle": false,
     "tableResultSettingsMap": {},
     "title": ""
    }
   },
   "outputs": [],
   "source": [
    "s1 = \"America\" \n",
    "s2 = \"Japan\"\n",
    "m1=len(s1)//2\n",
    "m2=len(s2)//2\n",
    "x=s1[0]+s2[0]+s1[m1]+s2[m2]+s1[-1]+s2[-1]\n",
    "print(x)"
   ]
  },
  {
   "cell_type": "markdown",
   "metadata": {
    "application/vnd.databricks.v1+cell": {
     "cellMetadata": {},
     "inputWidgets": {},
     "nuid": "36385625-fbfe-481e-a51b-27e16c0485c2",
     "showTitle": false,
     "tableResultSettingsMap": {},
     "title": ""
    }
   },
   "source": [
    "Arrange string characters such that lowercase letters should come first\n",
    "Given string contains a combination of the lower and upper case letters. Write a program to arrange the characters of a string so that all lowercase letters should come first.\n",
    "\n",
    "Given:\n",
    "\n",
    "str1 = PyNaTive\n",
    "Expected Output:\n",
    "\n",
    "yaivePNT"
   ]
  },
  {
   "cell_type": "code",
   "execution_count": 0,
   "metadata": {
    "application/vnd.databricks.v1+cell": {
     "cellMetadata": {
      "byteLimit": 2048000,
      "rowLimit": 10000
     },
     "inputWidgets": {},
     "nuid": "c3831d47-5866-4e00-aff4-7bd8c6c261eb",
     "showTitle": false,
     "tableResultSettingsMap": {},
     "title": ""
    }
   },
   "outputs": [],
   "source": [
    "str1 = 'PyNaTive'\n",
    "\n",
    "for i in range(len(str1)):\n",
    "    if str1[i].islower():\n",
    "        m=m+str1[i]\n",
    "    else:\n",
    "        n=n+str1[i]\n",
    "print(m+n)"
   ]
  },
  {
   "cell_type": "markdown",
   "metadata": {
    "application/vnd.databricks.v1+cell": {
     "cellMetadata": {},
     "inputWidgets": {},
     "nuid": "87b675b4-c693-4e01-97db-cb3868a33d31",
     "showTitle": false,
     "tableResultSettingsMap": {},
     "title": ""
    }
   },
   "source": [
    ": Count all letters, digits, and special symbols from a given string\n",
    "Given:\n",
    "\n",
    "str1 = \"P@#yn26at^&i5ve\"\n",
    "Expected Outcome:\n",
    "\n",
    "Total counts of chars, digits, and symbols \n",
    "\n",
    "Chars = 8 \n",
    "Digits = 3 \n",
    "Symbol = 4"
   ]
  },
  {
   "cell_type": "code",
   "execution_count": 0,
   "metadata": {
    "application/vnd.databricks.v1+cell": {
     "cellMetadata": {
      "byteLimit": 2048000,
      "rowLimit": 10000
     },
     "inputWidgets": {},
     "nuid": "2e93a003-b81d-47fe-b624-190ae01042bf",
     "showTitle": false,
     "tableResultSettingsMap": {},
     "title": ""
    }
   },
   "outputs": [],
   "source": [
    "\n",
    "\n",
    "str1 = \"P@#yn26at^&i5ve\"\n",
    "D = 0\n",
    "s = 0\n",
    "c = 0\n",
    "for i in range(len(str1)):\n",
    "    if str1[i].isdigit():\n",
    "        D += 1\n",
    "    elif str1[i].isalpha():\n",
    "        s += 1\n",
    "    else:\n",
    "        c += 1\n",
    "\n",
    "print(\"Alphabets:\", s)\n",
    "print(\"Digits:\", D)\n",
    "print(\"Special Characters:\", c)\n"
   ]
  },
  {
   "cell_type": "markdown",
   "metadata": {
    "application/vnd.databricks.v1+cell": {
     "cellMetadata": {},
     "inputWidgets": {},
     "nuid": "341f9217-a6f6-41f9-a508-3abc3f6c01e8",
     "showTitle": false,
     "tableResultSettingsMap": {},
     "title": ""
    }
   },
   "source": [
    "7: Display all duplicate items from a list"
   ]
  },
  {
   "cell_type": "code",
   "execution_count": 0,
   "metadata": {
    "application/vnd.databricks.v1+cell": {
     "cellMetadata": {
      "byteLimit": 2048000,
      "rowLimit": 10000
     },
     "inputWidgets": {},
     "nuid": "db6ea950-aacf-4af0-a381-7e215da63500",
     "showTitle": false,
     "tableResultSettingsMap": {},
     "title": ""
    }
   },
   "outputs": [],
   "source": [
    "l=[1,2,3,4,3,1,5,6,7,5,6,7,8,0,99,99,8]\n",
    "print(list(set(l)))\n",
    "l.sort()\n",
    "print(l)\n",
    "m=[]\n",
    "for x in l:\n",
    "    if x not in m:\n",
    "        m.append(x)\n",
    "print(m)\n"
   ]
  },
  {
   "cell_type": "markdown",
   "metadata": {
    "application/vnd.databricks.v1+cell": {
     "cellMetadata": {},
     "inputWidgets": {},
     "nuid": "95fd6dd1-d4aa-4ec6-8c2e-c31b76a01c91",
     "showTitle": false,
     "tableResultSettingsMap": {},
     "title": ""
    }
   },
   "source": [
    "String characters balance Test\n",
    "Write a program to check if two strings are balanced. For example, strings s1 and s2 are balanced if all the characters in the s1 are present in s2. The character’s position doesn’t matter.\n",
    "\n",
    "Given:\n",
    "\n",
    "Case 1:\n",
    "\n",
    "s1 = \"Yn\"\n",
    "s2 = \"PYnative\"\n",
    "Expected Output:\n",
    "\n",
    "True\n",
    "Case 2:\n",
    "\n",
    "s1 = \"Ynf\"\n",
    "s2 = \"PYnative\"\n",
    "Expected Output:\n",
    "\n",
    "False"
   ]
  },
  {
   "cell_type": "code",
   "execution_count": 0,
   "metadata": {
    "application/vnd.databricks.v1+cell": {
     "cellMetadata": {
      "byteLimit": 2048000,
      "rowLimit": 10000
     },
     "inputWidgets": {},
     "nuid": "0cb82c2a-a253-47e4-9248-13f39e3edcc1",
     "showTitle": false,
     "tableResultSettingsMap": {},
     "title": ""
    }
   },
   "outputs": [],
   "source": [
    "s1 = \"Yn\"\n",
    "s2 = \"PYnative\"\n",
    "flag = True\n",
    "for char in s1:\n",
    "    if char in s2:\n",
    "        continue\n",
    "    else:\n",
    "        flag = False\n",
    "        break\n",
    "print(flag)"
   ]
  },
  {
   "cell_type": "markdown",
   "metadata": {
    "application/vnd.databricks.v1+cell": {
     "cellMetadata": {},
     "inputWidgets": {},
     "nuid": "df242b20-8837-4381-8435-e8379211c9b7",
     "showTitle": false,
     "tableResultSettingsMap": {},
     "title": ""
    }
   },
   "source": [
    "%md\n",
    "Find all occurrences of a substring in a given string by ignoring the case\n",
    "\n",
    "Write a program to find all occurrences of “USA” in a given string ignoring\n",
    "\n",
    " the case."
   ]
  },
  {
   "cell_type": "code",
   "execution_count": 0,
   "metadata": {
    "application/vnd.databricks.v1+cell": {
     "cellMetadata": {
      "byteLimit": 2048000,
      "rowLimit": 10000
     },
     "inputWidgets": {},
     "nuid": "beb33542-ea66-4a6b-ba97-87be2f25ba33",
     "showTitle": false,
     "tableResultSettingsMap": {},
     "title": ""
    }
   },
   "outputs": [],
   "source": [
    "str1 = \"Welcome to USA. usa awesome, isn't it?\"\n",
    "str2=input('enter the string')\n",
    "str1=str1.lower()\n",
    "str2=str2.lower()\n",
    "t=str1.count(str2)\n",
    "print(t)"
   ]
  },
  {
   "cell_type": "markdown",
   "metadata": {
    "application/vnd.databricks.v1+cell": {
     "cellMetadata": {},
     "inputWidgets": {},
     "nuid": "eb4edba7-968f-48f5-abff-8c23f289bb8e",
     "showTitle": false,
     "tableResultSettingsMap": {},
     "title": ""
    }
   },
   "source": [
    "Calculate the sum and average of the digits present in a string\n",
    "Given a string s1, write a program to return the sum and average of the digits that appear in the string, ignoring all other characters.\n",
    "\n",
    "Given:\n",
    "\n",
    "str1 = \"PYnative29@#8496\"\n",
    "Expected Outcome:\n",
    "\n",
    "\n",
    "Sum is: 38 Average is  6.333333333333333"
   ]
  },
  {
   "cell_type": "code",
   "execution_count": 0,
   "metadata": {
    "application/vnd.databricks.v1+cell": {
     "cellMetadata": {
      "byteLimit": 2048000,
      "rowLimit": 10000
     },
     "inputWidgets": {},
     "nuid": "bfe71100-a015-4596-89bc-b298696e9ed0",
     "showTitle": false,
     "tableResultSettingsMap": {},
     "title": ""
    }
   },
   "outputs": [],
   "source": [
    "str1 = \"PYnative29@#8496\" \n",
    "c=0\n",
    "s=0\n",
    "for i in str1:\n",
    "    if i.isdigit():\n",
    "        s=s+int(i)\n",
    "        c=c+1\n",
    "print(s/c)\n",
    "print(s)\n",
    "print(c)"
   ]
  },
  {
   "cell_type": "markdown",
   "metadata": {
    "application/vnd.databricks.v1+cell": {
     "cellMetadata": {},
     "inputWidgets": {},
     "nuid": "1300081a-18d0-493f-99fd-85d07ef1212a",
     "showTitle": false,
     "tableResultSettingsMap": {},
     "title": ""
    }
   },
   "source": [
    "Write a program to count occurrences of all characters within a string\n",
    "Given:\n",
    "\n",
    "str1 = \"Apple\"\n",
    "Expected Outcome:\n",
    "\n",
    "{'A': 1, 'p': 2, 'l': 1, 'e': 1}"
   ]
  },
  {
   "cell_type": "code",
   "execution_count": 0,
   "metadata": {
    "application/vnd.databricks.v1+cell": {
     "cellMetadata": {
      "byteLimit": 2048000,
      "rowLimit": 10000
     },
     "inputWidgets": {},
     "nuid": "3a90c078-fe8e-463e-a5af-395ab46e90d9",
     "showTitle": false,
     "tableResultSettingsMap": {},
     "title": ""
    }
   },
   "outputs": [],
   "source": [
    "str1 = \"Apple\"\n",
    "for i in str1:\n",
    "    m=str1.count(i)\n",
    "    print(i,m)\n",
    "\n",
    "char_dict = dict()\n",
    "\n",
    "for char in str1:\n",
    "    count = str1.count(char)\n",
    "    # add / update the count of a character\n",
    "    char_dict[char] = count\n",
    "print('Result:', char_dict)"
   ]
  },
  {
   "cell_type": "markdown",
   "metadata": {
    "application/vnd.databricks.v1+cell": {
     "cellMetadata": {},
     "inputWidgets": {},
     "nuid": "926cadd1-6e5a-4948-8dce-248e982ee767",
     "showTitle": false,
     "tableResultSettingsMap": {},
     "title": ""
    }
   },
   "source": [
    ": Reverse a given string\n",
    "Given:\n",
    "\n",
    "str1 = \"PYnative\"\n",
    "Expected Output:\n",
    "\n",
    "evitanYP"
   ]
  },
  {
   "cell_type": "code",
   "execution_count": 0,
   "metadata": {
    "application/vnd.databricks.v1+cell": {
     "cellMetadata": {
      "byteLimit": 2048000,
      "rowLimit": 10000
     },
     "inputWidgets": {},
     "nuid": "51adfc20-0d24-4e6f-9ae4-84acf39ea782",
     "showTitle": false,
     "tableResultSettingsMap": {},
     "title": ""
    }
   },
   "outputs": [],
   "source": [
    "str1 = \"PYnative\"\n",
    "print(str1[::-1])"
   ]
  },
  {
   "cell_type": "markdown",
   "metadata": {
    "application/vnd.databricks.v1+cell": {
     "cellMetadata": {},
     "inputWidgets": {},
     "nuid": "1562d748-533b-4a11-9295-62f3615bb874",
     "showTitle": false,
     "tableResultSettingsMap": {},
     "title": ""
    }
   },
   "source": [
    "Split a string on hyphens\n",
    "Write a program to split a given string on hyphens and display each substring.\n",
    "\n",
    "Given:\n",
    "\n",
    "str1 = Emma-is-a-data-scientist\n",
    "Expected Output:\n",
    "\n",
    "Displaying each substring\n",
    "\n",
    "Emma\n",
    "is\n",
    "a\n",
    "data\n",
    "scientist"
   ]
  },
  {
   "cell_type": "code",
   "execution_count": 0,
   "metadata": {
    "application/vnd.databricks.v1+cell": {
     "cellMetadata": {
      "byteLimit": 2048000,
      "rowLimit": 10000
     },
     "inputWidgets": {},
     "nuid": "0aad5e86-abe0-4ca4-9ff7-12a5a85d4c55",
     "showTitle": false,
     "tableResultSettingsMap": {},
     "title": ""
    }
   },
   "outputs": [],
   "source": [
    "str1 = 'Emma-is-a-data-scientist'\n",
    "l=str1.split('-')\n",
    "for i in range(len(l)):\n",
    "    print(l[i])\n"
   ]
  },
  {
   "cell_type": "markdown",
   "metadata": {
    "application/vnd.databricks.v1+cell": {
     "cellMetadata": {},
     "inputWidgets": {},
     "nuid": "f8342760-f5fe-47a7-a0c0-79c79a2da69b",
     "showTitle": false,
     "tableResultSettingsMap": {},
     "title": ""
    }
   },
   "source": [
    "emove empty strings from a list of strings\n",
    "Given:\n",
    "\n",
    "str_list = [\"Emma\", \"Jon\", \"\", \"Kelly\", None, \"Eric\", \"\"]\n",
    "Expected Output:\n",
    "\n",
    "Original list of sting\n",
    "['Emma', 'Jon', '', 'Kelly', None, 'Eric', '']\n",
    "\n",
    "After removing empty strings\n",
    "['Emma', 'Jon', 'Kelly', 'Eric']"
   ]
  },
  {
   "cell_type": "code",
   "execution_count": 0,
   "metadata": {
    "application/vnd.databricks.v1+cell": {
     "cellMetadata": {
      "byteLimit": 2048000,
      "rowLimit": 10000
     },
     "inputWidgets": {},
     "nuid": "c568b4c2-556f-4b3e-9447-3d9af83d9925",
     "showTitle": false,
     "tableResultSettingsMap": {},
     "title": ""
    }
   },
   "outputs": [],
   "source": [
    "st=['Emma', 'Jon', '', 'Kelly', None, 'Eric', '']\n",
    "stt=[]\n",
    "for i in st:\n",
    "    if i:\n",
    "        stt.append(i)\n",
    "print(stt)"
   ]
  },
  {
   "cell_type": "markdown",
   "metadata": {
    "application/vnd.databricks.v1+cell": {
     "cellMetadata": {},
     "inputWidgets": {},
     "nuid": "818874af-79c8-4003-a6ef-c426de6055c8",
     "showTitle": false,
     "tableResultSettingsMap": {},
     "title": ""
    }
   },
   "source": [
    " Removal all characters from a string except integers\n",
    "Given:\n",
    "\n",
    "str1 = 'I am 25 years and 10 months old'\n",
    "Expected Output:\n",
    "\n",
    "2510"
   ]
  },
  {
   "cell_type": "code",
   "execution_count": 0,
   "metadata": {
    "application/vnd.databricks.v1+cell": {
     "cellMetadata": {
      "byteLimit": 2048000,
      "rowLimit": 10000
     },
     "inputWidgets": {},
     "nuid": "8941e2ed-e8a2-4460-a09d-adce07d99fc9",
     "showTitle": false,
     "tableResultSettingsMap": {},
     "title": ""
    }
   },
   "outputs": [],
   "source": [
    "str1 = 'I am 25 years and 10 months old'\n",
    "m=0\n",
    "for i in str1:\n",
    "    if i.isdigit():\n",
    "        print(i,end='')\n",
    "        \n"
   ]
  },
  {
   "cell_type": "markdown",
   "metadata": {
    "application/vnd.databricks.v1+cell": {
     "cellMetadata": {},
     "inputWidgets": {},
     "nuid": "6c010364-4828-4034-9500-fdf6ac54f29c",
     "showTitle": false,
     "tableResultSettingsMap": {},
     "title": ""
    }
   },
   "source": [
    "Find words with both alphabets and numbers\n",
    "Write a program to find words with both alphabets and numbers from an input string.\n",
    "\n",
    "Given:\n",
    "\n",
    "str1 = \"Emma25 is Data scientist50 and AI Expert\"\n",
    "Expected Output:\n",
    "\n",
    "Emma25\n",
    "scientist50"
   ]
  },
  {
   "cell_type": "code",
   "execution_count": 0,
   "metadata": {
    "application/vnd.databricks.v1+cell": {
     "cellMetadata": {
      "byteLimit": 2048000,
      "rowLimit": 10000
     },
     "inputWidgets": {},
     "nuid": "b844cb64-d718-46cc-8c70-214f2a3d1174",
     "showTitle": false,
     "tableResultSettingsMap": {},
     "title": ""
    }
   },
   "outputs": [],
   "source": [
    "str1 = \"Emma25 is Data scientist50 and AI Expert\"\n",
    "l=str1.split(' ')\n",
    "print(l)\n",
    "for i in range(len(l)):\n",
    "    if l[i].isalpha():\n",
    "        continue\n",
    "    else:\n",
    "        print(l[i])\n",
    "# another way\n",
    "res = []\n",
    "temp = str1.split()\n",
    "\n",
    "# Words with both alphabets and numbers\n",
    "# isdigit() for numbers + isalpha() for alphabets\n",
    "# use any() to check each character\n",
    "\n",
    "for item in temp:\n",
    "    if any(char.isalpha() for char in item) and any(char.isdigit() for char in item):\n",
    "        res.append(item)\n",
    "\n",
    "print(\"Displaying words with alphabets and numbers\")\n",
    "for i in res:\n",
    "    print(i)\n"
   ]
  },
  {
   "cell_type": "markdown",
   "metadata": {
    "application/vnd.databricks.v1+cell": {
     "cellMetadata": {},
     "inputWidgets": {},
     "nuid": "d48f0f8a-83de-431f-852e-9e63fe6c2004",
     "showTitle": false,
     "tableResultSettingsMap": {},
     "title": ""
    }
   },
   "source": [
    "Replace each special symbol with # in the following string\n",
    "Given:\n",
    "\n",
    "str1 = '/*Jon is @developer & musician!!'\n",
    "Expected Output:\n",
    "\n",
    "(##Jon is #developer # musician##)\n"
   ]
  },
  {
   "cell_type": "code",
   "execution_count": 0,
   "metadata": {
    "application/vnd.databricks.v1+cell": {
     "cellMetadata": {
      "byteLimit": 2048000,
      "rowLimit": 10000
     },
     "inputWidgets": {},
     "nuid": "7b9158b9-8916-47fe-9b9f-02115b9cfe21",
     "showTitle": false,
     "tableResultSettingsMap": {},
     "title": ""
    }
   },
   "outputs": [],
   "source": [
    "str1 = '/*Jon is @developer & musician!!'\n",
    "for i in str1:\n",
    "    if not i.isalnum():\n",
    "         str1=str1.replace(i,'#')\n",
    "print(str1)\n",
    "   "
   ]
  }
 ],
 "metadata": {
  "application/vnd.databricks.v1+notebook": {
   "computePreferences": null,
   "dashboards": [],
   "environmentMetadata": {
    "base_environment": "",
    "environment_version": "2"
   },
   "inputWidgetPreferences": null,
   "language": "python",
   "notebookMetadata": {
    "pythonIndentUnit": 4
   },
   "notebookName": "PRACDAY6",
   "widgets": {}
  },
  "language_info": {
   "name": "python"
  }
 },
 "nbformat": 4,
 "nbformat_minor": 0
}
