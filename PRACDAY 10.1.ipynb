{
 "cells": [
  {
   "cell_type": "markdown",
   "metadata": {
    "application/vnd.databricks.v1+cell": {
     "cellMetadata": {},
     "inputWidgets": {},
     "nuid": "409a9e0d-26ff-489f-8ebc-f40fb49a02ee",
     "showTitle": false,
     "tableResultSettingsMap": {},
     "title": ""
    }
   },
   "source": [
    "# Python List Exercise"
   ]
  },
  {
   "cell_type": "markdown",
   "metadata": {
    "application/vnd.databricks.v1+cell": {
     "cellMetadata": {},
     "inputWidgets": {},
     "nuid": "206160e3-1eaf-4af9-8546-680d77abb1ac",
     "showTitle": false,
     "tableResultSettingsMap": {},
     "title": ""
    }
   },
   "source": [
    "Perform Basic List Operations\n",
    "Given:\n",
    "\n",
    "my_list = [10, 20, 30, 40, 50]\n",
    "Perform following operations on given list\n",
    "\n",
    "Access Elements: Print the third element.\n",
    "List Length: Print the number of elements in the list\n",
    "Check if Empty: Write a code to check is list empty.\n",
    "Expected Output:\n",
    "\n",
    "Initial list: [10, 20, 30, 40, 50]\n",
    "\n",
    "Third item:  30\n",
    "Length of the list: 5\n",
    "list is not empty\n"
   ]
  },
  {
   "cell_type": "code",
   "execution_count": 0,
   "metadata": {
    "application/vnd.databricks.v1+cell": {
     "cellMetadata": {
      "byteLimit": 2048000,
      "rowLimit": 10000
     },
     "inputWidgets": {},
     "nuid": "159b4582-df5e-40b0-bb25-aff7bda784ed",
     "showTitle": false,
     "tableResultSettingsMap": {},
     "title": ""
    }
   },
   "outputs": [],
   "source": [
    "my_list = [10, 20, 30, 40, 50]\n",
    "print(my_list[2])\n",
    "print(len(my_list))\n",
    "if len(my_list) > 0:\n",
    "  print(\"List is not empty\")\n",
    "else :\n",
    "  print(\"List is empty\")\n"
   ]
  },
  {
   "cell_type": "markdown",
   "metadata": {
    "application/vnd.databricks.v1+cell": {
     "cellMetadata": {},
     "inputWidgets": {},
     "nuid": "075bb21d-13a2-4e35-af2a-05d46502db02",
     "showTitle": false,
     "tableResultSettingsMap": {},
     "title": ""
    }
   },
   "source": [
    "Perform List Manipulation\n",
    "Given:\n",
    "\n",
    "my_list = [10, 20, 30, 40, 50]\n",
    "Perform following list manipulation operations on given list\n",
    "\n",
    "Change Element: Change the second element of a list to 200 and print the updated list.\n",
    "Append Element: Add 600 o the end of a list and print the new list.\n",
    "Insert Element: Insert 300 at the third position (index 2) of a list and print the result.\n",
    "Remove Element (by value): Remove 600 from the list and print the list.\n",
    "Remove Element (by index): Remove the element at index 0 from the list print the list.\n",
    "\n",
    "Expected Output:\n",
    "\n",
    "Initial list: [10, 20, 30, 40, 50]\n",
    "\n",
    "After changing second element: [10, 200, 30, 40, 50]\n",
    "List after appending 600: [10, 200, 30, 40, 50, 600]\n",
    "List after inserting 300 at index 2: [10, 200, 300, 30, 40, 50, 600]\n",
    "List after removing 600 (by value): [10, 200, 300, 30, 40, 50]\n",
    "List after removing element at index 0: [200, 300, 30, 40, 50]"
   ]
  },
  {
   "cell_type": "code",
   "execution_count": 0,
   "metadata": {
    "application/vnd.databricks.v1+cell": {
     "cellMetadata": {
      "byteLimit": 2048000,
      "rowLimit": 10000
     },
     "inputWidgets": {},
     "nuid": "5c413e8c-7ddb-478b-8e7c-b34b3a11949a",
     "showTitle": false,
     "tableResultSettingsMap": {},
     "title": ""
    }
   },
   "outputs": [],
   "source": [
    "my_list = [10, 20, 30, 40, 50]\n",
    "my_list[1]=200\n",
    "print(\"after 2nd  eecment \",my_list)\n",
    "mlist=my_list\n",
    "mlist.append(600)\n",
    "print(mlist)\n",
    "mlist.insert(2,300)\n",
    "print(mlist)\n",
    "mlist.remove(600)\n",
    "print(mlist)\n",
    "del mlist()\n",
    "print(mlist)"
   ]
  },
  {
   "cell_type": "code",
   "execution_count": 0,
   "metadata": {
    "application/vnd.databricks.v1+cell": {
     "cellMetadata": {
      "byteLimit": 2048000,
      "rowLimit": 10000
     },
     "inputWidgets": {},
     "nuid": "e23a3e6f-6706-479b-a4a2-e551e96c5e7c",
     "showTitle": false,
     "tableResultSettingsMap": {},
     "title": ""
    }
   },
   "outputs": [],
   "source": [
    "my_list = [10, 20, 30, 40, 50]\n",
    "my_list[1]=200\n",
    "print(\"after 2nd  eecment \",my_list)\n",
    "mlist=my_list\n",
    "mlist.append(600)\n",
    "print(mlist)\n",
    "mlist.insert(2,300)\n",
    "print(mlist)\n",
    "mlist.remove(600)\n",
    "print(mlist)\n",
    "del mlist[0]\n",
    "print(mlist)"
   ]
  },
  {
   "cell_type": "markdown",
   "metadata": {
    "application/vnd.databricks.v1+cell": {
     "cellMetadata": {},
     "inputWidgets": {},
     "nuid": "31ac5d70-23ab-4a48-b097-d99405af9574",
     "showTitle": false,
     "tableResultSettingsMap": {},
     "title": ""
    }
   },
   "source": [
    "Sum and average of all numbers in a list\n",
    "Calculate and print the sum and average of all numbers in a list.\n",
    "\n",
    "Given:\n",
    "\n",
    "my_list = [10, 20, 30, 40, 50]\n",
    "Expected Output:\n",
    "\n",
    "Sum: 150\n",
    "Average: 30.0"
   ]
  },
  {
   "cell_type": "code",
   "execution_count": 0,
   "metadata": {
    "application/vnd.databricks.v1+cell": {
     "cellMetadata": {
      "byteLimit": 2048000,
      "rowLimit": 10000
     },
     "inputWidgets": {},
     "nuid": "7c7f3f6e-4014-46c3-86ce-b03ad1b19d1b",
     "showTitle": false,
     "tableResultSettingsMap": {},
     "title": ""
    }
   },
   "outputs": [],
   "source": [
    "my_list = [10, 20, 30, 40, 50]\n",
    "\n",
    "summ=sum(my_list)\n",
    "avgg=summ/len(my_list)\n",
    "print(summ)\n",
    "print(avgg)"
   ]
  },
  {
   "cell_type": "markdown",
   "metadata": {
    "application/vnd.databricks.v1+cell": {
     "cellMetadata": {},
     "inputWidgets": {},
     "nuid": "e3ce5620-8162-4a29-a694-2bab1ce5f1d5",
     "showTitle": false,
     "tableResultSettingsMap": {},
     "title": ""
    }
   },
   "source": [
    "Reverse a list\n",
    "Given:\n",
    "\n",
    "\n",
    "list1 = [100, 200, 300, 400, 500]\n",
    "Expected output:\n",
    "\n",
    "[500, 400, 300, 200, 100]"
   ]
  },
  {
   "cell_type": "code",
   "execution_count": 0,
   "metadata": {
    "application/vnd.databricks.v1+cell": {
     "cellMetadata": {
      "byteLimit": 2048000,
      "rowLimit": 10000
     },
     "inputWidgets": {},
     "nuid": "d71de6b0-4ad1-4a22-a815-ca8237fe2554",
     "showTitle": false,
     "tableResultSettingsMap": {},
     "title": ""
    }
   },
   "outputs": [],
   "source": [
    "list1 = [100, 200, 300, 400, 500]\n",
    "list1.reverse()\n",
    "print(list1)\n",
    "\n"
   ]
  },
  {
   "cell_type": "markdown",
   "metadata": {
    "application/vnd.databricks.v1+cell": {
     "cellMetadata": {},
     "inputWidgets": {},
     "nuid": "6d340936-6628-4efc-ae85-55318d39ae0f",
     "showTitle": false,
     "tableResultSettingsMap": {},
     "title": ""
    }
   },
   "source": [
    "Turn every item of a list into its square\n",
    "Given a list of numbers. write a program to turn every item of a list into its square.\n",
    "\n",
    "Given:\n",
    "\n",
    "numbers = [1, 2, 3, 4, 5, 6, 7]\n",
    "Expected output:\n",
    "\n",
    "[1, 4, 9, 16, 25, 36, 49]"
   ]
  },
  {
   "cell_type": "code",
   "execution_count": 0,
   "metadata": {
    "application/vnd.databricks.v1+cell": {
     "cellMetadata": {
      "byteLimit": 2048000,
      "rowLimit": 10000
     },
     "inputWidgets": {},
     "nuid": "c90b04d4-e962-4565-b40b-19777bb0e8d1",
     "showTitle": false,
     "tableResultSettingsMap": {},
     "title": ""
    }
   },
   "outputs": [],
   "source": [
    "numbers = [1, 2, 3, 4, 5, 6, 7]\n",
    "doubled_numbers = [item ** 2 for item in numbers]\n",
    "print(doubled_numbers)\n",
    "x=[]\n",
    "for y in numbers:\n",
    "  x.append(y*y)\n",
    "print(x)"
   ]
  },
  {
   "cell_type": "markdown",
   "metadata": {
    "application/vnd.databricks.v1+cell": {
     "cellMetadata": {},
     "inputWidgets": {},
     "nuid": "0cae56ce-d220-41e3-9dd9-235fa5b87ab6",
     "showTitle": false,
     "tableResultSettingsMap": {},
     "title": ""
    }
   },
   "source": [
    "Find Maximum and Minimum\n",
    "Find and print the largest and smallest number in a list [8, 2, 15, 1, 9].\n",
    "\n",
    "Given:\n",
    "\n",
    "data = [8, 2, 15, 1, 9]"
   ]
  },
  {
   "cell_type": "code",
   "execution_count": 0,
   "metadata": {
    "application/vnd.databricks.v1+cell": {
     "cellMetadata": {
      "byteLimit": 2048000,
      "rowLimit": 10000
     },
     "inputWidgets": {},
     "nuid": "5185d736-c29a-4dfa-9ee9-40995607265f",
     "showTitle": false,
     "tableResultSettingsMap": {},
     "title": ""
    }
   },
   "outputs": [],
   "source": [
    "data = [8, 2, 15, 1, 9]\n",
    "print(max(data))\n",
    "print(min(data))"
   ]
  },
  {
   "cell_type": "code",
   "execution_count": 0,
   "metadata": {
    "application/vnd.databricks.v1+cell": {
     "cellMetadata": {},
     "inputWidgets": {},
     "nuid": "eb7b5b25-4f71-4823-adea-ac3299d2d376",
     "showTitle": false,
     "tableResultSettingsMap": {},
     "title": ""
    }
   },
   "outputs": [],
   "source": [
    " Count Occurrences\n",
    "Count and print how many times 'Football' appears in list.\n",
    "\n",
    "Given:\n",
    "\n",
    "sports = ['Cricket', 'Football', 'Hockey', 'Football', 'Tennis']."
   ]
  },
  {
   "cell_type": "code",
   "execution_count": 0,
   "metadata": {
    "application/vnd.databricks.v1+cell": {
     "cellMetadata": {
      "byteLimit": 2048000,
      "rowLimit": 10000
     },
     "inputWidgets": {},
     "nuid": "4f139648-6b69-43e4-9db3-1e9502c9bfd8",
     "showTitle": false,
     "tableResultSettingsMap": {},
     "title": ""
    }
   },
   "outputs": [],
   "source": [
    "sports = ['Cricket', 'Football', 'Hockey', 'Football', 'Hockey','Tennis']\n",
    "print(sports.count('Football'))\n",
    "y= input(\"enter the element to be searched\")\n",
    "c=0\n",
    "\n",
    "for x in sports:\n",
    "    if x==y:\n",
    "        c=c+1\n",
    "print(c)"
   ]
  },
  {
   "cell_type": "markdown",
   "metadata": {
    "application/vnd.databricks.v1+cell": {
     "cellMetadata": {},
     "inputWidgets": {},
     "nuid": "53685e6b-0a50-46cb-b15b-5b4e6974e322",
     "showTitle": false,
     "tableResultSettingsMap": {},
     "title": ""
    }
   },
   "source": [
    "Sort a list of numbers\n",
    "Sort a given list of numbers in ascending order and print it.\n",
    "\n",
    "Given: numbers = [5, 2, 8, 1, 9]"
   ]
  },
  {
   "cell_type": "code",
   "execution_count": 0,
   "metadata": {
    "application/vnd.databricks.v1+cell": {
     "cellMetadata": {
      "byteLimit": 2048000,
      "rowLimit": 10000
     },
     "inputWidgets": {},
     "nuid": "7f5e59f7-f71a-4244-ad25-4474b8f24982",
     "showTitle": false,
     "tableResultSettingsMap": {},
     "title": ""
    }
   },
   "outputs": [],
   "source": [
    "\n",
    "numbers = [5, 2, 8, 1, 9]\n",
    "numbers.sort()\n",
    "print(numbers)"
   ]
  },
  {
   "cell_type": "markdown",
   "metadata": {
    "application/vnd.databricks.v1+cell": {
     "cellMetadata": {},
     "inputWidgets": {},
     "nuid": "7b6db870-a0b4-4d47-a082-c92f96dad4cd",
     "showTitle": false,
     "tableResultSettingsMap": {},
     "title": ""
    }
   },
   "source": [
    "Create a copy of a list\n",
    "Create a copy of a list [10, 20, 30] and modify the copy. Print both the original and the copied list to demonstrate they are independen"
   ]
  },
  {
   "cell_type": "code",
   "execution_count": 0,
   "metadata": {
    "application/vnd.databricks.v1+cell": {
     "cellMetadata": {
      "byteLimit": 2048000,
      "rowLimit": 10000
     },
     "inputWidgets": {},
     "nuid": "69057fb7-8a26-4105-8566-c9f85a6834b1",
     "showTitle": false,
     "tableResultSettingsMap": {},
     "title": ""
    }
   },
   "outputs": [],
   "source": [
    "l=[]\n",
    "l2=[10,20,40,50,60]\n",
    "l=l2\n",
    "print(l)\n",
    "print(l2)\n",
    "l.append(400)\n",
    "l3=l2.copy()\n",
    "print(l)\n",
    "print(l3)"
   ]
  },
  {
   "cell_type": "markdown",
   "metadata": {
    "application/vnd.databricks.v1+cell": {
     "cellMetadata": {},
     "inputWidgets": {},
     "nuid": "84f0172e-b528-4efc-9933-63f03462dc15",
     "showTitle": false,
     "tableResultSettingsMap": {},
     "title": ""
    }
   },
   "source": [
    "Combine two lists\n",
    "Combine given two lists into a single list and print it.\n",
    "\n",
    "Given:\n",
    "\n",
    "list_a = [1, 2]\n",
    "list_b = [3, 4]\n",
    "Expected Output:\n",
    "\n",
    "[1, 2, 3, 4]"
   ]
  },
  {
   "cell_type": "code",
   "execution_count": 0,
   "metadata": {
    "application/vnd.databricks.v1+cell": {
     "cellMetadata": {},
     "inputWidgets": {},
     "nuid": "acc60463-b3ca-4045-97b8-f47a70adb6b9",
     "showTitle": false,
     "tableResultSettingsMap": {},
     "title": ""
    }
   },
   "outputs": [],
   "source": []
  },
  {
   "cell_type": "code",
   "execution_count": 0,
   "metadata": {
    "application/vnd.databricks.v1+cell": {
     "cellMetadata": {
      "byteLimit": 2048000,
      "rowLimit": 10000
     },
     "inputWidgets": {},
     "nuid": "2340b75e-387d-4d40-877f-15a89f17412b",
     "showTitle": false,
     "tableResultSettingsMap": {},
     "title": ""
    }
   },
   "outputs": [],
   "source": [
    "\n",
    "list_a = [1, 2]\n",
    "list_b = [3, 4]\n",
    "list_c = list_a + list_b\n",
    "print(list_c)"
   ]
  },
  {
   "cell_type": "markdown",
   "metadata": {
    "application/vnd.databricks.v1+cell": {
     "cellMetadata": {},
     "inputWidgets": {},
     "nuid": "7125e8be-5468-49ee-8a22-dcce9b65c344",
     "showTitle": false,
     "tableResultSettingsMap": {},
     "title": ""
    }
   },
   "source": [
    ": Remove empty strings from the list of strings\n",
    "list1 = [\"Mike\", \"\", \"Emma\", \"Kelly\", \"\", \"Brad\"]\n",
    "\n",
    "Expected output:\n",
    "\n",
    "[\"Mike\", \"Emma\", \"Kelly\", \"Brad\"]"
   ]
  },
  {
   "cell_type": "code",
   "execution_count": 0,
   "metadata": {
    "application/vnd.databricks.v1+cell": {
     "cellMetadata": {
      "byteLimit": 2048000,
      "rowLimit": 10000
     },
     "inputWidgets": {},
     "nuid": "5d0470e2-1e63-4992-90b2-107de82e319d",
     "showTitle": false,
     "tableResultSettingsMap": {},
     "title": ""
    }
   },
   "outputs": [],
   "source": [
    "list1 = [\"Mike\", \"\", \"Emma\", \"Kelly\", \"\", \"Brad\"]\n",
    "for i in list1:\n",
    "    if i==\"\":\n",
    "        list1.remove(i)\n",
    "print(list1)\n",
    "res = list(filter(None, list1))\n",
    "print(res)\n"
   ]
  },
  {
   "cell_type": "markdown",
   "metadata": {
    "application/vnd.databricks.v1+cell": {
     "cellMetadata": {},
     "inputWidgets": {},
     "nuid": "42d21fc0-e247-48eb-8191-f83978e6d331",
     "showTitle": false,
     "tableResultSettingsMap": {},
     "title": ""
    }
   },
   "source": [
    "Remove Duplicates from list\n",
    "Write a function that takes a list with duplicate elements and returns a new list with only unique elements.\n",
    "\n",
    "Given: list_with_duplicates = [1, 2, 2, 3, 1, 4, 5, 4]\n",
    "\n",
    "Expected Output:\n",
    "\n",
    "[1, 2, 3, 4, 5]"
   ]
  },
  {
   "cell_type": "code",
   "execution_count": 0,
   "metadata": {
    "application/vnd.databricks.v1+cell": {
     "cellMetadata": {
      "byteLimit": 2048000,
      "rowLimit": 10000
     },
     "inputWidgets": {},
     "nuid": "43b3a9ec-e460-4eb5-a9fb-6effa6c9d978",
     "showTitle": false,
     "tableResultSettingsMap": {},
     "title": ""
    }
   },
   "outputs": [],
   "source": [
    "duplicates = [1, 2, 2, 3, 1, 4, 5, 4]\n",
    "m=set(duplicates)\n",
    "print(m)\n",
    "print(list(m))"
   ]
  },
  {
   "cell_type": "markdown",
   "metadata": {
    "application/vnd.databricks.v1+cell": {
     "cellMetadata": {},
     "inputWidgets": {},
     "nuid": "5b3311f2-bbd7-4b98-900f-2ab1e72a32f7",
     "showTitle": false,
     "tableResultSettingsMap": {},
     "title": ""
    }
   },
   "source": [
    "Remove all occurrences of a specific item from a list\n",
    "Given a Python list, write a program to remove all occurrences of item 20.\n",
    "\n",
    "Given:\n",
    "\n",
    "list1 = [5, 20, 15, 20, 25, 50, 20]\n",
    "Expected output:\n",
    "\n",
    "\n",
    "[5, 15, 25, 50]"
   ]
  },
  {
   "cell_type": "code",
   "execution_count": 0,
   "metadata": {
    "application/vnd.databricks.v1+cell": {
     "cellMetadata": {
      "byteLimit": 2048000,
      "rowLimit": 10000
     },
     "inputWidgets": {},
     "nuid": "3cf3da9f-c7eb-45b8-afaf-9c76ec35347c",
     "showTitle": false,
     "tableResultSettingsMap": {},
     "title": ""
    }
   },
   "outputs": [],
   "source": [
    "list1 = [5, 20, 15, 20, 25, 50, 20]\n",
    "ml = [x for x in list1 if x != 20]\n",
    "print(ml)"
   ]
  },
  {
   "cell_type": "code",
   "execution_count": 0,
   "metadata": {
    "application/vnd.databricks.v1+cell": {
     "cellMetadata": {
      "byteLimit": 2048000,
      "rowLimit": 10000
     },
     "inputWidgets": {},
     "nuid": "e3f09f7b-c333-40a4-b76f-262e458717f6",
     "showTitle": false,
     "tableResultSettingsMap": {},
     "title": ""
    }
   },
   "outputs": [],
   "source": [
    "my_list = list([6, 4, 6, 6, 8, 12])\n",
    "\n",
    "for item in my_list:\n",
    "    my_list.remove(6)\n",
    "\n",
    "print(my_list)"
   ]
  },
  {
   "cell_type": "markdown",
   "metadata": {
    "application/vnd.databricks.v1+cell": {
     "cellMetadata": {},
     "inputWidgets": {},
     "nuid": "3f88e111-a800-4d7e-bfd0-a45e93c88507",
     "showTitle": false,
     "tableResultSettingsMap": {},
     "title": ""
    }
   },
   "source": [
    " List Comprehension for Numbers\n",
    "Use list comprehension to create a new list containing only the numbers from a given list.\n",
    "\n",
    "Given:\n",
    "\n",
    "my_list = [1, 2, 3, 'Jessa', 4, 5, 'Kelly', 'Jhon', 6]\n",
    "Expected Output:\n",
    "\n",
    "[1, 2, 3, 4, 5, 6]"
   ]
  },
  {
   "cell_type": "code",
   "execution_count": 0,
   "metadata": {
    "application/vnd.databricks.v1+cell": {
     "cellMetadata": {
      "byteLimit": 2048000,
      "rowLimit": 10000
     },
     "inputWidgets": {},
     "nuid": "6604f3e3-6cb8-4599-b44e-9a60182ec9dd",
     "showTitle": false,
     "tableResultSettingsMap": {},
     "title": ""
    }
   },
   "outputs": [],
   "source": [
    "my_list = [1, 2, 3, 'Jessa', 4, 5, 'Kelly', 'Jhon', 6,7.7]\n",
    "l=[x for x in my_list if type(x)==int]\n",
    "m=[x for x in my_list if str(x).isdigit()]\n",
    "o=[x for x in my_list if isinstance(x, (int,float))]\n",
    "print(o)\n",
    "\n",
    "print(m)\n",
    "print(l)"
   ]
  },
  {
   "cell_type": "markdown",
   "metadata": {
    "application/vnd.databricks.v1+cell": {
     "cellMetadata": {},
     "inputWidgets": {},
     "nuid": "da3f126c-dfef-47d9-b03b-18b94ec4d2e3",
     "showTitle": false,
     "tableResultSettingsMap": {},
     "title": ""
    }
   },
   "source": [
    "Access Nested Lists\n",
    "Given a nested list, print the element '55'"
   ]
  },
  {
   "cell_type": "code",
   "execution_count": 0,
   "metadata": {
    "application/vnd.databricks.v1+cell": {
     "cellMetadata": {
      "byteLimit": 2048000,
      "rowLimit": 10000
     },
     "inputWidgets": {},
     "nuid": "a6046b25-dcff-4d99-bee6-5c23a3569f3b",
     "showTitle": false,
     "tableResultSettingsMap": {},
     "title": ""
    }
   },
   "outputs": [],
   "source": [
    "nested_list = [[10, 20, 30], [44, 55, 66], [77, 87, 99]]\n",
    "for i in nested_list:\n",
    "    for j in i:\n",
    "        if j==55:\n",
    "            print(j)\n"
   ]
  },
  {
   "cell_type": "markdown",
   "metadata": {
    "application/vnd.databricks.v1+cell": {
     "cellMetadata": {},
     "inputWidgets": {},
     "nuid": "bc12060d-93f4-4da1-af7d-0105cfb92d12",
     "showTitle": false,
     "tableResultSettingsMap": {},
     "title": ""
    }
   },
   "source": [
    "Flatten Nested List\n",
    "Write a function to flatten a list of lists into a single, non-nested list. (e.g., [[1, 2], [3, 4]] becomes [1, 2, 3, 4])."
   ]
  },
  {
   "cell_type": "markdown",
   "metadata": {
    "application/vnd.databricks.v1+cell": {
     "cellMetadata": {},
     "inputWidgets": {},
     "nuid": "c1287f70-8b1a-440c-b125-542da2295c3c",
     "showTitle": false,
     "tableResultSettingsMap": {},
     "title": ""
    }
   },
   "source": [
    ": Concatenate two lists index-wise\n",
    "Write a program to add two lists index-wise. Create a new list that contains the 0th index item from both the list, then the 1st index item, and so on till the last element. any leftover items will get added at the end of the new list.\n",
    "\n",
    "Given:\n",
    "\n",
    "list1 = [\"M\", \"na\", \"i\", \"Ke\"]\n",
    "list2 = [\"y\", \"me\", \"s\", \"lly\"]\n",
    "Expected output:\n",
    "\n",
    "['My', 'name', 'is', 'Kelly'] "
   ]
  },
  {
   "cell_type": "code",
   "execution_count": 0,
   "metadata": {
    "application/vnd.databricks.v1+cell": {
     "cellMetadata": {
      "byteLimit": 2048000,
      "rowLimit": 10000
     },
     "inputWidgets": {},
     "nuid": "79ec69e4-83ce-449a-a01d-da6e2d018a96",
     "showTitle": false,
     "tableResultSettingsMap": {},
     "title": ""
    }
   },
   "outputs": [],
   "source": [
    "list_of_lists = [[1, 2], [3, 4], [5, 6, 7]]\n",
    "z=[]\n",
    "for i in list_of_lists:\n",
    "    for j in i:\n",
    "        z.append(j)\n",
    "print(z)\n",
    "list_of_lists = [[1, 2], [3,[2,4,5,6], 4], [5, 6, 7]]\n",
    "\n",
    "def flatten_list_comprehension(nested_list):\n",
    "  return [item for sublist in nested_list for item in sublist]\n",
    "\n",
    "print(flatten_list_comprehension(list_of_lists))\n",
    "        "
   ]
  },
  {
   "cell_type": "code",
   "execution_count": 0,
   "metadata": {
    "application/vnd.databricks.v1+cell": {
     "cellMetadata": {
      "byteLimit": 2048000,
      "rowLimit": 10000
     },
     "inputWidgets": {},
     "nuid": "3d489449-75b4-49fd-91e6-f491f162c35a",
     "showTitle": false,
     "tableResultSettingsMap": {},
     "title": ""
    }
   },
   "outputs": [],
   "source": [
    "list1 = [\"M\", \"na\", \"i\", \"Ke\"]\n",
    "list2 = [\"y\", \"me\", \"s\", \"lly\"]\n",
    "list3 = [x+y for x,y in zip(list1,list2)]\n",
    "print(list3)\n",
    "list4=[]\n",
    "for i in range(len(list1)):\n",
    "    list4.append(list1[i]+list2[i])\n",
    "print(list4)"
   ]
  },
  {
   "cell_type": "markdown",
   "metadata": {
    "application/vnd.databricks.v1+cell": {
     "cellMetadata": {},
     "inputWidgets": {},
     "nuid": "4b8c1e7c-423a-475a-affc-7ee7d11e399e",
     "showTitle": false,
     "tableResultSettingsMap": {},
     "title": ""
    }
   },
   "source": [
    " Concatenate two lists in the following order\n",
    "list1 = [\"Hello \", \"take \"]\n",
    "list2 = [\"Dear\", \"Sir\"]\n",
    "Expected output:\n",
    "\n",
    "['Hello Dear', 'Hello Sir', 'take Dear', 'take Sir']"
   ]
  },
  {
   "cell_type": "code",
   "execution_count": 0,
   "metadata": {
    "application/vnd.databricks.v1+cell": {
     "cellMetadata": {
      "byteLimit": 2048000,
      "rowLimit": 10000
     },
     "inputWidgets": {},
     "nuid": "c5773d40-93ae-4e03-84a2-5c89844afa72",
     "showTitle": false,
     "tableResultSettingsMap": {},
     "title": ""
    }
   },
   "outputs": [],
   "source": [
    "list1 = [\"Hello \", \"take \"]\n",
    "list2 = [\"Dear\", \"Sir\"]\n",
    "list3=[]\n",
    "for i in range (len(list1)):\n",
    "    for j in range(len(list2)):\n",
    "        list3.append(list1[i]+list2[j])\n",
    "print(list3)"
   ]
  },
  {
   "cell_type": "markdown",
   "metadata": {
    "application/vnd.databricks.v1+cell": {
     "cellMetadata": {},
     "inputWidgets": {},
     "nuid": "144f5a15-875b-413f-bcbf-8b8812aeb807",
     "showTitle": false,
     "tableResultSettingsMap": {},
     "title": ""
    }
   },
   "source": [
    "Iterate both lists simultaneously\n",
    "Given a two Python list. Write a program to iterate both lists simultaneously and display items from list1 in original order and items from list2 in reverse order.\n",
    "\n",
    "Given\n",
    "\n",
    "list1 = [10, 20, 30, 40]\n",
    "list2 = [100, 200, 300, 400]\n",
    "Expected output:\n",
    "\n",
    "10 400\n",
    "20 300\n",
    "30 200\n",
    "40 100\n"
   ]
  },
  {
   "cell_type": "code",
   "execution_count": 0,
   "metadata": {
    "application/vnd.databricks.v1+cell": {
     "cellMetadata": {
      "byteLimit": 2048000,
      "rowLimit": 10000
     },
     "inputWidgets": {},
     "nuid": "e6ae8430-0838-4b3d-9286-1f6fcc020885",
     "showTitle": false,
     "tableResultSettingsMap": {},
     "title": ""
    }
   },
   "outputs": [],
   "source": [
    "list1 = [10, 20, 30, 40]\n",
    "list2 = [100, 200, 300, 400]\n",
    "list2.reverse()\n",
    "for i in range(len(list1)):\n",
    "    print(list1[i],list2[i])\n",
    "for x, y in zip(list1, list2[::-1]):\n",
    "    print(x, y)"
   ]
  },
  {
   "cell_type": "markdown",
   "metadata": {
    "application/vnd.databricks.v1+cell": {
     "cellMetadata": {},
     "inputWidgets": {},
     "nuid": "f12f9bc4-3e8c-48ec-ab92-8e5e76934fd2",
     "showTitle": false,
     "tableResultSettingsMap": {},
     "title": ""
    }
   },
   "source": [
    "dd new item to list after a specified item\n",
    "Write a program to add item 7000 after 6000 in the following Python List\n",
    "\n",
    "Given:\n",
    "\n",
    "list1 = [10, 20, [300, 400, [5000, 6000], 500], 30, 40]\n",
    "Expected output:\n",
    "\n",
    "[10, 20, [300, 400, [5000, 6000, 7000], 500], 30, 40]\n",
    "Show Hint\n",
    "Show Solution\n",
    "Use the append() method"
   ]
  },
  {
   "cell_type": "code",
   "execution_count": 0,
   "metadata": {
    "application/vnd.databricks.v1+cell": {
     "cellMetadata": {
      "byteLimit": 2048000,
      "rowLimit": 10000
     },
     "inputWidgets": {},
     "nuid": "c1dc1cc8-ff55-445f-853c-03fde42b327f",
     "showTitle": false,
     "tableResultSettingsMap": {},
     "title": ""
    }
   },
   "outputs": [],
   "source": [
    "\n",
    "\n",
    "list1 = [10, 20, [300, 400, [5000, 6000], 500], 30, 40]\n",
    "\n",
    "# understand indexing\n",
    "# list1[0] = 10\n",
    "# list1[1] = 20\n",
    "# list1[2] = [300, 400, [5000, 6000], 500]\n",
    "# list1[2][2] = [5000, 6000]\n",
    "# list1[2][2][1] = 6000\n",
    "\n",
    "# solution\n",
    "list1[2][2].append(7000)\n",
    "print(list1)"
   ]
  },
  {
   "cell_type": "markdown",
   "metadata": {
    "application/vnd.databricks.v1+cell": {
     "cellMetadata": {},
     "inputWidgets": {},
     "nuid": "29988cca-410e-4bc9-8567-eac2aab5c2ae",
     "showTitle": false,
     "tableResultSettingsMap": {},
     "title": ""
    }
   },
   "source": [
    "Extend nested list by adding the sublist\n",
    "You have given a nested list. Write a program to extend it by adding the sublist [\"h\", \"i\", \"j\"] in such a way that it will look like the following list.\n",
    "\n",
    "Given List:\n",
    "\n",
    "list1 = [\"a\", \"b\", [\"c\", [\"d\", \"e\", [\"f\", \"g\"], \"k\"], \"l\"], \"m\", \"n\"]\n",
    "\n",
    "sub list to add\n",
    "sub_list = [\"h\", \"i\", \"j\"]\n",
    "Expected Output:\n",
    "\n",
    "['a', 'b', ['c', ['d', 'e', ['f', 'g', 'h', 'i', 'j'], 'k'], 'l'], 'm', 'n']\n"
   ]
  },
  {
   "cell_type": "code",
   "execution_count": 0,
   "metadata": {
    "application/vnd.databricks.v1+cell": {
     "cellMetadata": {},
     "inputWidgets": {},
     "nuid": "f7d3b184-acf0-4ad7-b492-b40a61cd41a1",
     "showTitle": false,
     "tableResultSettingsMap": {},
     "title": ""
    }
   },
   "outputs": [],
   "source": [
    "\n",
    "list1 = [\"a\", \"b\", [\"c\", [\"d\", \"e\", [\"f\", \"g\"], \"k\"], \"l\"], \"m\", \"n\"]\n",
    "sub_list = [\"h\", \"i\", \"j\"]\n",
    "\n",
    "# understand indexing\n",
    "# list1[2] = ['c', ['d', 'e', ['f', 'g'], 'k'], 'l']\n",
    "# list1[2][1] = ['d', 'e', ['f', 'g'], 'k']\n",
    "# list1[2][1][2] = ['f', 'g']\n",
    "\n",
    "# solution\n",
    "list1[2][1][2].extend(sub_list)\n",
    "print(list1)"
   ]
  },
  {
   "cell_type": "markdown",
   "metadata": {
    "application/vnd.databricks.v1+cell": {
     "cellMetadata": {},
     "inputWidgets": {},
     "nuid": "039ed1ea-9524-4e82-a315-44c4b622a7ab",
     "showTitle": false,
     "tableResultSettingsMap": {},
     "title": ""
    }
   },
   "source": []
  },
  {
   "cell_type": "code",
   "execution_count": 0,
   "metadata": {
    "application/vnd.databricks.v1+cell": {
     "cellMetadata": {
      "byteLimit": 2048000,
      "rowLimit": 10000
     },
     "inputWidgets": {},
     "nuid": "ac8d53ea-7959-4aa0-a7cb-379bd5242b46",
     "showTitle": false,
     "tableResultSettingsMap": {},
     "title": ""
    }
   },
   "outputs": [],
   "source": [
    "list1 = [5, 10, 15, 20, 25, 50, 20]\n",
    "\n",
    "# get the first occurrence index\n",
    "index = list1.index(20)\n",
    "\n",
    "# update item present at location\n",
    "list1[index] = 200\n",
    "print(list1)"
   ]
  }
 ],
 "metadata": {
  "application/vnd.databricks.v1+notebook": {
   "computePreferences": null,
   "dashboards": [],
   "environmentMetadata": {
    "base_environment": "",
    "environment_version": "2"
   },
   "inputWidgetPreferences": null,
   "language": "python",
   "notebookMetadata": {
    "pythonIndentUnit": 4
   },
   "notebookName": "PRACDAY 10.1",
   "widgets": {}
  },
  "language_info": {
   "name": "python"
  }
 },
 "nbformat": 4,
 "nbformat_minor": 0
}
