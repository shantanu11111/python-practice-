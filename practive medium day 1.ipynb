{
 "cells": [
  {
   "cell_type": "markdown",
   "metadata": {
    "application/vnd.databricks.v1+cell": {
     "cellMetadata": {},
     "inputWidgets": {},
     "nuid": "7d2dfe5a-f8b2-46e7-9940-9ddd88562bcb",
     "showTitle": false,
     "tableResultSettingsMap": {},
     "title": ""
    }
   },
   "source": [
    "###  🔷 10 Medium-Level Python Questions (Strictly from Your Topics)\n"
   ]
  },
  {
   "cell_type": "markdown",
   "metadata": {
    "application/vnd.databricks.v1+cell": {
     "cellMetadata": {},
     "inputWidgets": {},
     "nuid": "7d6616fd-90bd-4d01-8e81-165c4c33d256",
     "showTitle": false,
     "tableResultSettingsMap": {},
     "title": ""
    }
   },
   "source": [
    "### **Variable** Swapping Without Temp Variable Swap the values of a = 10 and b = 20 without using a third variable. Print before and after values."
   ]
  },
  {
   "cell_type": "code",
   "execution_count": 0,
   "metadata": {
    "application/vnd.databricks.v1+cell": {
     "cellMetadata": {
      "byteLimit": 2048000,
      "rowLimit": 10000
     },
     "inputWidgets": {},
     "nuid": "a14c615e-6f39-4b7f-a75c-a3d8332aaf0e",
     "showTitle": false,
     "tableResultSettingsMap": {},
     "title": ""
    }
   },
   "outputs": [],
   "source": [
    "a=10\n",
    "b=20\n",
    "print(\"value of a and b befor swaping\",a,b)\n",
    "#a,b=b,a\n",
    "a=a+b\n",
    "b=a-b\n",
    "a=a-b\n",
    "print(\"value of a and b after swaping\",a,b)"
   ]
  },
  {
   "cell_type": "markdown",
   "metadata": {
    "application/vnd.databricks.v1+cell": {
     "cellMetadata": {},
     "inputWidgets": {},
     "nuid": "954b92a1-a68b-4169-8089-09527f5130a7",
     "showTitle": false,
     "tableResultSettingsMap": {},
     "title": ""
    }
   },
   "source": [
    "### 2. Extract Info from a Combined String\n",
    "Given info = \"Shantanu-25-Delhi\"\n",
    "\n",
    "Extract name, age, and city using string slicing or methods\n",
    "\n",
    "Print in the format: Name: Shantanu, Age: 25, City: Delhi"
   ]
  },
  {
   "cell_type": "code",
   "execution_count": 0,
   "metadata": {
    "application/vnd.databricks.v1+cell": {
     "cellMetadata": {
      "byteLimit": 2048000,
      "rowLimit": 10000
     },
     "inputWidgets": {},
     "nuid": "b058fbdc-b913-40ee-a910-73f8c4464480",
     "showTitle": false,
     "tableResultSettingsMap": {},
     "title": ""
    }
   },
   "outputs": [],
   "source": [
    "info=\"Shantanu-25-Delhi\"\n",
    "print(info)\n",
    "b=info.split(\"-\")\n",
    "print(b)\n",
    "name=b[0]\n",
    "age=b[1]\n",
    "city=b[2]\n",
    "print(name,age,city)"
   ]
  },
  {
   "cell_type": "markdown",
   "metadata": {
    "application/vnd.databricks.v1+cell": {
     "cellMetadata": {},
     "inputWidgets": {},
     "nuid": "97a3c07f-f933-4d26-aba3-be813af370ee",
     "showTitle": false,
     "tableResultSettingsMap": {},
     "title": ""
    }
   },
   "source": [
    "### 3. Use of Global Variable in a Function\n",
    "\n",
    "python\n",
    "Copy\n",
    "Edit\n",
    "x = 10\n",
    "\n",
    "def update():\n",
    "    # change the global x to 30 inside this function\n",
    "\n",
    "update()\n",
    "print(x)  # Should print 30\n",
    "✅ Write the missing logic using global.\n",
    "\n"
   ]
  },
  {
   "cell_type": "code",
   "execution_count": 0,
   "metadata": {
    "application/vnd.databricks.v1+cell": {
     "cellMetadata": {
      "byteLimit": 2048000,
      "rowLimit": 10000
     },
     "inputWidgets": {},
     "nuid": "bc7f356a-e000-490e-9f59-1e730c74521b",
     "showTitle": false,
     "tableResultSettingsMap": {},
     "title": ""
    }
   },
   "outputs": [],
   "source": [
    "x = 10\n",
    "y=120\n",
    "\n",
    "def update():\n",
    "  global x\n",
    "  x=30\n",
    "  y=20# y is local \n",
    "  y=y*2\n",
    "  print(x,y)# f we dont use this it will not print y=20\n",
    "  \n",
    "    # change the global x to 30 inside this function\n",
    "\n",
    "update()\n",
    "print(x)\n",
    "print(y)  # Should print 30"
   ]
  },
  {
   "cell_type": "markdown",
   "metadata": {
    "application/vnd.databricks.v1+cell": {
     "cellMetadata": {},
     "inputWidgets": {},
     "nuid": "38b41c27-e6d9-4c9d-9f25-0e7580583d55",
     "showTitle": false,
     "tableResultSettingsMap": {},
     "title": ""
    }
   },
   "source": [
    "### 4. Boolean Check with Operators\n",
    "Take two numbers as input.\n",
    "Print True if the first number is divisible by 5 and the second is greater than 50. Else print False.\n",
    "\n"
   ]
  },
  {
   "cell_type": "code",
   "execution_count": 0,
   "metadata": {
    "application/vnd.databricks.v1+cell": {
     "cellMetadata": {
      "byteLimit": 2048000,
      "rowLimit": 10000
     },
     "inputWidgets": {},
     "nuid": "2b697250-ac16-4a35-ab3e-6b3c69df4d76",
     "showTitle": false,
     "tableResultSettingsMap": {},
     "title": ""
    }
   },
   "outputs": [],
   "source": [
    "a=int(input())\n",
    "b=int(input())\n",
    "if a%5==0 and b>50:\n",
    "  print(\"TRUE\")\n",
    "else :\n",
    "  print(\"FALSE\")"
   ]
  },
  {
   "cell_type": "markdown",
   "metadata": {
    "application/vnd.databricks.v1+cell": {
     "cellMetadata": {},
     "inputWidgets": {},
     "nuid": "4e62da81-bf87-4d3f-a50a-957bec4e2dd1",
     "showTitle": false,
     "tableResultSettingsMap": {},
     "title": ""
    }
   },
   "source": [
    "### 5. Advanced String Slicing\n",
    "Given message = \"LearningPython\"\n",
    "\n",
    "Print every alternate character\n",
    "\n",
    "Print the string in reverse\n",
    "\n",
    "Remove \"Python\" using slicing only\n"
   ]
  },
  {
   "cell_type": "code",
   "execution_count": 0,
   "metadata": {
    "application/vnd.databricks.v1+cell": {
     "cellMetadata": {
      "byteLimit": 2048000,
      "rowLimit": 10000
     },
     "inputWidgets": {},
     "nuid": "83d32055-8c9c-4d18-ac1e-108a0b192687",
     "showTitle": false,
     "tableResultSettingsMap": {},
     "title": ""
    }
   },
   "outputs": [],
   "source": [
    "name=\"LearningPython\"\n",
    "print(type(name))\n",
    "print(name[::2])\n",
    "print(name[::-1])\n",
    "print(name[:8])\n"
   ]
  },
  {
   "cell_type": "markdown",
   "metadata": {
    "application/vnd.databricks.v1+cell": {
     "cellMetadata": {},
     "inputWidgets": {},
     "nuid": "ff47f3c9-e7f9-43b1-8b86-c83c007aa4c3",
     "showTitle": false,
     "tableResultSettingsMap": {},
     "title": ""
    }
   },
   "source": [
    "### 6. Concatenate and Format Strings\n",
    "Create 3 variables:\n",
    "\n",
    "python\n",
    "Copy\n",
    "Edit\n",
    "first = \"Hello\"\n",
    "second = \"Shantanu\"\n",
    "third = \"Welcome\"\n",
    "Print: \"Hello, Shantanu! Welcome to Python.\" using string formatting.\n",
    "\n"
   ]
  },
  {
   "cell_type": "code",
   "execution_count": 0,
   "metadata": {
    "application/vnd.databricks.v1+cell": {
     "cellMetadata": {
      "byteLimit": 2048000,
      "rowLimit": 10000
     },
     "inputWidgets": {},
     "nuid": "7a5e264a-848c-40c0-bad3-a69bfbe2a8c5",
     "showTitle": false,
     "tableResultSettingsMap": {},
     "title": ""
    }
   },
   "outputs": [],
   "source": [
    "first = \"Hello\" \n",
    "second = \"Shantanu\"\n",
    "third = \"Welcome\"\n",
    "print(\"\\\"\"+first+\",\" + second+\"!\" + third+\" to python\")"
   ]
  },
  {
   "cell_type": "markdown",
   "metadata": {
    "application/vnd.databricks.v1+cell": {
     "cellMetadata": {},
     "inputWidgets": {},
     "nuid": "9af8cad7-3a00-4e02-b4f0-e0bf07757a84",
     "showTitle": false,
     "tableResultSettingsMap": {},
     "title": ""
    }
   },
   "source": [
    "### 7. Use of String Methods\n",
    "Given text = \" Hello World! \"\n",
    "\n",
    "Strip the spaces\n",
    "\n",
    "Convert it to uppercase\n",
    "\n",
    "Replace \"WORLD\" with \"Shantanu\"\n",
    "Expected Output: HELLO SHANTANU!\n",
    "\n"
   ]
  },
  {
   "cell_type": "code",
   "execution_count": 0,
   "metadata": {
    "application/vnd.databricks.v1+cell": {
     "cellMetadata": {
      "byteLimit": 2048000,
      "rowLimit": 10000
     },
     "inputWidgets": {},
     "nuid": "b465b2ad-7d17-4ff5-99bc-a877b8464f6e",
     "showTitle": false,
     "tableResultSettingsMap": {},
     "title": ""
    }
   },
   "outputs": [],
   "source": [
    "text=\"Hello world!\"\n",
    "print(text)\n",
    "e=text.replace(\"world\",\"Shantanu\")\n",
    "print(e)\n",
    "b=text.upper()\n",
    "print(b)\n",
    "c=text.split(\" \")\n",
    "print(c)\n",
    "d=text.replace(\"world\",\"Shantanu\")\n",
    "print(d)\n"
   ]
  },
  {
   "cell_type": "markdown",
   "metadata": {
    "application/vnd.databricks.v1+cell": {
     "cellMetadata": {},
     "inputWidgets": {},
     "nuid": "6535fe9a-d869-4def-8e3c-a734b28513e5",
     "showTitle": false,
     "tableResultSettingsMap": {},
     "title": ""
    }
   },
   "source": [
    "### 8. Comparison & Logical Operators\n",
    "Set x = 10, y = 20, z = 10\n",
    "Write an expression using comparison and logical operators that returns True only if:\n",
    "\n",
    "x equals z\n",
    "\n",
    "and y is greater than x\n",
    "\n"
   ]
  },
  {
   "cell_type": "code",
   "execution_count": 0,
   "metadata": {
    "application/vnd.databricks.v1+cell": {
     "cellMetadata": {
      "byteLimit": 2048000,
      "rowLimit": 10000
     },
     "inputWidgets": {},
     "nuid": "706bdb49-31da-4c8a-94fe-a1fbef691d85",
     "showTitle": false,
     "tableResultSettingsMap": {},
     "title": ""
    }
   },
   "outputs": [],
   "source": [
    "x = 10\n",
    "y = 20\n",
    "z = 10\n",
    "result=(x==z) and (y>x)\n",
    "print(result)"
   ]
  },
  {
   "cell_type": "markdown",
   "metadata": {
    "application/vnd.databricks.v1+cell": {
     "cellMetadata": {},
     "inputWidgets": {},
     "nuid": "d8098e05-c827-46d3-af32-2c8896326f70",
     "showTitle": false,
     "tableResultSettingsMap": {},
     "title": ""
    }
   },
   "source": [
    "### . String with Escape Characters\n",
    "Print the following using escape characters in a single line:\n",
    "Shantanu said, \"Python is awesome!\"\n",
    "\n"
   ]
  },
  {
   "cell_type": "code",
   "execution_count": 0,
   "metadata": {
    "application/vnd.databricks.v1+cell": {
     "cellMetadata": {
      "byteLimit": 2048000,
      "rowLimit": 10000
     },
     "inputWidgets": {},
     "nuid": "a68186ff-2665-49ac-8a51-131db7d92676",
     "showTitle": false,
     "tableResultSettingsMap": {},
     "title": ""
    }
   },
   "outputs": [],
   "source": [
    "print(\"Shantanu said, \\\"Python is awesome!\\\"\")"
   ]
  },
  {
   "cell_type": "markdown",
   "metadata": {
    "application/vnd.databricks.v1+cell": {
     "cellMetadata": {},
     "inputWidgets": {},
     "nuid": "68aafd71-cce8-4d02-a6e5-21d7bc869001",
     "showTitle": false,
     "tableResultSettingsMap": {},
     "title": ""
    }
   },
   "source": [
    "### 10. Data Type Check and Conversion\n",
    "Let num = \"100\" (string)\n",
    "\n",
    "Check its data type\n",
    "\n",
    "Convert it to an integer\n",
    "\n",
    "Add 50 and print the final value and its type\n",
    "\n"
   ]
  },
  {
   "cell_type": "code",
   "execution_count": 0,
   "metadata": {
    "application/vnd.databricks.v1+cell": {
     "cellMetadata": {
      "byteLimit": 2048000,
      "rowLimit": 10000
     },
     "inputWidgets": {},
     "nuid": "d45f54bf-6951-437a-922a-70254c98f9e0",
     "showTitle": false,
     "tableResultSettingsMap": {},
     "title": ""
    }
   },
   "outputs": [],
   "source": [
    "num = \"100\"\n",
    "print(type(num))\n",
    "num=int(num)\n",
    "print(type(num))\n",
    "num=num+50\n",
    "print(num)"
   ]
  },
  {
   "cell_type": "code",
   "execution_count": 0,
   "metadata": {
    "application/vnd.databricks.v1+cell": {
     "cellMetadata": {},
     "inputWidgets": {},
     "nuid": "b86cdb74-f20d-47d4-92e0-38771e45dcfe",
     "showTitle": false,
     "tableResultSettingsMap": {},
     "title": ""
    }
   },
   "outputs": [],
   "source": []
  }
 ],
 "metadata": {
  "application/vnd.databricks.v1+notebook": {
   "computePreferences": null,
   "dashboards": [],
   "environmentMetadata": {
    "base_environment": "",
    "environment_version": "2"
   },
   "inputWidgetPreferences": null,
   "language": "python",
   "notebookMetadata": {
    "pythonIndentUnit": 4
   },
   "notebookName": "practive medium day 1",
   "widgets": {}
  },
  "language_info": {
   "name": "python"
  }
 },
 "nbformat": 4,
 "nbformat_minor": 0
}
