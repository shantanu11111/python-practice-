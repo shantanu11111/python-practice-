{
 "cells": [
  {
   "cell_type": "markdown",
   "metadata": {
    "application/vnd.databricks.v1+cell": {
     "cellMetadata": {},
     "inputWidgets": {},
     "nuid": "1b42ffdd-442d-401f-a28b-91349011607a",
     "showTitle": false,
     "tableResultSettingsMap": {},
     "title": ""
    }
   },
   "source": [
    "Create three variables: name, age, and city, and print a formatted sentence using them.\n",
    "\n",
    "Assign \"Red\", \"Green\", and \"Blue\" to three variables in one line and print them.\n",
    "\n",
    "Given the string \"PythonProgramming\", print \"Python\", the last 6 characters, and the string reversed using slicing.\n",
    "\n",
    "Convert two strings \"Data\" and \"Engineer\" to uppercase and join them with a space.\n",
    "\n",
    "Check and print the data types of 10, 3.14, \"Hello\", and True.\n",
    "\n",
    "Use string formatting to print: \"Shantanu scored 92.5 marks in the exam.\"\n",
    "\n",
    "Write a program to check if a person is eligible to vote based on age input.\n",
    "\n",
    "Take two numbers from the user and print their addition, subtraction, multiplication, division, and modulus.\n",
    "\n",
    "Predict the output of a function that changes a global variable x from 5 to 10.\n",
    "\n",
    "Print the sentence: Shantanu said, \"Learning Python isn't difficult!\" using escape characters.\n",
    "\n",
    "\n",
    "\n",
    "\n",
    "\n",
    "\n",
    "\n",
    "****\n",
    "\n",
    "Ask ChatGPT\n",
    "****"
   ]
  },
  {
   "cell_type": "markdown",
   "metadata": {
    "application/vnd.databricks.v1+cell": {
     "cellMetadata": {},
     "inputWidgets": {},
     "nuid": "dc2fd280-c275-4374-a072-8aacbb083dc5",
     "showTitle": false,
     "tableResultSettingsMap": {},
     "title": ""
    }
   },
   "source": [
    "**Create three variables: name, age, and city, and print a formatted sentence using them.**"
   ]
  },
  {
   "cell_type": "code",
   "execution_count": 0,
   "metadata": {
    "application/vnd.databricks.v1+cell": {
     "cellMetadata": {
      "byteLimit": 2048000,
      "rowLimit": 10000
     },
     "inputWidgets": {},
     "nuid": "32c36a8b-3ee2-492d-90da-0a647078925f",
     "showTitle": false,
     "tableResultSettingsMap": {},
     "title": ""
    }
   },
   "outputs": [],
   "source": [
    "name = str('Shantanu')\n",
    "age=int(26)\n",
    "city=str('bangalore')\n",
    "print(name,age,city)"
   ]
  },
  {
   "cell_type": "markdown",
   "metadata": {
    "application/vnd.databricks.v1+cell": {
     "cellMetadata": {},
     "inputWidgets": {},
     "nuid": "53853652-311a-4d5d-83f7-f506521c6b91",
     "showTitle": false,
     "tableResultSettingsMap": {},
     "title": ""
    }
   },
   "source": [
    "**Assign \"Red\", \"Green\", and \"Blue\" to three variables in one line and print them.\n",
    "**"
   ]
  },
  {
   "cell_type": "code",
   "execution_count": 0,
   "metadata": {
    "application/vnd.databricks.v1+cell": {
     "cellMetadata": {
      "byteLimit": 2048000,
      "rowLimit": 10000
     },
     "inputWidgets": {},
     "nuid": "bb542bac-3d74-40fb-aa76-64ac2ed6f94a",
     "showTitle": false,
     "tableResultSettingsMap": {},
     "title": ""
    }
   },
   "outputs": [],
   "source": [
    "red,green,blue = (255,200,300)\n",
    "print(red,green,blue)\n",
    "type(red)"
   ]
  },
  {
   "cell_type": "markdown",
   "metadata": {
    "application/vnd.databricks.v1+cell": {
     "cellMetadata": {},
     "inputWidgets": {},
     "nuid": "aa1c2528-1112-414a-91c3-558d4ef5c894",
     "showTitle": false,
     "tableResultSettingsMap": {},
     "title": ""
    }
   },
   "source": [
    "**Given the string \"PythonProgramming\", print \"Python\", the last 6 characters, and the string reversed using slicing.\n",
    "**"
   ]
  },
  {
   "cell_type": "code",
   "execution_count": 0,
   "metadata": {
    "application/vnd.databricks.v1+cell": {
     "cellMetadata": {
      "byteLimit": 2048000,
      "rowLimit": 10000
     },
     "inputWidgets": {},
     "nuid": "74223be7-5790-417b-8838-079971d46c79",
     "showTitle": false,
     "tableResultSettingsMap": {},
     "title": ""
    }
   },
   "outputs": [],
   "source": [
    "word= \"PythonProgramming\"\n",
    "print(word[-6:])\n"
   ]
  },
  {
   "cell_type": "markdown",
   "metadata": {
    "application/vnd.databricks.v1+cell": {
     "cellMetadata": {},
     "inputWidgets": {},
     "nuid": "fcdae507-47df-4d96-bcfb-5d07f3270585",
     "showTitle": false,
     "tableResultSettingsMap": {},
     "title": ""
    }
   },
   "source": [
    "## **Convert two strings \"Data\" and \"Engineer\" to uppercase and join them with a space.\n",
    "## **"
   ]
  },
  {
   "cell_type": "code",
   "execution_count": 0,
   "metadata": {
    "application/vnd.databricks.v1+cell": {
     "cellMetadata": {
      "byteLimit": 2048000,
      "rowLimit": 10000
     },
     "inputWidgets": {},
     "nuid": "a3219113-a402-491b-b716-4bd62e926c65",
     "showTitle": false,
     "tableResultSettingsMap": {},
     "title": ""
    }
   },
   "outputs": [],
   "source": [
    "st1=\"data\"\n",
    "st2=\"engineering\"\n",
    "print(st1+\" \"+st2 )"
   ]
  },
  {
   "cell_type": "markdown",
   "metadata": {
    "application/vnd.databricks.v1+cell": {
     "cellMetadata": {},
     "inputWidgets": {},
     "nuid": "b562b37f-2701-4f51-9753-434bab17b324",
     "showTitle": false,
     "tableResultSettingsMap": {},
     "title": ""
    }
   },
   "source": [
    "## **Check and print the data types of 10, 3.14, \"Hello\", and True.**"
   ]
  },
  {
   "cell_type": "code",
   "execution_count": 0,
   "metadata": {
    "application/vnd.databricks.v1+cell": {
     "cellMetadata": {
      "byteLimit": 2048000,
      "rowLimit": 10000
     },
     "inputWidgets": {},
     "nuid": "37aae732-1fca-465f-a48a-2dbb4898219b",
     "showTitle": false,
     "tableResultSettingsMap": {},
     "title": ""
    }
   },
   "outputs": [],
   "source": [
    "a=10\n",
    "b=3.14\n",
    "c=\"hello\"\n",
    "d=True\n",
    "print (type(a))\n",
    "print (type(b))\n",
    "print (type(c))\n",
    "print (type(d))\n"
   ]
  },
  {
   "cell_type": "markdown",
   "metadata": {
    "application/vnd.databricks.v1+cell": {
     "cellMetadata": {},
     "inputWidgets": {},
     "nuid": "e51a4677-5514-4e45-8627-54a5ff364010",
     "showTitle": false,
     "tableResultSettingsMap": {},
     "title": ""
    }
   },
   "source": [
    "## **Use string formatting to print: \"Shantanu scored 92.5 marks in the exam.\"\n",
    "**"
   ]
  },
  {
   "cell_type": "code",
   "execution_count": 0,
   "metadata": {
    "application/vnd.databricks.v1+cell": {
     "cellMetadata": {
      "byteLimit": 2048000,
      "rowLimit": 10000
     },
     "inputWidgets": {},
     "nuid": "f6e57403-29d5-49ee-b3c4-841757d26017",
     "showTitle": false,
     "tableResultSettingsMap": {},
     "title": ""
    }
   },
   "outputs": [],
   "source": [
    "marks=92.5\n",
    "ma=f\"shantanu scored {marks} marks in the exam \"\n",
    "print(ma)"
   ]
  },
  {
   "cell_type": "markdown",
   "metadata": {
    "application/vnd.databricks.v1+cell": {
     "cellMetadata": {},
     "inputWidgets": {},
     "nuid": "227712a4-100e-45ff-b113-712565009dca",
     "showTitle": false,
     "tableResultSettingsMap": {},
     "title": ""
    }
   },
   "source": [
    "## Write a program to check if a person is eligible to vote based on age input."
   ]
  },
  {
   "cell_type": "code",
   "execution_count": 0,
   "metadata": {
    "application/vnd.databricks.v1+cell": {
     "cellMetadata": {
      "byteLimit": 2048000,
      "rowLimit": 10000
     },
     "inputWidgets": {},
     "nuid": "770b2dc1-a413-462c-965f-aecf91c7a7fb",
     "showTitle": false,
     "tableResultSettingsMap": {},
     "title": ""
    }
   },
   "outputs": [],
   "source": [
    "age=int(input())\n",
    "if age>=18:\n",
    "  print(\"eligible\")\n",
    "else:\n",
    "  print(\"not eligible\")"
   ]
  },
  {
   "cell_type": "markdown",
   "metadata": {
    "application/vnd.databricks.v1+cell": {
     "cellMetadata": {},
     "inputWidgets": {},
     "nuid": "3aa97d03-5837-4b18-8fc9-b485270d14d3",
     "showTitle": false,
     "tableResultSettingsMap": {},
     "title": ""
    }
   },
   "source": [
    "## Take two numbers from the user and print their addition, subtraction, multiplication, division, and modulus.\n"
   ]
  },
  {
   "cell_type": "code",
   "execution_count": 0,
   "metadata": {
    "application/vnd.databricks.v1+cell": {
     "cellMetadata": {
      "byteLimit": 2048000,
      "rowLimit": 10000
     },
     "inputWidgets": {},
     "nuid": "f7945ebf-4f7c-4ea8-a30c-e30a567023ad",
     "showTitle": false,
     "tableResultSettingsMap": {},
     "title": ""
    }
   },
   "outputs": [],
   "source": [
    "A=int(input())\n",
    "b=int(input())\n",
    "print(\"addition of A and    B is\",A+b)\n",
    "print(A-b)\n",
    "print(A*b)\n",
    "print(A/b)\n",
    "print(A//b)"
   ]
  },
  {
   "cell_type": "markdown",
   "metadata": {
    "application/vnd.databricks.v1+cell": {
     "cellMetadata": {},
     "inputWidgets": {},
     "nuid": "26783884-8995-4ba8-bbee-571b3f1c77ef",
     "showTitle": false,
     "tableResultSettingsMap": {},
     "title": ""
    }
   },
   "source": [
    "### ## Predict the output of a function that changes a global variable x from 5 to 10.\n",
    "### "
   ]
  },
  {
   "cell_type": "markdown",
   "metadata": {
    "application/vnd.databricks.v1+cell": {
     "cellMetadata": {},
     "inputWidgets": {},
     "nuid": "22e30757-d4ce-4480-b982-07376d8a4972",
     "showTitle": false,
     "tableResultSettingsMap": {},
     "title": ""
    }
   },
   "source": [
    "### Print the sentence: Shantanu said, \"Learning Python isn't difficult!\" using escape characters.\n"
   ]
  },
  {
   "cell_type": "code",
   "execution_count": 0,
   "metadata": {
    "application/vnd.databricks.v1+cell": {
     "cellMetadata": {
      "byteLimit": 2048000,
      "rowLimit": 10000
     },
     "inputWidgets": {},
     "nuid": "6eadb59f-d191-49b4-b0c1-a2cb9524bff4",
     "showTitle": false,
     "tableResultSettingsMap": {},
     "title": ""
    }
   },
   "outputs": [],
   "source": [
    "print(\"Shantanu said, \\\"Learning Python isn\\'t difficult\\!\\\"\")"
   ]
  }
 ],
 "metadata": {
  "application/vnd.databricks.v1+notebook": {
   "computePreferences": null,
   "dashboards": [],
   "environmentMetadata": {
    "base_environment": "",
    "environment_version": "2"
   },
   "inputWidgetPreferences": null,
   "language": "python",
   "notebookMetadata": {
    "pythonIndentUnit": 4
   },
   "notebookName": "practice day 1",
   "widgets": {}
  },
  "language_info": {
   "name": "python"
  }
 },
 "nbformat": 4,
 "nbformat_minor": 0
}
