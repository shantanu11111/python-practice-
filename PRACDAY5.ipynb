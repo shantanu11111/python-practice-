{
 "cells": [
  {
   "cell_type": "markdown",
   "metadata": {
    "application/vnd.databricks.v1+cell": {
     "cellMetadata": {},
     "inputWidgets": {},
     "nuid": "29b815e8-b937-4cea-aa50-6ac0870a888b",
     "showTitle": false,
     "tableResultSettingsMap": {},
     "title": ""
    }
   },
   "source": [
    "Create a function in Python\n",
    "Write a program to create a function that takes two arguments, name and age, and prints their values."
   ]
  },
  {
   "cell_type": "code",
   "execution_count": 0,
   "metadata": {
    "application/vnd.databricks.v1+cell": {
     "cellMetadata": {
      "byteLimit": 2048000,
      "rowLimit": 10000
     },
     "inputWidgets": {},
     "nuid": "f4bdaac6-9955-4a95-a01f-6e3787d8cda7",
     "showTitle": false,
     "tableResultSettingsMap": {},
     "title": ""
    }
   },
   "outputs": [],
   "source": [
    "def fun1(name,age):\n",
    "  print(name,age)\n",
    "  \n",
    "fun1(\"John\",20)"
   ]
  },
  {
   "cell_type": "markdown",
   "metadata": {
    "application/vnd.databricks.v1+cell": {
     "cellMetadata": {},
     "inputWidgets": {},
     "nuid": "5dde2570-5518-4c84-b34e-4607f1ca7162",
     "showTitle": false,
     "tableResultSettingsMap": {},
     "title": ""
    }
   },
   "source": [
    "Create a function with variable length of arguments\n",
    "Write a program to create a function func1() that accepts a variable number of arguments and prints each of their values.\n",
    "\n",
    "Note: Create this function so that it can receive any number of arguments, process them, and display the value of each individual argument.\n",
    "\n",
    "Read: variable length of arguments in functions\n",
    "call function with 3 arguments\n",
    "func1(20, 40, 60)\n",
    "call function with 2 arguments\n",
    "func1(80, 100)\n",
    "Expected Output:\n",
    "\n",
    "Printing values\n",
    "20\n",
    "40\n",
    "60\n",
    "\n",
    "Printing values\n",
    "80\n",
    "100"
   ]
  },
  {
   "cell_type": "code",
   "execution_count": 0,
   "metadata": {
    "application/vnd.databricks.v1+cell": {
     "cellMetadata": {
      "byteLimit": 2048000,
      "rowLimit": 10000
     },
     "inputWidgets": {},
     "nuid": "72fa0b8b-d9ae-4eed-8ab1-84ebd0218dc5",
     "showTitle": false,
     "tableResultSettingsMap": {},
     "title": ""
    }
   },
   "outputs": [],
   "source": [
    "def func1(*val):\n",
    "    for va in val:\n",
    "        print(va)\n",
    "\n",
    "func1(20,4,6)\n",
    "func1(30)\n",
    "    "
   ]
  },
  {
   "cell_type": "markdown",
   "metadata": {
    "application/vnd.databricks.v1+cell": {
     "cellMetadata": {},
     "inputWidgets": {},
     "nuid": "a806b4bb-5f7a-4d7e-b279-556298fa3f50",
     "showTitle": false,
     "tableResultSettingsMap": {},
     "title": ""
    }
   },
   "source": [
    "Return multiple values from a function\n",
    "Write a function calculation() that accepts two variables and calculates both their addition and subtraction. The function should then return both the sum and the difference in a single return statement.\n",
    "\n",
    "Given:\n",
    "\n",
    "def calculation(a, b):\n",
    "    # Your Code\n",
    "\n",
    "res = calculation(40, 10)\n",
    "print(res)\n",
    "Expected Output\n",
    "\n",
    "50, 30"
   ]
  },
  {
   "cell_type": "code",
   "execution_count": 0,
   "metadata": {
    "application/vnd.databricks.v1+cell": {
     "cellMetadata": {
      "byteLimit": 2048000,
      "rowLimit": 10000
     },
     "inputWidgets": {},
     "nuid": "79b3b014-8462-4bf0-9afe-a3f35523a139",
     "showTitle": false,
     "tableResultSettingsMap": {},
     "title": ""
    }
   },
   "outputs": [],
   "source": [
    "def calculation(a,b):\n",
    "    add=a+b\n",
    "    sub=a-b\n",
    "    return add,sub\n",
    "\n",
    "x,y=calculation(20,10)\n",
    "print('add',x)\n",
    "print('sub',y)\n"
   ]
  },
  {
   "cell_type": "markdown",
   "metadata": {
    "application/vnd.databricks.v1+cell": {
     "cellMetadata": {},
     "inputWidgets": {},
     "nuid": "c79464b5-a638-421c-a044-dfbdf0a1c698",
     "showTitle": false,
     "tableResultSettingsMap": {},
     "title": ""
    }
   },
   "source": [
    "Create a function with a default argument\n",
    "Write a program to create a function show_employee() with the following specifications:\n",
    "\n",
    "It should accept the employee’s name and salary.\n",
    "It should display both the name and salary.\n",
    "If the salary is not provided in the function call, it should default to 9000.\n",
    "\n",
    "showEmployee(\"Ben\", 12000)\n",
    "showEmployee(\"Jessa\")\n",
    "Expected output:\n",
    "\n",
    "Name: Ben salary: 12000\n",
    "Name: Jessa salary: 9000"
   ]
  },
  {
   "cell_type": "code",
   "execution_count": 0,
   "metadata": {
    "application/vnd.databricks.v1+cell": {
     "cellMetadata": {
      "byteLimit": 2048000,
      "rowLimit": 10000
     },
     "inputWidgets": {},
     "nuid": "9f7ac5e4-a291-4c6e-8076-5e4691f2fb1d",
     "showTitle": false,
     "tableResultSettingsMap": {},
     "title": ""
    }
   },
   "outputs": [],
   "source": [
    "def show_employee(name,salary=9000):\n",
    "    print('Name:',name,'salary:',salary)\n",
    "    \n",
    "show_employee('ben',12000)\n",
    "\n",
    "show_employee(\"jess\")"
   ]
  },
  {
   "cell_type": "markdown",
   "metadata": {
    "application/vnd.databricks.v1+cell": {
     "cellMetadata": {},
     "inputWidgets": {},
     "nuid": "45435726-4055-4d26-9ea5-4e03f64536cc",
     "showTitle": false,
     "tableResultSettingsMap": {},
     "title": ""
    }
   },
   "source": [
    ": Create an inner function\n",
    "Create a program with nested functions to perform an addition calculation as follows:\n",
    "\n",
    "Define an outer function that accepts two parameters, a and b.\n",
    "Inside this outer function, define an inner function that calculates the sum of a and b.\n",
    "The outer function should then add 5 to this sum.\n",
    "Finally, the outer function should return the resulting value.”"
   ]
  },
  {
   "cell_type": "code",
   "execution_count": 0,
   "metadata": {
    "application/vnd.databricks.v1+cell": {
     "cellMetadata": {
      "byteLimit": 2048000,
      "rowLimit": 10000
     },
     "inputWidgets": {},
     "nuid": "2d021c4c-4283-4185-98b1-c993932cae97",
     "showTitle": false,
     "tableResultSettingsMap": {},
     "title": ""
    }
   },
   "outputs": [],
   "source": [
    "def out(a,b):\n",
    "    def inn(a,b):\n",
    "        c=a+b\n",
    "        return c\n",
    "    d=5+inn(a,b)\n",
    "    return d\n",
    "\n",
    "\n",
    "out(5,10)\n"
   ]
  },
  {
   "cell_type": "markdown",
   "metadata": {
    "application/vnd.databricks.v1+cell": {
     "cellMetadata": {},
     "inputWidgets": {},
     "nuid": "07a6f6e9-20d4-452c-aef3-a7cefe1d2fe0",
     "showTitle": false,
     "tableResultSettingsMap": {},
     "title": ""
    }
   },
   "source": [
    "Create a recursive function\n",
    "Write a program to create a recursive function that calculates the sum of numbers from 0 to 10.\n",
    "\n",
    "A recursive function is a function that calls itself repeatedly.\n",
    "\n",
    "Expected Output:\n",
    "\n",
    "55"
   ]
  },
  {
   "cell_type": "code",
   "execution_count": 0,
   "metadata": {
    "application/vnd.databricks.v1+cell": {
     "cellMetadata": {
      "byteLimit": 2048000,
      "rowLimit": 10000
     },
     "inputWidgets": {},
     "nuid": "29aa5a39-9d1b-42cd-bfbe-7305c7854003",
     "showTitle": false,
     "tableResultSettingsMap": {},
     "title": ""
    }
   },
   "outputs": [],
   "source": [
    "def rec(n):\n",
    "    if n>0:\n",
    "        return n+rec(n-1)\n",
    "    else:\n",
    "        return 0\n",
    "print(rec(10))"
   ]
  },
  {
   "cell_type": "markdown",
   "metadata": {
    "application/vnd.databricks.v1+cell": {
     "cellMetadata": {},
     "inputWidgets": {},
     "nuid": "c7eccf09-b078-4f21-8963-bce54e3f8fb4",
     "showTitle": false,
     "tableResultSettingsMap": {},
     "title": ""
    }
   },
   "source": [
    "Assign a different name to function and call it through the new name"
   ]
  },
  {
   "cell_type": "code",
   "execution_count": 0,
   "metadata": {
    "application/vnd.databricks.v1+cell": {
     "cellMetadata": {
      "byteLimit": 2048000,
      "rowLimit": 10000
     },
     "inputWidgets": {},
     "nuid": "a072304e-ebbb-415e-8f99-ebedc4032a65",
     "showTitle": false,
     "tableResultSettingsMap": {},
     "title": ""
    }
   },
   "outputs": [],
   "source": [
    "def display_student(name, age):\n",
    "    print(name, age)\n",
    "\n",
    "display_student(\"Emma\", 26)\n",
    "show_student = display_student\n",
    "show_student(\"Emma\", 26)"
   ]
  },
  {
   "cell_type": "markdown",
   "metadata": {
    "application/vnd.databricks.v1+cell": {
     "cellMetadata": {},
     "inputWidgets": {},
     "nuid": "144fe0c6-1565-4281-8017-bce5f579808e",
     "showTitle": false,
     "tableResultSettingsMap": {},
     "title": ""
    }
   },
   "source": [
    "Generate a Python list of all the even numbers between 4 to 30\n",
    "Expected Output:\n",
    "\n",
    "[4, 6, 8, 10, 12, 14, 16, 18, 20, 22, 24, 26, 28]"
   ]
  },
  {
   "cell_type": "code",
   "execution_count": 0,
   "metadata": {
    "application/vnd.databricks.v1+cell": {
     "cellMetadata": {
      "byteLimit": 2048000,
      "rowLimit": 10000
     },
     "inputWidgets": {},
     "nuid": "47b6d5b3-9cec-4a04-8d0c-e5263279c740",
     "showTitle": false,
     "tableResultSettingsMap": {},
     "title": ""
    }
   },
   "outputs": [],
   "source": [
    "def evenlis(n,m):\n",
    "    l=[]\n",
    "    for i in range(n,m):\n",
    "        if n%2==0:\n",
    "           l.append(n)\n",
    "        n=n+1\n",
    "    return l\n",
    "\n",
    "\n",
    "n=int(input(\"enter start\"))\n",
    "m=int(input('enter end '))\n",
    "print(evenlis(n,m))\n",
    " \n",
    "\n"
   ]
  },
  {
   "cell_type": "markdown",
   "metadata": {
    "application/vnd.databricks.v1+cell": {
     "cellMetadata": {},
     "inputWidgets": {},
     "nuid": "9b903694-1054-4d74-8cfa-130a049b76a7",
     "showTitle": false,
     "tableResultSettingsMap": {},
     "title": ""
    }
   },
   "source": [
    "Find the largest item from list\n",
    "Given:\n",
    "\n",
    "x = [4, 6, 8, 24, 12, 2]\n",
    "Expected Output:\n",
    "\n",
    "24"
   ]
  },
  {
   "cell_type": "code",
   "execution_count": 0,
   "metadata": {
    "application/vnd.databricks.v1+cell": {
     "cellMetadata": {
      "byteLimit": 2048000,
      "rowLimit": 10000
     },
     "inputWidgets": {},
     "nuid": "f4af8918-353a-4d2a-9317-46cbf3fc6557",
     "showTitle": false,
     "tableResultSettingsMap": {},
     "title": ""
    }
   },
   "outputs": [],
   "source": [
    "def maxxl(x):\n",
    "    max=x[1]\n",
    "    for i in x:\n",
    "        if i>max:\n",
    "            max=i\n",
    "    return max\n",
    "\n",
    "x = [4, 6, 8, 24, 12, 2]\n",
    "maxxl(x)\n",
    "\n"
   ]
  },
  {
   "cell_type": "code",
   "execution_count": 0,
   "metadata": {
    "application/vnd.databricks.v1+cell": {
     "cellMetadata": {
      "byteLimit": 2048000,
      "rowLimit": 10000
     },
     "inputWidgets": {},
     "nuid": "21e9f985-c2ba-49b2-9949-c1349402a6f8",
     "showTitle": false,
     "tableResultSettingsMap": {},
     "title": ""
    }
   },
   "outputs": [],
   "source": [
    "x = [4, 6, 8, 24, 12, 2]\n",
    "m = max(x)\n",
    "print(m)\n"
   ]
  },
  {
   "cell_type": "markdown",
   "metadata": {
    "application/vnd.databricks.v1+cell": {
     "cellMetadata": {},
     "inputWidgets": {},
     "nuid": "6fba4fe0-bb77-47e6-b36e-9d75c389b3db",
     "showTitle": false,
     "tableResultSettingsMap": {},
     "title": ""
    }
   },
   "source": [
    "Call Function using both positional and keyword arguments\n",
    "Define a function describe_pet(animal_type, pet_name) that prints a description of a pet. Call this function using both positional and keyword arguments."
   ]
  },
  {
   "cell_type": "code",
   "execution_count": 0,
   "metadata": {
    "application/vnd.databricks.v1+cell": {
     "cellMetadata": {
      "byteLimit": 2048000,
      "rowLimit": 10000
     },
     "inputWidgets": {},
     "nuid": "f69eef0a-c5f2-4ded-9e4b-6aa8041caf81",
     "showTitle": false,
     "tableResultSettingsMap": {},
     "title": ""
    }
   },
   "outputs": [],
   "source": [
    "def describe_pet(animal_type, pet_name):\n",
    "    \n",
    "    \n",
    "    print(\"I have a \" + animal_type + \".\")\n",
    "    print(\"My \" + animal_type + \"'s name is \" + pet_name)\n",
    "\n",
    "describe_pet(animal_type='hamster', pet_name='harry') #keyword argument\n",
    "describe_pet('dog', 'brono')# positional argument\n",
    "\n"
   ]
  },
  {
   "cell_type": "markdown",
   "metadata": {
    "application/vnd.databricks.v1+cell": {
     "cellMetadata": {},
     "inputWidgets": {},
     "nuid": "20bdb29d-090f-4dc6-8e19-50c08736cdbd",
     "showTitle": false,
     "tableResultSettingsMap": {},
     "title": ""
    }
   },
   "source": []
  },
  {
   "cell_type": "code",
   "execution_count": 0,
   "metadata": {
    "application/vnd.databricks.v1+cell": {
     "cellMetadata": {},
     "inputWidgets": {},
     "nuid": "07a482a3-6418-4a21-baa2-09d912ea6e92",
     "showTitle": false,
     "tableResultSettingsMap": {},
     "title": ""
    }
   },
   "outputs": [],
   "source": []
  },
  {
   "cell_type": "markdown",
   "metadata": {
    "application/vnd.databricks.v1+cell": {
     "cellMetadata": {},
     "inputWidgets": {},
     "nuid": "70144568-dc25-45b7-afe3-a25b55400161",
     "showTitle": false,
     "tableResultSettingsMap": {},
     "title": ""
    }
   },
   "source": [
    "Modifies global variable\n",
    "Define a global variable global_var = 10. Write a function that modifies a global variable value."
   ]
  },
  {
   "cell_type": "code",
   "execution_count": 0,
   "metadata": {
    "application/vnd.databricks.v1+cell": {
     "cellMetadata": {
      "byteLimit": 2048000,
      "rowLimit": 10000
     },
     "inputWidgets": {},
     "nuid": "7b17812d-4aa4-4988-bc46-715c91c366e5",
     "showTitle": false,
     "tableResultSettingsMap": {},
     "title": ""
    }
   },
   "outputs": [],
   "source": [
    "def upv():\n",
    "    global var\n",
    "    var=10\n",
    "\n",
    "var=5\n",
    "print(var)\n",
    "upv()\n",
    "print(var)"
   ]
  },
  {
   "cell_type": "markdown",
   "metadata": {
    "application/vnd.databricks.v1+cell": {
     "cellMetadata": {},
     "inputWidgets": {},
     "nuid": "3ce192b3-aa5c-4e7e-b7e2-c4c5e47223b2",
     "showTitle": false,
     "tableResultSettingsMap": {},
     "title": ""
    }
   },
   "source": [
    "13: Write a recursive function to calculate the factorial\n",
    "Write a recursive function to calculate the factorial of a non-negative integer."
   ]
  },
  {
   "cell_type": "code",
   "execution_count": 0,
   "metadata": {
    "application/vnd.databricks.v1+cell": {
     "cellMetadata": {
      "byteLimit": 2048000,
      "rowLimit": 10000
     },
     "inputWidgets": {},
     "nuid": "d25fc646-3b79-4e3d-8595-875c8c0acbfb",
     "showTitle": false,
     "tableResultSettingsMap": {},
     "title": ""
    }
   },
   "outputs": [],
   "source": [
    "def fac(n):\n",
    "    if n>1:\n",
    "        return n*fac(n-1)\n",
    "    else:\n",
    "        return 1\n",
    "fac(5)"
   ]
  },
  {
   "cell_type": "markdown",
   "metadata": {
    "application/vnd.databricks.v1+cell": {
     "cellMetadata": {},
     "inputWidgets": {},
     "nuid": "77284c3b-5e72-4df0-a2d2-4f2d19ff499f",
     "showTitle": false,
     "tableResultSettingsMap": {},
     "title": ""
    }
   },
   "source": [
    "Create a lambda function that squares a given number"
   ]
  },
  {
   "cell_type": "code",
   "execution_count": 0,
   "metadata": {
    "application/vnd.databricks.v1+cell": {
     "cellMetadata": {
      "byteLimit": 2048000,
      "rowLimit": 10000
     },
     "inputWidgets": {},
     "nuid": "92871650-3e00-41a7-b3d9-de9440e959ea",
     "showTitle": false,
     "tableResultSettingsMap": {},
     "title": ""
    }
   },
   "outputs": [],
   "source": [
    "square = lambda x: x**2\n",
    "n=int(input(\"enter a number\"))\n",
    "print(square(n))"
   ]
  },
  {
   "cell_type": "code",
   "execution_count": 0,
   "metadata": {
    "application/vnd.databricks.v1+cell": {
     "cellMetadata": {
      "byteLimit": 2048000,
      "rowLimit": 10000
     },
     "inputWidgets": {},
     "nuid": "c645e14b-c055-413e-b997-9599622c4134",
     "showTitle": false,
     "tableResultSettingsMap": {},
     "title": ""
    }
   },
   "outputs": [],
   "source": [
    "n=[2, 3, 4, 8, 9]\n",
    "sq=list(map(lambda x: x*x,n))\n",
    "print(sq)"
   ]
  },
  {
   "cell_type": "markdown",
   "metadata": {
    "application/vnd.databricks.v1+cell": {
     "cellMetadata": {},
     "inputWidgets": {},
     "nuid": "6fa64e3b-35ef-464c-aa1c-df2a6236077b",
     "showTitle": false,
     "tableResultSettingsMap": {},
     "title": ""
    }
   },
   "source": [
    " Use a lambda with the filter() function to get all even numbers from a list\n",
    "Given:\n",
    "\n",
    "numbers = [1, 2, 3, 4, 5, 6, 7, 8, 9, 10]"
   ]
  },
  {
   "cell_type": "code",
   "execution_count": 0,
   "metadata": {
    "application/vnd.databricks.v1+cell": {
     "cellMetadata": {
      "byteLimit": 2048000,
      "rowLimit": 10000
     },
     "inputWidgets": {},
     "nuid": "9451dc68-6a6c-4297-934a-4238068f5ff9",
     "showTitle": false,
     "tableResultSettingsMap": {},
     "title": ""
    }
   },
   "outputs": [],
   "source": [
    "numbers = [1, 2, 3, 4, 5, 6, 7, 8, 9, 10]\n",
    "f=list(filter(lambda x:x%2==0,numbers))\n",
    "print(f)"
   ]
  },
  {
   "cell_type": "markdown",
   "metadata": {
    "application/vnd.databricks.v1+cell": {
     "cellMetadata": {},
     "inputWidgets": {},
     "nuid": "20d34927-f17c-497d-88f5-e0f48df01294",
     "showTitle": false,
     "tableResultSettingsMap": {},
     "title": ""
    }
   },
   "source": [
    "Use a lambda with the map() function to double each element in a list\n",
    "Given:\n",
    "\n",
    "numbers = [1, 2, 3, 4, 5]"
   ]
  },
  {
   "cell_type": "code",
   "execution_count": 0,
   "metadata": {
    "application/vnd.databricks.v1+cell": {
     "cellMetadata": {
      "byteLimit": 2048000,
      "rowLimit": 10000
     },
     "inputWidgets": {},
     "nuid": "9d858e0b-9c02-4157-824a-7d13470c08c9",
     "showTitle": false,
     "tableResultSettingsMap": {},
     "title": ""
    }
   },
   "outputs": [],
   "source": [
    "numbers = [1, 2, 3, 4, 5]\n",
    "f=list(map(lambda x:x*2,numbers))\n",
    "print(f)\n"
   ]
  },
  {
   "cell_type": "markdown",
   "metadata": {
    "application/vnd.databricks.v1+cell": {
     "cellMetadata": {},
     "inputWidgets": {},
     "nuid": "d62300f7-ea99-4d9c-96cb-df6654a7db7b",
     "showTitle": false,
     "tableResultSettingsMap": {},
     "title": ""
    }
   },
   "source": [
    " Use a lambda with the sorted() function to sort a list of tuples based on the second element\n",
    "\n",
    "Given:\n",
    "\n",
    "data = [('apple', 5), ('banana', 2), ('cherry', 8), ('date', 1)]\n",
    "Expected Output:\n",
    "\n",
    "The sorted list of tuples based on the second element is: [('date', 1),  ('banana', 2), ('apple', 5), ('cherry', 8)]"
   ]
  },
  {
   "cell_type": "code",
   "execution_count": 0,
   "metadata": {
    "application/vnd.databricks.v1+cell": {
     "cellMetadata": {
      "byteLimit": 2048000,
      "rowLimit": 10000
     },
     "inputWidgets": {},
     "nuid": "c034b3d5-864d-45e4-8dc4-51cbd7f0e62c",
     "showTitle": false,
     "tableResultSettingsMap": {},
     "title": ""
    }
   },
   "outputs": [],
   "source": [
    "data = [('apple', 5), ('banana', 2), ('cherry', 8), ('date', 1)]\n",
    "s=sorted(data,key=lambda x:x[1])    \n",
    "print(s)"
   ]
  },
  {
   "cell_type": "markdown",
   "metadata": {
    "application/vnd.databricks.v1+cell": {
     "cellMetadata": {},
     "inputWidgets": {},
     "nuid": "469de888-1cdb-4159-848d-e82bbe247ce4",
     "showTitle": false,
     "tableResultSettingsMap": {},
     "title": ""
    }
   },
   "source": []
  }
 ],
 "metadata": {
  "application/vnd.databricks.v1+notebook": {
   "computePreferences": null,
   "dashboards": [],
   "environmentMetadata": {
    "base_environment": "",
    "environment_version": "2"
   },
   "inputWidgetPreferences": null,
   "language": "python",
   "notebookMetadata": {
    "pythonIndentUnit": 4
   },
   "notebookName": "PRACDAY5",
   "widgets": {}
  },
  "language_info": {
   "name": "python"
  }
 },
 "nbformat": 4,
 "nbformat_minor": 0
}
