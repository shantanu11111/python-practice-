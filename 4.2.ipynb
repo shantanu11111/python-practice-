{
 "cells": [
  {
   "cell_type": "markdown",
   "metadata": {
    "application/vnd.databricks.v1+cell": {
     "cellMetadata": {},
     "inputWidgets": {},
     "nuid": "1275ee54-13db-421a-a651-48ab040b29de",
     "showTitle": false,
     "tableResultSettingsMap": {},
     "title": ""
    }
   },
   "source": [
    "Print list in reverse order using a loop\n",
    "\n",
    "Given:\n",
    "\n",
    "list1 = [10, 20, 30, 40, 50]"
   ]
  },
  {
   "cell_type": "code",
   "execution_count": 0,
   "metadata": {
    "application/vnd.databricks.v1+cell": {
     "cellMetadata": {
      "byteLimit": 2048000,
      "rowLimit": 10000
     },
     "inputWidgets": {},
     "nuid": "c4b1118e-958b-46bc-ac67-f03665a0fcf5",
     "showTitle": false,
     "tableResultSettingsMap": {},
     "title": ""
    }
   },
   "outputs": [],
   "source": [
    "list1 = [10, 20, 30, 40, 50]\n",
    "l=len(list1)\n",
    "nl=list1.reverse()\n",
    "print(nl)\n",
    "\n",
    "print(list1)\n",
    "print(list1[0])\n",
    "for i in list1:\n",
    "  print(list1[l-1])\n",
    "  l=l-1"
   ]
  },
  {
   "cell_type": "markdown",
   "metadata": {
    "application/vnd.databricks.v1+cell": {
     "cellMetadata": {},
     "inputWidgets": {},
     "nuid": "afc84485-fe0f-43a3-82cd-49b01920e160",
     "showTitle": false,
     "tableResultSettingsMap": {},
     "title": ""
    }
   },
   "source": [
    "9: Display numbers from -10 to -1 using for loop"
   ]
  },
  {
   "cell_type": "code",
   "execution_count": 0,
   "metadata": {
    "application/vnd.databricks.v1+cell": {
     "cellMetadata": {
      "byteLimit": 2048000,
      "rowLimit": 10000
     },
     "inputWidgets": {},
     "nuid": "b6b51cf6-a13f-4b9e-acfd-fbe54e4c3d06",
     "showTitle": false,
     "tableResultSettingsMap": {},
     "title": ""
    }
   },
   "outputs": [],
   "source": [
    "\n",
    "for i in range(-10,0):\n",
    "    print(i)"
   ]
  },
  {
   "cell_type": "markdown",
   "metadata": {
    "application/vnd.databricks.v1+cell": {
     "cellMetadata": {},
     "inputWidgets": {},
     "nuid": "18afca6a-2af9-4746-8cc1-cc741a281c42",
     "showTitle": false,
     "tableResultSettingsMap": {},
     "title": ""
    }
   },
   "source": [
    "10: Display a message “Done” after the successful execution of the for loop"
   ]
  },
  {
   "cell_type": "code",
   "execution_count": 0,
   "metadata": {
    "application/vnd.databricks.v1+cell": {
     "cellMetadata": {},
     "inputWidgets": {},
     "nuid": "01cd3e1f-b4cd-4da0-b6ae-c5a4288ed4db",
     "showTitle": false,
     "tableResultSettingsMap": {},
     "title": ""
    }
   },
   "outputs": [],
   "source": []
  },
  {
   "cell_type": "code",
   "execution_count": 0,
   "metadata": {
    "application/vnd.databricks.v1+cell": {
     "cellMetadata": {
      "byteLimit": 2048000,
      "rowLimit": 10000
     },
     "inputWidgets": {},
     "nuid": "b319bfaf-1533-4c16-8465-d66f115910a4",
     "showTitle": false,
     "tableResultSettingsMap": {},
     "title": ""
    }
   },
   "outputs": [],
   "source": [
    "for i in range(5,15,2):\n",
    "    print(i)\n",
    "print('Done')"
   ]
  },
  {
   "cell_type": "markdown",
   "metadata": {
    "application/vnd.databricks.v1+cell": {
     "cellMetadata": {},
     "inputWidgets": {},
     "nuid": "dba77e8b-56ab-4ff9-8cc1-179475116de1",
     "showTitle": false,
     "tableResultSettingsMap": {},
     "title": ""
    }
   },
   "source": [
    "11: Print all prime numbers within a range\n",
    "\n",
    "Note: A Prime Number is a number that can only be divided by itself and 1 without remainders (e.g., 2, 3, 5, 7, 11)\n",
    "\n",
    "A Prime Number is a natural number greater than 1 that cannot be made by multiplying other whole numbers.\n",
    "\n",
    "Examples:\n",
    "\n",
    "6 is not a prime number because it can be made by 2×3 = 6\n",
    "37 is a prime number because no other whole numbers multiply to make it."
   ]
  },
  {
   "cell_type": "code",
   "execution_count": 0,
   "metadata": {
    "application/vnd.databricks.v1+cell": {
     "cellMetadata": {},
     "inputWidgets": {},
     "nuid": "83d06ef7-2499-4ac2-92d3-07d4083cbc70",
     "showTitle": false,
     "tableResultSettingsMap": {},
     "title": ""
    }
   },
   "outputs": [],
   "source": [
    "for i in range(n):\n",
    "    if i>1:\n"
   ]
  },
  {
   "cell_type": "code",
   "execution_count": 0,
   "metadata": {
    "application/vnd.databricks.v1+cell": {
     "cellMetadata": {},
     "inputWidgets": {},
     "nuid": "d049601b-f64b-44fd-8f8c-b4ef589465f9",
     "showTitle": false,
     "tableResultSettingsMap": {},
     "title": ""
    }
   },
   "outputs": [],
   "source": [
    "n=int(input(\"ENTER THE start RANGE\"))\n",
    "m=int(input(\"ENTER THE start RANGE\"))\n",
    "for i in range(n,m+1):\n",
    "    if i<=1:\n",
    "        continue\n",
    "    for j in range(2,int(n**0.5)+1):\n",
    "        if (i%j==0):\n",
    "            break\n",
    "    else:\n",
    "        print(i)\n"
   ]
  },
  {
   "cell_type": "code",
   "execution_count": 0,
   "metadata": {
    "application/vnd.databricks.v1+cell": {
     "cellMetadata": {
      "byteLimit": 2048000,
      "rowLimit": 10000
     },
     "inputWidgets": {},
     "nuid": "41494606-14f3-4d26-a7bf-d65a60499ef3",
     "showTitle": false,
     "tableResultSettingsMap": {},
     "title": ""
    }
   },
   "outputs": [],
   "source": [
    "n = int(input(\"ENTER THE start RANGE: \"))\n",
    "m = int(input(\"ENTER THE end RANGE: \"))\n",
    "\n",
    "for i in range(n, m + 1):\n",
    "    if i <= 1:\n",
    "        continue  # Skip 0 and 1\n",
    "    for j in range(2, int(i**0.5) + 1):\n",
    "        if i % j == 0:\n",
    "            break\n",
    "    else:\n",
    "        print(\"Prime\", i)\n"
   ]
  },
  {
   "cell_type": "markdown",
   "metadata": {
    "application/vnd.databricks.v1+cell": {
     "cellMetadata": {},
     "inputWidgets": {},
     "nuid": "a8560650-f551-4dca-b5da-8a2a1ccacf6d",
     "showTitle": false,
     "tableResultSettingsMap": {},
     "title": ""
    }
   },
   "source": [
    "12: Display Fibonacci series up to 10 terms\n",
    "\n",
    "Have you ever wondered about the Fibonacci Sequence? It’s a series of numbers in which the next number is found by adding up the two numbers before it. The first two numbers are 0 and 1.\n",
    "\n",
    "For example, 0, 1, 1, 2, 3, 5, 8, 13, 21. The next number in this series is 13 + 21 = 34\n"
   ]
  },
  {
   "cell_type": "code",
   "execution_count": 0,
   "metadata": {
    "application/vnd.databricks.v1+cell": {
     "cellMetadata": {
      "byteLimit": 2048000,
      "rowLimit": 10000
     },
     "inputWidgets": {},
     "nuid": "2ccd5bdf-e06e-4f7f-b44e-dbab80df8269",
     "showTitle": false,
     "tableResultSettingsMap": {},
     "title": ""
    }
   },
   "outputs": [],
   "source": [
    "i=0\n",
    "j=1\n",
    "for x in range(0,10):\n",
    "    print(i)\n",
    "    i=i+j\n",
    "    j=i-j"
   ]
  },
  {
   "cell_type": "markdown",
   "metadata": {
    "application/vnd.databricks.v1+cell": {
     "cellMetadata": {},
     "inputWidgets": {},
     "nuid": "45f678cb-ebe6-4f59-b42c-38fa125f7a0a",
     "showTitle": false,
     "tableResultSettingsMap": {},
     "title": ""
    }
   },
   "source": [
    "Find the factorial of a given number\n",
    "Write a Python program to use for loop to find the factorial of a given number.\n",
    "\n",
    "The factorial (symbol: !) means multiplying all numbers from the chosen number down to 1.\n",
    "\n",
    "For example, a factorial of 5! is 5 × 4 × 3 × 2 × 1 = 120"
   ]
  },
  {
   "cell_type": "code",
   "execution_count": 0,
   "metadata": {
    "application/vnd.databricks.v1+cell": {
     "cellMetadata": {
      "byteLimit": 2048000,
      "rowLimit": 10000
     },
     "inputWidgets": {},
     "nuid": "fc191c50-b167-422f-b2c2-e948cc70ad0c",
     "showTitle": false,
     "tableResultSettingsMap": {},
     "title": ""
    }
   },
   "outputs": [],
   "source": [
    "n=int(input('enter the number'))\n",
    "j=1\n",
    "for i in range(1,n+1):\n",
    "    j=j*i\n",
    "print(j)\n"
   ]
  },
  {
   "cell_type": "markdown",
   "metadata": {
    "application/vnd.databricks.v1+cell": {
     "cellMetadata": {},
     "inputWidgets": {},
     "nuid": "d52f84dc-af78-4738-a707-0ace0e79b997",
     "showTitle": false,
     "tableResultSettingsMap": {},
     "title": ""
    }
   },
   "source": [
    "Reverse a integer number\n",
    "Given:\n",
    "\n",
    "76542\n",
    "\n",
    "Expected output:\n",
    "\n",
    "24567"
   ]
  },
  {
   "cell_type": "code",
   "execution_count": 0,
   "metadata": {
    "application/vnd.databricks.v1+cell": {
     "cellMetadata": {
      "byteLimit": 2048000,
      "rowLimit": 10000
     },
     "inputWidgets": {},
     "nuid": "b21820e6-7bfd-438a-aad9-5cc63832bcc4",
     "showTitle": false,
     "tableResultSettingsMap": {},
     "title": ""
    }
   },
   "outputs": [],
   "source": [
    "n=int(input('enter the number'))\n",
    "m=str(n)[::-1]\n",
    "if n<0:\n",
    "    n=int('-'+m[:-1])\n",
    "else:\n",
    "    n=int(m)\n",
    "print(n)\n"
   ]
  },
  {
   "cell_type": "markdown",
   "metadata": {
    "application/vnd.databricks.v1+cell": {
     "cellMetadata": {},
     "inputWidgets": {},
     "nuid": "76524f89-6a26-46bc-ba64-9dfcfd289abd",
     "showTitle": false,
     "tableResultSettingsMap": {},
     "title": ""
    }
   },
   "source": [
    "15: Print elements from a given list present at odd index positions\n",
    "\n",
    "Given:\n",
    "\n",
    "my_list = [10, 20, 30, 40, 50, 60, 70, 80, 90, 100]\n",
    "Note: The list index always starts at 0"
   ]
  },
  {
   "cell_type": "code",
   "execution_count": 0,
   "metadata": {
    "application/vnd.databricks.v1+cell": {
     "cellMetadata": {
      "byteLimit": 2048000,
      "rowLimit": 10000
     },
     "inputWidgets": {},
     "nuid": "86b8286e-91d0-4d8c-8a96-d0124ffbd209",
     "showTitle": false,
     "tableResultSettingsMap": {},
     "title": ""
    }
   },
   "outputs": [],
   "source": [
    "my_list = [10, 20, 30, 40, 50, 60, 70, 80, 90, 100]\n",
    "l=len(my_list)\n",
    "for i in range(l):\n",
    "    if i%2!=0:\n",
    "        print(my_list[i])\n",
    "for i in my_list[1::2]:\n",
    "    print(i, end=\" \")\n"
   ]
  },
  {
   "cell_type": "markdown",
   "metadata": {
    "application/vnd.databricks.v1+cell": {
     "cellMetadata": {},
     "inputWidgets": {},
     "nuid": "8c5161a7-a7df-4790-8d73-a2c1b1ed701b",
     "showTitle": false,
     "tableResultSettingsMap": {},
     "title": ""
    }
   },
   "source": [
    " Calculate the cube of all numbers from 1 to a given number"
   ]
  },
  {
   "cell_type": "code",
   "execution_count": 0,
   "metadata": {
    "application/vnd.databricks.v1+cell": {
     "cellMetadata": {
      "byteLimit": 2048000,
      "rowLimit": 10000
     },
     "inputWidgets": {},
     "nuid": "acc3b8d3-bf20-42ff-a0e1-06452665eae0",
     "showTitle": false,
     "tableResultSettingsMap": {},
     "title": ""
    }
   },
   "outputs": [],
   "source": [
    "n=int(input('enter the number rnage '))\n",
    "for i in range(1,n+1):\n",
    "    print(i*i*i)"
   ]
  },
  {
   "cell_type": "markdown",
   "metadata": {
    "application/vnd.databricks.v1+cell": {
     "cellMetadata": {},
     "inputWidgets": {},
     "nuid": "d1297565-5095-4356-bbc3-b757537cfc5a",
     "showTitle": false,
     "tableResultSettingsMap": {},
     "title": ""
    }
   },
   "source": [
    "- 17: Find the sum of a series of a number up to n terms\n",
    "\n",
    "Write a program to calculate the sum of this series up to n terms. For example, if the number is 2 and the number of terms is 5, then the series will be 2+22+222+2222+22222=2469"
   ]
  },
  {
   "cell_type": "code",
   "execution_count": 0,
   "metadata": {
    "application/vnd.databricks.v1+cell": {
     "cellMetadata": {
      "byteLimit": 2048000,
      "rowLimit": 10000
     },
     "inputWidgets": {},
     "nuid": "685216c2-9f1f-432d-a841-00b830a4f3a3",
     "showTitle": false,
     "tableResultSettingsMap": {},
     "title": ""
    }
   },
   "outputs": [],
   "source": [
    "num = 2\n",
    "terms = 5\n",
    "tot=0\n",
    "num1=num\n",
    "for i in range(terms):\n",
    "    num=num*10+num1\n",
    "    tot=tot+num\n",
    "    print(num)\n",
    "print(tot)"
   ]
  },
  {
   "cell_type": "markdown",
   "metadata": {
    "application/vnd.databricks.v1+cell": {
     "cellMetadata": {},
     "inputWidgets": {},
     "nuid": "98f2a11d-a11c-4c2d-9d35-822dc08261a5",
     "showTitle": false,
     "tableResultSettingsMap": {},
     "title": ""
    }
   },
   "source": [
    "Write a program to print the following start pattern using the for loop\n",
    "\n",
    "## * \n",
    "## * * \n",
    "## * * * \n",
    "## * * * * \n",
    "## * * * * * \n",
    "## * * * * \n",
    "## * * * \n",
    "## * * \n",
    "## *"
   ]
  },
  {
   "cell_type": "code",
   "execution_count": 0,
   "metadata": {
    "application/vnd.databricks.v1+cell": {
     "cellMetadata": {
      "byteLimit": 2048000,
      "rowLimit": 10000
     },
     "inputWidgets": {},
     "nuid": "7487bde6-d798-4e4c-af7e-3fe1fb237863",
     "showTitle": false,
     "tableResultSettingsMap": {},
     "title": ""
    }
   },
   "outputs": [],
   "source": [
    "for i in range(1,7):\n",
    "    for j in range(1,i):\n",
    "        print(\"*\",end=\" \")\n",
    "    print('\\n')\n",
    "x=5\n",
    "for i in range(1,6):\n",
    "    for j in range(1,x):\n",
    "        print(\"*\",end=\" \")\n",
    "    x=x-1\n",
    "    print('\\n')"
   ]
  },
  {
   "cell_type": "code",
   "execution_count": 0,
   "metadata": {
    "application/vnd.databricks.v1+cell": {
     "cellMetadata": {
      "byteLimit": 2048000,
      "rowLimit": 10000
     },
     "inputWidgets": {},
     "nuid": "d28f3e59-d429-4764-9e0b-e68ada3162b8",
     "showTitle": false,
     "tableResultSettingsMap": {},
     "title": ""
    }
   },
   "outputs": [],
   "source": [
    "for i in range(1, 6):\n",
    "    print(\"* \" * i)\n",
    "\n",
    "for i in range(4, 0, -1):\n",
    "    print(\"* \" * i)\n",
    "\n",
    "\n",
    "#print(\"* \" * i)\n",
    "#\"* \" is a string: a star followed by a space.\n",
    "\n",
    "#* i means repeat the string i times."
   ]
  },
  {
   "cell_type": "markdown",
   "metadata": {
    "application/vnd.databricks.v1+cell": {
     "cellMetadata": {},
     "inputWidgets": {},
     "nuid": "0e9fe4ef-f01c-4ce5-b414-ecf1b284c1fd",
     "showTitle": false,
     "tableResultSettingsMap": {},
     "title": ""
    }
   },
   "source": [
    " Print Full Multiplication Table\n",
    "The multiplication table from 1 to 10 is a table that shows the products of numbers from 1 to 10.\n",
    "\n",
    "Write a code to generates a complete multiplication table for numbers 1 through 10.\n",
    "\n",
    "Given:\n",
    "\n",
    "multiplication table of: 1\n",
    " 1 2 3 4 5 6 7 8 9 10\n",
    "multiplication table of: 2\n",
    " 2 4 6 8 10 12 14 16 18 20\n",
    "multiplication table of: 3\n",
    " 3 6 9 12 15 18 21 24 27 30"
   ]
  },
  {
   "cell_type": "code",
   "execution_count": 0,
   "metadata": {
    "application/vnd.databricks.v1+cell": {
     "cellMetadata": {
      "byteLimit": 2048000,
      "rowLimit": 10000
     },
     "inputWidgets": {},
     "nuid": "ab70dd7b-a506-454a-9dc6-0c2e981f15cc",
     "showTitle": false,
     "tableResultSettingsMap": {},
     "title": ""
    }
   },
   "outputs": [],
   "source": [
    "for i in range(1,11):\n",
    "    print('multipication table of ',i,'is')\n",
    "    for j in range(1,11):\n",
    "        print(i*j,end=\" \")\n",
    "    print('\\n')"
   ]
  },
  {
   "cell_type": "markdown",
   "metadata": {
    "application/vnd.databricks.v1+cell": {
     "cellMetadata": {},
     "inputWidgets": {},
     "nuid": "90f5cb39-8170-4af1-9d13-eee1f2620d92",
     "showTitle": false,
     "tableResultSettingsMap": {},
     "title": ""
    }
   },
   "source": [
    "Print the alternate numbers pattern\n",
    "Pattern:\n",
    "\n",
    "1  \n",
    "\n",
    "2 3  \n",
    "\n",
    "4 5 6  \n",
    "\n",
    "7 8 9 10  \n",
    "\n",
    "11 12 13 14 15"
   ]
  },
  {
   "cell_type": "code",
   "execution_count": 0,
   "metadata": {
    "application/vnd.databricks.v1+cell": {
     "cellMetadata": {
      "byteLimit": 2048000,
      "rowLimit": 10000
     },
     "inputWidgets": {},
     "nuid": "2e7689ea-5a0f-492e-8568-95951e5de114",
     "showTitle": false,
     "tableResultSettingsMap": {},
     "title": ""
    }
   },
   "outputs": [],
   "source": [
    "for i in range(1, 6):\n",
    "    for j in range(1, i):\n",
    "        print(j, end=\" \")\n",
    "    print()\n",
    "    \n",
    "     \n"
   ]
  },
  {
   "cell_type": "markdown",
   "metadata": {
    "application/vnd.databricks.v1+cell": {
     "cellMetadata": {},
     "inputWidgets": {},
     "nuid": "d4346fb1-c55b-48e4-a01d-85f252f1fb25",
     "showTitle": false,
     "tableResultSettingsMap": {},
     "title": ""
    }
   },
   "source": [
    "Flatten a nested list using loops\n",
    "Write a program to flatten a nested list using loops.\n",
    "\n",
    "Given:\n",
    "\n",
    "nested_list = [1, [2, 3], [4, 5, 6], 7, [8, 9]]\n",
    "\n",
    "# write function 'flatten_list' to flatten a nested list\n",
    "flattened = flatten_list(nested_list)\n",
    "print(\"Flattened list:\", flattened)"
   ]
  },
  {
   "cell_type": "code",
   "execution_count": 0,
   "metadata": {
    "application/vnd.databricks.v1+cell": {
     "cellMetadata": {
      "byteLimit": 2048000,
      "rowLimit": 10000
     },
     "inputWidgets": {},
     "nuid": "1fa161c8-9160-4919-9a7a-cc6ff60fc9b2",
     "showTitle": false,
     "tableResultSettingsMap": {},
     "title": ""
    }
   },
   "outputs": [],
   "source": [
    "nested_list = [[1,2], [2, 3], [4, 5, 6], 7, [8, 9]]\n",
    "\n",
    "print(nested_list)\n",
    "print(type(nested_list))\n",
    "for x in nested_list:\n",
    "    for j in x:\n",
    "        print(j)\n",
    "        print(x)"
   ]
  },
  {
   "cell_type": "code",
   "execution_count": 0,
   "metadata": {
    "application/vnd.databricks.v1+cell": {
     "cellMetadata": {},
     "inputWidgets": {},
     "nuid": "60c60a3d-6ac7-444e-a1f3-c8b20683b620",
     "showTitle": false,
     "tableResultSettingsMap": {},
     "title": ""
    }
   },
   "outputs": [],
   "source": [
    "%mdFind largest and smallest digit in a number\n",
    "\n",
    "Write a program in Python identifies the digit with the highest value and the digit with the lowest value within that number.\n",
    "\n",
    "Input:argest digit in 9876543210: 9\n",
    "Smallest digit in 987654321: 1\n",
    "\n",
    "Largest digit in -5082: 8\n",
    "Smallest digit in -5082: 0"
   ]
  },
  {
   "cell_type": "code",
   "execution_count": 0,
   "metadata": {
    "application/vnd.databricks.v1+cell": {
     "cellMetadata": {
      "byteLimit": 2048000,
      "rowLimit": 10000
     },
     "inputWidgets": {},
     "nuid": "3ea22981-b500-4e74-b8ec-6a99b33b1217",
     "showTitle": false,
     "tableResultSettingsMap": {},
     "title": ""
    }
   },
   "outputs": [],
   "source": [
    "n=int(input('enter the number'))\n",
    "l=[]\n",
    "while n>0:\n",
    "    m=n%10\n",
    "    l.append(m)\n",
    "    n=n//10\n",
    "print(l)\n",
    "print('lrgest',max(l))\n",
    "print('smallest',min(l))"
   ]
  }
 ],
 "metadata": {
  "application/vnd.databricks.v1+notebook": {
   "computePreferences": null,
   "dashboards": [],
   "environmentMetadata": {
    "base_environment": "",
    "environment_version": "2"
   },
   "inputWidgetPreferences": null,
   "language": "python",
   "notebookMetadata": {
    "pythonIndentUnit": 4
   },
   "notebookName": "4.2",
   "widgets": {}
  },
  "language_info": {
   "name": "python"
  }
 },
 "nbformat": 4,
 "nbformat_minor": 0
}
